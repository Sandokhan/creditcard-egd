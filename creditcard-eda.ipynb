{
 "cells": [
  {
   "cell_type": "markdown",
   "source": [
    "# Credit Card Fraud\n",
    "\n",
    "Fraud activities are considered uncommon or outliers transactions, which is probably one of the main characteristics regarding Fraud. As the authors of the book Fraud Analytics using Descriptive, Predictive, and Social Network Techniques: A Guide to Data Science for Fraud Detection pointed out:\n",
    "\n",
    "“This makes it difficult [because of the outlier characteristic] to both detect fraud, since the fraudulent cases are covered by the non-fraudulent ones, and to learn from historical cases to build a powerful fraud-detection system since only few examples are available”\n",
    "\n",
    "Hence, it is imperative to overcome this issue considering the unbalanced nature of the data.\n",
    "\n",
    "In this project, we will use the credit card data available in [https://www.kaggle.com/mlg-ulb/creditcardfraud](https://www.kaggle.com/mlg-ulb/creditcardfraud). Moreover, we will use PySpark, an Interface for Apache Spark in Python, since it is an excellent tool dealing with Big Data.\n",
    "\n",
    "### Feature Technicalities:\n",
    "\n",
    "- PCA Transformation: The description of the data says that all the features went through a PCA transformation (Dimensionality Reduction technique) (Except for time and amount).\n",
    "- Scaling: In order to implement a PCA transformation features need to be previously scaled. (In this case, all the V features have been scaled)\n"
   ],
   "metadata": {
    "collapsed": false
   }
  },
  {
   "cell_type": "markdown",
   "source": [
    "# EDA - Exploratory Data Analysis"
   ],
   "metadata": {
    "collapsed": false
   }
  },
  {
   "cell_type": "code",
   "execution_count": 2,
   "outputs": [
    {
     "name": "stdout",
     "output_type": "stream",
     "text": [
      "23/05/05 06:31:43 WARN SparkContext: Another SparkContext is being constructed (or threw an exception in its constructor). This may indicate an error, since only one SparkContext should be running in this JVM (see SPARK-2243). The other SparkContext was created at:\n",
      "org.apache.spark.api.java.JavaSparkContext.<init>(JavaSparkContext.scala:58)\n",
      "java.base/jdk.internal.reflect.NativeConstructorAccessorImpl.newInstance0(Native Method)\n",
      "java.base/jdk.internal.reflect.NativeConstructorAccessorImpl.newInstance(NativeConstructorAccessorImpl.java:62)\n",
      "java.base/jdk.internal.reflect.DelegatingConstructorAccessorImpl.newInstance(DelegatingConstructorAccessorImpl.java:45)\n",
      "java.base/java.lang.reflect.Constructor.newInstance(Constructor.java:490)\n",
      "py4j.reflection.MethodInvoker.invoke(MethodInvoker.java:247)\n",
      "py4j.reflection.ReflectionEngine.invoke(ReflectionEngine.java:357)\n",
      "py4j.Gateway.invoke(Gateway.java:238)\n",
      "py4j.commands.ConstructorCommand.invokeConstructor(ConstructorCommand.java:80)\n",
      "py4j.commands.ConstructorCommand.execute(ConstructorCommand.java:69)\n",
      "py4j.ClientServerConnection.waitForCommands(ClientServerConnection.java:182)\n",
      "py4j.ClientServerConnection.run(ClientServerConnection.java:106)\n",
      "java.base/java.lang.Thread.run(Thread.java:829)\n"
     ]
    }
   ],
   "source": [
    "# Import libraries\n",
    "import datetime\n",
    "import seaborn as sns\n",
    "import matplotlib.pyplot as plt\n",
    "from matplotlib.ticker import FuncFormatter\n",
    "import warnings\n",
    "import pandas as pd\n",
    "warnings.filterwarnings('ignore')\n",
    "\n",
    "# Import PySpark libraries\n",
    "from pyspark.sql import Window\n",
    "import pyspark.sql.types as t\n",
    "import pyspark.sql.functions as f\n",
    "from pyspark.sql import SparkSession\n",
    "\n",
    "\n",
    "# Configure Spark Session\n",
    "spark = SparkSession.builder \\\n",
    "    .appName(\"Credit Card Fraud\") \\\n",
    "    .master(\"local[*]\") \\\n",
    "    .config(\"spark.driver.bindAddress\", '127.0.0.1') \\\n",
    "    .getOrCreate()\n",
    "sc = spark.sparkContext\n"
   ],
   "metadata": {
    "collapsed": false,
    "ExecuteTime": {
     "start_time": "2023-05-05T06:31:43.377372Z",
     "end_time": "2023-05-05T06:31:45.376591Z"
    }
   }
  },
  {
   "cell_type": "code",
   "execution_count": 3,
   "outputs": [
    {
     "name": "stderr",
     "output_type": "stream",
     "text": [
      "[Stage 1:>                                                          (0 + 8) / 8]\r"
     ]
    },
    {
     "name": "stdout",
     "output_type": "stream",
     "text": [
      "root\n",
      " |-- Time: double (nullable = true)\n",
      " |-- V1: double (nullable = true)\n",
      " |-- V2: double (nullable = true)\n",
      " |-- V3: double (nullable = true)\n",
      " |-- V4: double (nullable = true)\n",
      " |-- V5: double (nullable = true)\n",
      " |-- V6: double (nullable = true)\n",
      " |-- V7: double (nullable = true)\n",
      " |-- V8: double (nullable = true)\n",
      " |-- V9: double (nullable = true)\n",
      " |-- V10: double (nullable = true)\n",
      " |-- V11: double (nullable = true)\n",
      " |-- V12: double (nullable = true)\n",
      " |-- V13: double (nullable = true)\n",
      " |-- V14: double (nullable = true)\n",
      " |-- V15: double (nullable = true)\n",
      " |-- V16: double (nullable = true)\n",
      " |-- V17: double (nullable = true)\n",
      " |-- V18: double (nullable = true)\n",
      " |-- V19: double (nullable = true)\n",
      " |-- V20: double (nullable = true)\n",
      " |-- V21: double (nullable = true)\n",
      " |-- V22: double (nullable = true)\n",
      " |-- V23: double (nullable = true)\n",
      " |-- V24: double (nullable = true)\n",
      " |-- V25: double (nullable = true)\n",
      " |-- V26: double (nullable = true)\n",
      " |-- V27: double (nullable = true)\n",
      " |-- V28: double (nullable = true)\n",
      " |-- Amount: double (nullable = true)\n",
      " |-- Class: integer (nullable = true)\n",
      "\n"
     ]
    },
    {
     "name": "stderr",
     "output_type": "stream",
     "text": [
      "                                                                                \r"
     ]
    }
   ],
   "source": [
    "# Load file\n",
    "df = spark.read.csv('datasets/creditcard.csv', header=True, inferSchema=True, sep=\",\")\n",
    "# Print Schema\n",
    "df.printSchema()"
   ],
   "metadata": {
    "collapsed": false,
    "ExecuteTime": {
     "start_time": "2023-05-05T06:31:52.722893Z",
     "end_time": "2023-05-05T06:32:02.391127Z"
    }
   }
  },
  {
   "cell_type": "code",
   "execution_count": 4,
   "outputs": [
    {
     "name": "stdout",
     "output_type": "stream",
     "text": [
      "Number of columns: 31\n"
     ]
    },
    {
     "name": "stderr",
     "output_type": "stream",
     "text": [
      "[Stage 2:>                                                          (0 + 8) / 8]\r"
     ]
    },
    {
     "name": "stdout",
     "output_type": "stream",
     "text": [
      "Number of Records: 284807\n"
     ]
    },
    {
     "name": "stderr",
     "output_type": "stream",
     "text": [
      "                                                                                \r"
     ]
    }
   ],
   "source": [
    "# Spark DataFrame Shape\n",
    "print(f\"Number of columns: {len(df.columns)}\")\n",
    "print(f\"Number of Records: {df.count()}\")"
   ],
   "metadata": {
    "collapsed": false,
    "ExecuteTime": {
     "start_time": "2023-05-05T06:32:36.577248Z",
     "end_time": "2023-05-05T06:32:38.625694Z"
    }
   }
  },
  {
   "cell_type": "markdown",
   "source": [
    "The dataset contains **284,807 records** and consists of **31 columns**. Out of these columns, **28 columns (V1 to V28)** are results of the **Principal Component Analysis (PCA)** technique. These columns are likely to be more abstract in nature since they are generated from linear combinations of the original features. Therefore, it may be difficult to interpret the individual contributions of these features towards the prediction task.\n",
    "\n",
    "On the other hand, the remaining three columns are:\n",
    "\n",
    "- **Time**: This column indicates the time elapsed in seconds between each transaction and the first transaction in the dataset.\n",
    "- **Amount**: This column indicates the transaction amount.\n",
    "- **Class**: This column indicates the fraud status of the transaction. The value 1 indicates fraud, and 0 indicates a legitimate transaction.\n",
    "\n",
    "It is important to note that since the **PCA** technique is used, the original feature names and descriptions are not available. Therefore, feature engineering might be necessary to extract meaningful features from the given dataset.\n"
   ],
   "metadata": {
    "collapsed": false
   }
  },
  {
   "cell_type": "code",
   "execution_count": 5,
   "outputs": [
    {
     "name": "stdout",
     "output_type": "stream",
     "text": [
      "23/05/02 21:54:09 WARN package: Truncated the string representation of a plan since it was too large. This behavior can be adjusted by setting 'spark.sql.debug.maxToStringFields'.\n"
     ]
    },
    {
     "data": {
      "text/plain": "   Time        V1        V2        V3        V4        V5        V6        V7  \\\n0   0.0 -1.359807 -0.072781  2.536347  1.378155 -0.338321  0.462388  0.239599   \n1   0.0  1.191857  0.266151  0.166480  0.448154  0.060018 -0.082361 -0.078803   \n2   1.0 -1.358354 -1.340163  1.773209  0.379780 -0.503198  1.800499  0.791461   \n3   1.0 -0.966272 -0.185226  1.792993 -0.863291 -0.010309  1.247203  0.237609   \n4   2.0 -1.158233  0.877737  1.548718  0.403034 -0.407193  0.095921  0.592941   \n5   2.0 -0.425966  0.960523  1.141109 -0.168252  0.420987 -0.029728  0.476201   \n6   4.0  1.229658  0.141004  0.045371  1.202613  0.191881  0.272708 -0.005159   \n7   7.0 -0.644269  1.417964  1.074380 -0.492199  0.948934  0.428118  1.120631   \n8   7.0 -0.894286  0.286157 -0.113192 -0.271526  2.669599  3.721818  0.370145   \n9   9.0 -0.338262  1.119593  1.044367 -0.222187  0.499361 -0.246761  0.651583   \n\n         V8        V9  ...       V21       V22       V23       V24       V25  \\\n0  0.098698  0.363787  ... -0.018307  0.277838 -0.110474  0.066928  0.128539   \n1  0.085102 -0.255425  ... -0.225775 -0.638672  0.101288 -0.339846  0.167170   \n2  0.247676 -1.514654  ...  0.247998  0.771679  0.909412 -0.689281 -0.327642   \n3  0.377436 -1.387024  ... -0.108300  0.005274 -0.190321 -1.175575  0.647376   \n4 -0.270533  0.817739  ... -0.009431  0.798278 -0.137458  0.141267 -0.206010   \n5  0.260314 -0.568671  ... -0.208254 -0.559825 -0.026398 -0.371427 -0.232794   \n6  0.081213  0.464960  ... -0.167716 -0.270710 -0.154104 -0.780055  0.750137   \n7 -3.807864  0.615375  ...  1.943465 -1.015455  0.057504 -0.649709 -0.415267   \n8  0.851084 -0.392048  ... -0.073425 -0.268092 -0.204233  1.011592  0.373205   \n9  0.069539 -0.736727  ... -0.246914 -0.633753 -0.120794 -0.385050 -0.069733   \n\n        V26       V27       V28  Amount  Class  \n0 -0.189115  0.133558 -0.021053  149.62      0  \n1  0.125895 -0.008983  0.014724    2.69      0  \n2 -0.139097 -0.055353 -0.059752  378.66      0  \n3 -0.221929  0.062723  0.061458  123.50      0  \n4  0.502292  0.219422  0.215153   69.99      0  \n5  0.105915  0.253844  0.081080    3.67      0  \n6 -0.257237  0.034507  0.005168    4.99      0  \n7 -0.051634 -1.206921 -1.085339   40.80      0  \n8 -0.384157  0.011747  0.142404   93.20      0  \n9  0.094199  0.246219  0.083076    3.68      0  \n\n[10 rows x 31 columns]",
      "text/html": "<div>\n<style scoped>\n    .dataframe tbody tr th:only-of-type {\n        vertical-align: middle;\n    }\n\n    .dataframe tbody tr th {\n        vertical-align: top;\n    }\n\n    .dataframe thead th {\n        text-align: right;\n    }\n</style>\n<table border=\"1\" class=\"dataframe\">\n  <thead>\n    <tr style=\"text-align: right;\">\n      <th></th>\n      <th>Time</th>\n      <th>V1</th>\n      <th>V2</th>\n      <th>V3</th>\n      <th>V4</th>\n      <th>V5</th>\n      <th>V6</th>\n      <th>V7</th>\n      <th>V8</th>\n      <th>V9</th>\n      <th>...</th>\n      <th>V21</th>\n      <th>V22</th>\n      <th>V23</th>\n      <th>V24</th>\n      <th>V25</th>\n      <th>V26</th>\n      <th>V27</th>\n      <th>V28</th>\n      <th>Amount</th>\n      <th>Class</th>\n    </tr>\n  </thead>\n  <tbody>\n    <tr>\n      <th>0</th>\n      <td>0.0</td>\n      <td>-1.359807</td>\n      <td>-0.072781</td>\n      <td>2.536347</td>\n      <td>1.378155</td>\n      <td>-0.338321</td>\n      <td>0.462388</td>\n      <td>0.239599</td>\n      <td>0.098698</td>\n      <td>0.363787</td>\n      <td>...</td>\n      <td>-0.018307</td>\n      <td>0.277838</td>\n      <td>-0.110474</td>\n      <td>0.066928</td>\n      <td>0.128539</td>\n      <td>-0.189115</td>\n      <td>0.133558</td>\n      <td>-0.021053</td>\n      <td>149.62</td>\n      <td>0</td>\n    </tr>\n    <tr>\n      <th>1</th>\n      <td>0.0</td>\n      <td>1.191857</td>\n      <td>0.266151</td>\n      <td>0.166480</td>\n      <td>0.448154</td>\n      <td>0.060018</td>\n      <td>-0.082361</td>\n      <td>-0.078803</td>\n      <td>0.085102</td>\n      <td>-0.255425</td>\n      <td>...</td>\n      <td>-0.225775</td>\n      <td>-0.638672</td>\n      <td>0.101288</td>\n      <td>-0.339846</td>\n      <td>0.167170</td>\n      <td>0.125895</td>\n      <td>-0.008983</td>\n      <td>0.014724</td>\n      <td>2.69</td>\n      <td>0</td>\n    </tr>\n    <tr>\n      <th>2</th>\n      <td>1.0</td>\n      <td>-1.358354</td>\n      <td>-1.340163</td>\n      <td>1.773209</td>\n      <td>0.379780</td>\n      <td>-0.503198</td>\n      <td>1.800499</td>\n      <td>0.791461</td>\n      <td>0.247676</td>\n      <td>-1.514654</td>\n      <td>...</td>\n      <td>0.247998</td>\n      <td>0.771679</td>\n      <td>0.909412</td>\n      <td>-0.689281</td>\n      <td>-0.327642</td>\n      <td>-0.139097</td>\n      <td>-0.055353</td>\n      <td>-0.059752</td>\n      <td>378.66</td>\n      <td>0</td>\n    </tr>\n    <tr>\n      <th>3</th>\n      <td>1.0</td>\n      <td>-0.966272</td>\n      <td>-0.185226</td>\n      <td>1.792993</td>\n      <td>-0.863291</td>\n      <td>-0.010309</td>\n      <td>1.247203</td>\n      <td>0.237609</td>\n      <td>0.377436</td>\n      <td>-1.387024</td>\n      <td>...</td>\n      <td>-0.108300</td>\n      <td>0.005274</td>\n      <td>-0.190321</td>\n      <td>-1.175575</td>\n      <td>0.647376</td>\n      <td>-0.221929</td>\n      <td>0.062723</td>\n      <td>0.061458</td>\n      <td>123.50</td>\n      <td>0</td>\n    </tr>\n    <tr>\n      <th>4</th>\n      <td>2.0</td>\n      <td>-1.158233</td>\n      <td>0.877737</td>\n      <td>1.548718</td>\n      <td>0.403034</td>\n      <td>-0.407193</td>\n      <td>0.095921</td>\n      <td>0.592941</td>\n      <td>-0.270533</td>\n      <td>0.817739</td>\n      <td>...</td>\n      <td>-0.009431</td>\n      <td>0.798278</td>\n      <td>-0.137458</td>\n      <td>0.141267</td>\n      <td>-0.206010</td>\n      <td>0.502292</td>\n      <td>0.219422</td>\n      <td>0.215153</td>\n      <td>69.99</td>\n      <td>0</td>\n    </tr>\n    <tr>\n      <th>5</th>\n      <td>2.0</td>\n      <td>-0.425966</td>\n      <td>0.960523</td>\n      <td>1.141109</td>\n      <td>-0.168252</td>\n      <td>0.420987</td>\n      <td>-0.029728</td>\n      <td>0.476201</td>\n      <td>0.260314</td>\n      <td>-0.568671</td>\n      <td>...</td>\n      <td>-0.208254</td>\n      <td>-0.559825</td>\n      <td>-0.026398</td>\n      <td>-0.371427</td>\n      <td>-0.232794</td>\n      <td>0.105915</td>\n      <td>0.253844</td>\n      <td>0.081080</td>\n      <td>3.67</td>\n      <td>0</td>\n    </tr>\n    <tr>\n      <th>6</th>\n      <td>4.0</td>\n      <td>1.229658</td>\n      <td>0.141004</td>\n      <td>0.045371</td>\n      <td>1.202613</td>\n      <td>0.191881</td>\n      <td>0.272708</td>\n      <td>-0.005159</td>\n      <td>0.081213</td>\n      <td>0.464960</td>\n      <td>...</td>\n      <td>-0.167716</td>\n      <td>-0.270710</td>\n      <td>-0.154104</td>\n      <td>-0.780055</td>\n      <td>0.750137</td>\n      <td>-0.257237</td>\n      <td>0.034507</td>\n      <td>0.005168</td>\n      <td>4.99</td>\n      <td>0</td>\n    </tr>\n    <tr>\n      <th>7</th>\n      <td>7.0</td>\n      <td>-0.644269</td>\n      <td>1.417964</td>\n      <td>1.074380</td>\n      <td>-0.492199</td>\n      <td>0.948934</td>\n      <td>0.428118</td>\n      <td>1.120631</td>\n      <td>-3.807864</td>\n      <td>0.615375</td>\n      <td>...</td>\n      <td>1.943465</td>\n      <td>-1.015455</td>\n      <td>0.057504</td>\n      <td>-0.649709</td>\n      <td>-0.415267</td>\n      <td>-0.051634</td>\n      <td>-1.206921</td>\n      <td>-1.085339</td>\n      <td>40.80</td>\n      <td>0</td>\n    </tr>\n    <tr>\n      <th>8</th>\n      <td>7.0</td>\n      <td>-0.894286</td>\n      <td>0.286157</td>\n      <td>-0.113192</td>\n      <td>-0.271526</td>\n      <td>2.669599</td>\n      <td>3.721818</td>\n      <td>0.370145</td>\n      <td>0.851084</td>\n      <td>-0.392048</td>\n      <td>...</td>\n      <td>-0.073425</td>\n      <td>-0.268092</td>\n      <td>-0.204233</td>\n      <td>1.011592</td>\n      <td>0.373205</td>\n      <td>-0.384157</td>\n      <td>0.011747</td>\n      <td>0.142404</td>\n      <td>93.20</td>\n      <td>0</td>\n    </tr>\n    <tr>\n      <th>9</th>\n      <td>9.0</td>\n      <td>-0.338262</td>\n      <td>1.119593</td>\n      <td>1.044367</td>\n      <td>-0.222187</td>\n      <td>0.499361</td>\n      <td>-0.246761</td>\n      <td>0.651583</td>\n      <td>0.069539</td>\n      <td>-0.736727</td>\n      <td>...</td>\n      <td>-0.246914</td>\n      <td>-0.633753</td>\n      <td>-0.120794</td>\n      <td>-0.385050</td>\n      <td>-0.069733</td>\n      <td>0.094199</td>\n      <td>0.246219</td>\n      <td>0.083076</td>\n      <td>3.68</td>\n      <td>0</td>\n    </tr>\n  </tbody>\n</table>\n<p>10 rows × 31 columns</p>\n</div>"
     },
     "execution_count": 5,
     "metadata": {},
     "output_type": "execute_result"
    }
   ],
   "source": [
    "# Inspecting the first 10 records\n",
    "df.limit(10).toPandas()"
   ],
   "metadata": {
    "collapsed": false,
    "ExecuteTime": {
     "start_time": "2023-05-02T21:54:09.639777Z",
     "end_time": "2023-05-02T21:54:10.008943Z"
    }
   }
  },
  {
   "cell_type": "code",
   "execution_count": 6,
   "outputs": [
    {
     "name": "stderr",
     "output_type": "stream",
     "text": [
      "                                                                                \r"
     ]
    },
    {
     "data": {
      "text/plain": "           count          mean           std         min           25%  \\\nTime    284807.0  9.481386e+04  47488.145955    0.000000  54201.500000   \nV1      284807.0  1.168375e-15      1.958696  -56.407510     -0.920373   \nV2      284807.0  3.416908e-16      1.651309  -72.715728     -0.598550   \nV3      284807.0 -1.379537e-15      1.516255  -48.325589     -0.890365   \nV4      284807.0  2.074095e-15      1.415869   -5.683171     -0.848640   \nV5      284807.0  9.604066e-16      1.380247 -113.743307     -0.691597   \nV6      284807.0  1.487313e-15      1.332271  -26.160506     -0.768296   \nV7      284807.0 -5.556467e-16      1.237094  -43.557242     -0.554076   \nV8      284807.0  1.205498e-16      1.194353  -73.216718     -0.208630   \nV9      284807.0 -2.406306e-15      1.098632  -13.434066     -0.643098   \nV10     284807.0  2.238853e-15      1.088850  -24.588262     -0.535426   \nV11     284807.0  1.673327e-15      1.020713   -4.797473     -0.762494   \nV12     284807.0 -1.247012e-15      0.999201  -18.683715     -0.405571   \nV13     284807.0  8.190001e-16      0.995274   -5.791881     -0.648539   \nV14     284807.0  1.207294e-15      0.958596  -19.214325     -0.425574   \nV15     284807.0  4.887456e-15      0.915316   -4.498945     -0.582884   \nV16     284807.0  1.437516e-15      0.876253  -14.129855     -0.468037   \nV17     284807.0 -3.740237e-16      0.849337  -25.162799     -0.483748   \nV18     284807.0  9.564149e-16      0.838176   -9.498746     -0.498850   \nV19     284807.0  1.039917e-15      0.814041   -7.213527     -0.456299   \nV20     284807.0  6.407202e-16      0.770925  -54.497720     -0.211721   \nV21     284807.0  1.656562e-16      0.734524  -34.830382     -0.228395   \nV22     284807.0 -3.568593e-16      0.725702  -10.933144     -0.542350   \nV23     284807.0  2.610582e-16      0.624460  -44.807735     -0.161846   \nV24     284807.0  4.473066e-15      0.605647   -2.836627     -0.354586   \nV25     284807.0  5.213180e-16      0.521278  -10.295397     -0.317145   \nV26     284807.0  1.683537e-15      0.482227   -2.604551     -0.326984   \nV27     284807.0 -3.659966e-16      0.403632  -22.565679     -0.070840   \nV28     284807.0 -1.223710e-16      0.330083  -15.430084     -0.052960   \nAmount  284807.0  8.834962e+01    250.120109    0.000000      5.600000   \nClass   284807.0  1.727486e-03      0.041527    0.000000      0.000000   \n\n                 50%            75%            max  \nTime    84692.000000  139320.500000  172792.000000  \nV1          0.018109       1.315642       2.454930  \nV2          0.065486       0.803724      22.057729  \nV3          0.179846       1.027196       9.382558  \nV4         -0.019847       0.743341      16.875344  \nV5         -0.054336       0.611926      34.801666  \nV6         -0.274187       0.398565      73.301626  \nV7          0.040103       0.570436     120.589494  \nV8          0.022358       0.327346      20.007208  \nV9         -0.051429       0.597139      15.594995  \nV10        -0.092917       0.453923      23.745136  \nV11        -0.032757       0.739593      12.018913  \nV12         0.140033       0.618238       7.848392  \nV13        -0.013568       0.662505       7.126883  \nV14         0.050601       0.493150      10.526766  \nV15         0.048072       0.648821       8.877742  \nV16         0.066413       0.523296      17.315112  \nV17        -0.065676       0.399675       9.253526  \nV18        -0.003636       0.500807       5.041069  \nV19         0.003735       0.458949       5.591971  \nV20        -0.062481       0.133041      39.420904  \nV21        -0.029450       0.186377      27.202839  \nV22         0.006782       0.528554      10.503090  \nV23        -0.011193       0.147642      22.528412  \nV24         0.040976       0.439527       4.584549  \nV25         0.016594       0.350716       7.519589  \nV26        -0.052139       0.240952       3.517346  \nV27         0.001342       0.091045      31.612198  \nV28         0.011244       0.078280      33.847808  \nAmount     22.000000      77.165000   25691.160000  \nClass       0.000000       0.000000       1.000000  ",
      "text/html": "<div>\n<style scoped>\n    .dataframe tbody tr th:only-of-type {\n        vertical-align: middle;\n    }\n\n    .dataframe tbody tr th {\n        vertical-align: top;\n    }\n\n    .dataframe thead th {\n        text-align: right;\n    }\n</style>\n<table border=\"1\" class=\"dataframe\">\n  <thead>\n    <tr style=\"text-align: right;\">\n      <th></th>\n      <th>count</th>\n      <th>mean</th>\n      <th>std</th>\n      <th>min</th>\n      <th>25%</th>\n      <th>50%</th>\n      <th>75%</th>\n      <th>max</th>\n    </tr>\n  </thead>\n  <tbody>\n    <tr>\n      <th>Time</th>\n      <td>284807.0</td>\n      <td>9.481386e+04</td>\n      <td>47488.145955</td>\n      <td>0.000000</td>\n      <td>54201.500000</td>\n      <td>84692.000000</td>\n      <td>139320.500000</td>\n      <td>172792.000000</td>\n    </tr>\n    <tr>\n      <th>V1</th>\n      <td>284807.0</td>\n      <td>1.168375e-15</td>\n      <td>1.958696</td>\n      <td>-56.407510</td>\n      <td>-0.920373</td>\n      <td>0.018109</td>\n      <td>1.315642</td>\n      <td>2.454930</td>\n    </tr>\n    <tr>\n      <th>V2</th>\n      <td>284807.0</td>\n      <td>3.416908e-16</td>\n      <td>1.651309</td>\n      <td>-72.715728</td>\n      <td>-0.598550</td>\n      <td>0.065486</td>\n      <td>0.803724</td>\n      <td>22.057729</td>\n    </tr>\n    <tr>\n      <th>V3</th>\n      <td>284807.0</td>\n      <td>-1.379537e-15</td>\n      <td>1.516255</td>\n      <td>-48.325589</td>\n      <td>-0.890365</td>\n      <td>0.179846</td>\n      <td>1.027196</td>\n      <td>9.382558</td>\n    </tr>\n    <tr>\n      <th>V4</th>\n      <td>284807.0</td>\n      <td>2.074095e-15</td>\n      <td>1.415869</td>\n      <td>-5.683171</td>\n      <td>-0.848640</td>\n      <td>-0.019847</td>\n      <td>0.743341</td>\n      <td>16.875344</td>\n    </tr>\n    <tr>\n      <th>V5</th>\n      <td>284807.0</td>\n      <td>9.604066e-16</td>\n      <td>1.380247</td>\n      <td>-113.743307</td>\n      <td>-0.691597</td>\n      <td>-0.054336</td>\n      <td>0.611926</td>\n      <td>34.801666</td>\n    </tr>\n    <tr>\n      <th>V6</th>\n      <td>284807.0</td>\n      <td>1.487313e-15</td>\n      <td>1.332271</td>\n      <td>-26.160506</td>\n      <td>-0.768296</td>\n      <td>-0.274187</td>\n      <td>0.398565</td>\n      <td>73.301626</td>\n    </tr>\n    <tr>\n      <th>V7</th>\n      <td>284807.0</td>\n      <td>-5.556467e-16</td>\n      <td>1.237094</td>\n      <td>-43.557242</td>\n      <td>-0.554076</td>\n      <td>0.040103</td>\n      <td>0.570436</td>\n      <td>120.589494</td>\n    </tr>\n    <tr>\n      <th>V8</th>\n      <td>284807.0</td>\n      <td>1.205498e-16</td>\n      <td>1.194353</td>\n      <td>-73.216718</td>\n      <td>-0.208630</td>\n      <td>0.022358</td>\n      <td>0.327346</td>\n      <td>20.007208</td>\n    </tr>\n    <tr>\n      <th>V9</th>\n      <td>284807.0</td>\n      <td>-2.406306e-15</td>\n      <td>1.098632</td>\n      <td>-13.434066</td>\n      <td>-0.643098</td>\n      <td>-0.051429</td>\n      <td>0.597139</td>\n      <td>15.594995</td>\n    </tr>\n    <tr>\n      <th>V10</th>\n      <td>284807.0</td>\n      <td>2.238853e-15</td>\n      <td>1.088850</td>\n      <td>-24.588262</td>\n      <td>-0.535426</td>\n      <td>-0.092917</td>\n      <td>0.453923</td>\n      <td>23.745136</td>\n    </tr>\n    <tr>\n      <th>V11</th>\n      <td>284807.0</td>\n      <td>1.673327e-15</td>\n      <td>1.020713</td>\n      <td>-4.797473</td>\n      <td>-0.762494</td>\n      <td>-0.032757</td>\n      <td>0.739593</td>\n      <td>12.018913</td>\n    </tr>\n    <tr>\n      <th>V12</th>\n      <td>284807.0</td>\n      <td>-1.247012e-15</td>\n      <td>0.999201</td>\n      <td>-18.683715</td>\n      <td>-0.405571</td>\n      <td>0.140033</td>\n      <td>0.618238</td>\n      <td>7.848392</td>\n    </tr>\n    <tr>\n      <th>V13</th>\n      <td>284807.0</td>\n      <td>8.190001e-16</td>\n      <td>0.995274</td>\n      <td>-5.791881</td>\n      <td>-0.648539</td>\n      <td>-0.013568</td>\n      <td>0.662505</td>\n      <td>7.126883</td>\n    </tr>\n    <tr>\n      <th>V14</th>\n      <td>284807.0</td>\n      <td>1.207294e-15</td>\n      <td>0.958596</td>\n      <td>-19.214325</td>\n      <td>-0.425574</td>\n      <td>0.050601</td>\n      <td>0.493150</td>\n      <td>10.526766</td>\n    </tr>\n    <tr>\n      <th>V15</th>\n      <td>284807.0</td>\n      <td>4.887456e-15</td>\n      <td>0.915316</td>\n      <td>-4.498945</td>\n      <td>-0.582884</td>\n      <td>0.048072</td>\n      <td>0.648821</td>\n      <td>8.877742</td>\n    </tr>\n    <tr>\n      <th>V16</th>\n      <td>284807.0</td>\n      <td>1.437516e-15</td>\n      <td>0.876253</td>\n      <td>-14.129855</td>\n      <td>-0.468037</td>\n      <td>0.066413</td>\n      <td>0.523296</td>\n      <td>17.315112</td>\n    </tr>\n    <tr>\n      <th>V17</th>\n      <td>284807.0</td>\n      <td>-3.740237e-16</td>\n      <td>0.849337</td>\n      <td>-25.162799</td>\n      <td>-0.483748</td>\n      <td>-0.065676</td>\n      <td>0.399675</td>\n      <td>9.253526</td>\n    </tr>\n    <tr>\n      <th>V18</th>\n      <td>284807.0</td>\n      <td>9.564149e-16</td>\n      <td>0.838176</td>\n      <td>-9.498746</td>\n      <td>-0.498850</td>\n      <td>-0.003636</td>\n      <td>0.500807</td>\n      <td>5.041069</td>\n    </tr>\n    <tr>\n      <th>V19</th>\n      <td>284807.0</td>\n      <td>1.039917e-15</td>\n      <td>0.814041</td>\n      <td>-7.213527</td>\n      <td>-0.456299</td>\n      <td>0.003735</td>\n      <td>0.458949</td>\n      <td>5.591971</td>\n    </tr>\n    <tr>\n      <th>V20</th>\n      <td>284807.0</td>\n      <td>6.407202e-16</td>\n      <td>0.770925</td>\n      <td>-54.497720</td>\n      <td>-0.211721</td>\n      <td>-0.062481</td>\n      <td>0.133041</td>\n      <td>39.420904</td>\n    </tr>\n    <tr>\n      <th>V21</th>\n      <td>284807.0</td>\n      <td>1.656562e-16</td>\n      <td>0.734524</td>\n      <td>-34.830382</td>\n      <td>-0.228395</td>\n      <td>-0.029450</td>\n      <td>0.186377</td>\n      <td>27.202839</td>\n    </tr>\n    <tr>\n      <th>V22</th>\n      <td>284807.0</td>\n      <td>-3.568593e-16</td>\n      <td>0.725702</td>\n      <td>-10.933144</td>\n      <td>-0.542350</td>\n      <td>0.006782</td>\n      <td>0.528554</td>\n      <td>10.503090</td>\n    </tr>\n    <tr>\n      <th>V23</th>\n      <td>284807.0</td>\n      <td>2.610582e-16</td>\n      <td>0.624460</td>\n      <td>-44.807735</td>\n      <td>-0.161846</td>\n      <td>-0.011193</td>\n      <td>0.147642</td>\n      <td>22.528412</td>\n    </tr>\n    <tr>\n      <th>V24</th>\n      <td>284807.0</td>\n      <td>4.473066e-15</td>\n      <td>0.605647</td>\n      <td>-2.836627</td>\n      <td>-0.354586</td>\n      <td>0.040976</td>\n      <td>0.439527</td>\n      <td>4.584549</td>\n    </tr>\n    <tr>\n      <th>V25</th>\n      <td>284807.0</td>\n      <td>5.213180e-16</td>\n      <td>0.521278</td>\n      <td>-10.295397</td>\n      <td>-0.317145</td>\n      <td>0.016594</td>\n      <td>0.350716</td>\n      <td>7.519589</td>\n    </tr>\n    <tr>\n      <th>V26</th>\n      <td>284807.0</td>\n      <td>1.683537e-15</td>\n      <td>0.482227</td>\n      <td>-2.604551</td>\n      <td>-0.326984</td>\n      <td>-0.052139</td>\n      <td>0.240952</td>\n      <td>3.517346</td>\n    </tr>\n    <tr>\n      <th>V27</th>\n      <td>284807.0</td>\n      <td>-3.659966e-16</td>\n      <td>0.403632</td>\n      <td>-22.565679</td>\n      <td>-0.070840</td>\n      <td>0.001342</td>\n      <td>0.091045</td>\n      <td>31.612198</td>\n    </tr>\n    <tr>\n      <th>V28</th>\n      <td>284807.0</td>\n      <td>-1.223710e-16</td>\n      <td>0.330083</td>\n      <td>-15.430084</td>\n      <td>-0.052960</td>\n      <td>0.011244</td>\n      <td>0.078280</td>\n      <td>33.847808</td>\n    </tr>\n    <tr>\n      <th>Amount</th>\n      <td>284807.0</td>\n      <td>8.834962e+01</td>\n      <td>250.120109</td>\n      <td>0.000000</td>\n      <td>5.600000</td>\n      <td>22.000000</td>\n      <td>77.165000</td>\n      <td>25691.160000</td>\n    </tr>\n    <tr>\n      <th>Class</th>\n      <td>284807.0</td>\n      <td>1.727486e-03</td>\n      <td>0.041527</td>\n      <td>0.000000</td>\n      <td>0.000000</td>\n      <td>0.000000</td>\n      <td>0.000000</td>\n      <td>1.000000</td>\n    </tr>\n  </tbody>\n</table>\n</div>"
     },
     "execution_count": 6,
     "metadata": {},
     "output_type": "execute_result"
    }
   ],
   "source": [
    "#statistics\n",
    "df.toPandas().describe().T"
   ],
   "metadata": {
    "collapsed": false,
    "ExecuteTime": {
     "start_time": "2023-05-02T21:54:13.006222Z",
     "end_time": "2023-05-02T21:54:21.064445Z"
    }
   }
  },
  {
   "cell_type": "markdown",
   "source": [
    "The dataset contains a total of **284807 records**. The **time column** in the dataset indicates the time elapsed in seconds between each transaction and the first transaction in the dataset. The maximum time recorded between transactions is **172,792 seconds**. This is equivalent to 2880 minutes or approximately **48 hours**. Since the timeframe of the dataset is only 2 days, it means that the last transaction was made two days after the first one.\n",
    "\n",
    "The amount column indicates the transaction amount. The biggest transaction recorded in the dataset is worth **$25,691.16**.\n",
    "\n",
    "\n",
    "## Checking Missing Values"
   ],
   "metadata": {
    "collapsed": false
   }
  },
  {
   "cell_type": "code",
   "execution_count": null,
   "outputs": [],
   "source": [
    "#Check missing and null data\n",
    "df.select([f.count(f.when(f.isnan(c) | f.col(c).isNull(), c)).alias(c) for c in df.columns]).show()"
   ],
   "metadata": {
    "collapsed": false,
    "ExecuteTime": {
     "start_time": "2023-05-01T09:43:32.141372Z",
     "end_time": "2023-05-01T09:43:35.747944Z"
    }
   }
  },
  {
   "cell_type": "markdown",
   "source": [
    "Upon checking the dataset, it was observed that there are no missing values present.\n",
    "Each column was inspected for null or NaN values, and it was found that the dataset is complete!\n",
    "\n",
    "\n",
    "## 1.2 Univariate Analysis\n",
    "\n",
    "### 1.2.1 Class\n",
    "\n",
    "#### Q1. HOW MANY ROWS IN THE DATASET REPRESENT CREDIT CARD FRAUD?"
   ],
   "metadata": {
    "collapsed": false
   }
  },
  {
   "cell_type": "code",
   "execution_count": 5,
   "outputs": [
    {
     "name": "stderr",
     "output_type": "stream",
     "text": [
      "[Stage 5:>                                                          (0 + 8) / 8]\r"
     ]
    },
    {
     "name": "stdout",
     "output_type": "stream",
     "text": [
      "+-----+------+\n",
      "|Class| count|\n",
      "+-----+------+\n",
      "|    1|   492|\n",
      "|    0|284315|\n",
      "+-----+------+\n",
      "\n"
     ]
    },
    {
     "name": "stderr",
     "output_type": "stream",
     "text": [
      "                                                                                \r"
     ]
    }
   ],
   "source": [
    "#Number of Frauds and non-frauds\n",
    "classFreq = df.groupBy(\"Class\").count()\n",
    "classFreq.show()"
   ],
   "metadata": {
    "collapsed": false,
    "ExecuteTime": {
     "start_time": "2023-05-05T06:32:49.026720Z",
     "end_time": "2023-05-05T06:32:51.409768Z"
    }
   }
  },
  {
   "cell_type": "code",
   "execution_count": 6,
   "outputs": [
    {
     "name": "stderr",
     "output_type": "stream",
     "text": [
      "                                                                                \r"
     ]
    },
    {
     "name": "stdout",
     "output_type": "stream",
     "text": [
      "+-----+------+-------+\n",
      "|Class| count|percent|\n",
      "+-----+------+-------+\n",
      "|    1|   492|   0.17|\n",
      "|    0|284315|  99.83|\n",
      "+-----+------+-------+\n",
      "\n"
     ]
    }
   ],
   "source": [
    "total = classFreq.select(\"count\").agg({\"count\": \"sum\"}).collect().pop()['sum(count)']\n",
    "result = classFreq.withColumn('percent', f.format_number(classFreq['count']/total * 100, 2))\n",
    "result.show()"
   ],
   "metadata": {
    "collapsed": false,
    "ExecuteTime": {
     "start_time": "2023-05-05T06:33:06.891213Z",
     "end_time": "2023-05-05T06:33:09.326858Z"
    }
   }
  },
  {
   "cell_type": "markdown",
   "source": [
    "Out of the total of **284,807 records**, only **492** represent credit card fraud, which is approximately **0.17%** of the dataset. Therefore, we have an imbalanced dataset."
   ],
   "metadata": {
    "collapsed": false
   }
  },
  {
   "cell_type": "code",
   "execution_count": null,
   "outputs": [],
   "source": [
    "# Create a pandas dataframe with only the Class column\n",
    "fraud_df = df.select(\"Class\").toPandas()\n",
    "\n",
    "# Count the number of transactions for each class (fraudulent or not)\n",
    "fraud_counts = fraud_df['Class'].value_counts()\n",
    "\n",
    "# Calculate the percentage and absolute number of each class\n",
    "fraud_perc = fraud_counts / fraud_counts.sum() * 100\n",
    "fraud_abs = fraud_counts.values\n",
    "\n",
    "# Create a bar plot with logarithmic y-axis\n",
    "sns.barplot(x=fraud_counts.index, y=fraud_counts.values)\n",
    "plt.yscale('log')\n",
    "\n",
    "# Add percentage and absolute value labels to the bars\n",
    "for i, v in enumerate(fraud_counts):\n",
    "    plt.text(i, v, f\"{fraud_perc[i]:.1f}% ({fraud_abs[i]:,})\", ha='center', va='bottom', fontweight='bold')\n",
    "\n",
    "# Set the y-axis labels and formatter\n",
    "plt.ylabel('Number of Transactions')\n",
    "plt.gca().yaxis.set_major_formatter(FuncFormatter(lambda x, _: '{:.0f} K'.format(x/1000)))\n",
    "\n",
    "# Set the axis labels and title\n",
    "plt.xlabel('Transaction Class')\n",
    "plt.xticks([0, 1], ['Non-Fraud', 'Fraud'])\n",
    "plt.title('Distribution of fraudulent transactions')\n",
    "\n",
    "plt.show()"
   ],
   "metadata": {
    "collapsed": false,
    "ExecuteTime": {
     "start_time": "2023-05-01T09:43:39.234602Z",
     "end_time": "2023-05-01T09:43:40.812819Z"
    }
   }
  },
  {
   "cell_type": "markdown",
   "source": [
    "As mentioned earlier, the majority of transactions are legitimate. If we use this dataset as the foundation for our predictive models and analysis, we may encounter many errors, and our algorithms are likely to overfit since they will \"presume\" that most transactions are not fraudulent. However, we do not want our model to presume; we want our model to identify patterns that indicate fraud.\n",
    "\n",
    "\n",
    "\n",
    "### 1.2.2 Amount -- Should we remove this? At least for me, doesn't make much sense."
   ],
   "metadata": {
    "collapsed": false
   }
  },
  {
   "cell_type": "code",
   "execution_count": null,
   "outputs": [],
   "source": [
    "# create a function to group time values\n",
    "@f.udf(returnType=t.StringType())\n",
    "def time_udf(time):\n",
    "    if time < 50000:\n",
    "        return \"Under 50K s\"\n",
    "    elif 50000 <= time <= 100000:\n",
    "        return \"Between 50K and 100K s\"\n",
    "    elif time > 100000:\n",
    "        return \"Over 100K s\"\n",
    "    else:\n",
    "        return \"NA\"\n",
    "\n",
    "# apply the function to the \"Time\" column\n",
    "df = df.withColumn('time_udf', time_udf('Time'))\n",
    "\n",
    "df.limit(10).toPandas()"
   ],
   "metadata": {
    "collapsed": false,
    "ExecuteTime": {
     "start_time": "2023-05-01T09:43:40.813956Z",
     "end_time": "2023-05-01T09:43:42.573211Z"
    }
   }
  },
  {
   "cell_type": "code",
   "execution_count": null,
   "outputs": [],
   "source": [
    "# Define window function with partitionBy clause\n",
    "window = Window.rowsBetween(Window.unboundedPreceding, Window.unboundedFollowing)\n",
    "\n",
    "# Create time group table\n",
    "time_group_table = df.select(\"time_udf\", \"Amount\"). \\\n",
    "    groupBy(\"time_udf\"). \\\n",
    "    agg(\n",
    "    f.count(\"Amount\").alias(\"UserCount\"),\n",
    "    f.mean(\"Amount\").alias(\"Amount_Avg\"),\n",
    "    f.min(\"Amount\").alias(\"Amount_Min\"),\n",
    "    f.max(\"Amount\").alias(\"Amount_Max\")). \\\n",
    "    withColumn(\"total\", f.sum(\"UserCount\").over(window)). \\\n",
    "    withColumn(\"Percent\", f.round(f.col(\"UserCount\")*100 / f.col(\"total\"), 2)). \\\n",
    "    drop(\"total\"). \\\n",
    "    orderBy(f.desc(\"Percent\"))\n",
    "\n",
    "time_group_table.limit(10).toPandas()\n"
   ],
   "metadata": {
    "collapsed": false,
    "ExecuteTime": {
     "start_time": "2023-05-01T09:43:42.572898Z",
     "end_time": "2023-05-01T09:43:45.331425Z"
    }
   }
  },
  {
   "cell_type": "code",
   "execution_count": null,
   "outputs": [],
   "source": [
    "# Convert PySpark dataframe to Pandas dataframe\n",
    "time_group_df = time_group_table.toPandas()\n",
    "\n",
    "# Create barplot\n",
    "ax = sns.barplot(x=\"time_udf\", y=\"Percent\", data=time_group_df)\n",
    "\n",
    "for p in ax.patches:\n",
    "    abs_value = p.get_height()\n",
    "    ax.annotate(f'{abs_value}',\n",
    "                (p.get_x() + p.get_width() / 2., abs_value),\n",
    "                ha='center', va='center',\n",
    "                xytext=(0, 9),\n",
    "                textcoords='offset points')\n",
    "\n",
    "plt.title(\"User Count and Transaction Amount by Time Group\")\n",
    "plt.xlabel(\"Time Group\")\n",
    "plt.ylabel(\"Percentage\")\n",
    "plt.show();"
   ],
   "metadata": {
    "collapsed": false,
    "ExecuteTime": {
     "start_time": "2023-05-01T09:43:45.334140Z",
     "end_time": "2023-05-01T09:43:46.927763Z"
    }
   }
  },
  {
   "cell_type": "code",
   "execution_count": null,
   "outputs": [],
   "source": [
    "# All Transactions\n",
    "df_aux = df.select(\"Class\", \"Amount\").toPandas()\n",
    "\n",
    "# Define amount ranges\n",
    "amount_ranges = [\n",
    "    {\"range\": \"Transaction Value <= $100\", \"min_amount\": 0, \"max_amount\": 100},\n",
    "    {\"range\": \"Transaction Value between \\$101 and \\$2000\", \"min_amount\": 101, \"max_amount\": 2000},\n",
    "    {\"range\": \"Transaction Value between \\$2001 and \\$5000\", \"min_amount\": 2001, \"max_amount\": 5000},\n",
    "    {\"range\": \"Transaction Value > $5000\", \"min_amount\": 5001, \"max_amount\": df_aux[\"Amount\"].max()}\n",
    "]\n",
    "\n",
    "# Create four subplots for different amount ranges\n",
    "fig, axes = plt.subplots(nrows=2, ncols=2, figsize=(12, 8))\n",
    "\n",
    "for idx, amount_range in enumerate(amount_ranges):\n",
    "    row_idx = idx // 2\n",
    "    col_idx = idx % 2\n",
    "\n",
    "    # Filter transactions within amount range\n",
    "    df_range = df_aux[(df_aux[\"Amount\"] > amount_range[\"min_amount\"]) & (df_aux[\"Amount\"] <= amount_range[\"max_amount\"])]\n",
    "\n",
    "    # Plot histogram\n",
    "    sns.histplot(data=df_range, x=\"Amount\", ax=axes[row_idx, col_idx], hue=\"Class\", kde=True)\n",
    "    axes[row_idx, col_idx].set_title(amount_range[\"range\"])\n",
    "    axes[row_idx, col_idx].set_ylabel(\"Number of Transactions\")\n",
    "    axes[row_idx, col_idx].legend(labels=[\"Fraud\", \"Non-Fraud\"])\n",
    "\n",
    "fig.suptitle(\"All Transactions\", fontsize=16)\n",
    "plt.tight_layout()\n",
    "plt.show()"
   ],
   "metadata": {
    "collapsed": false,
    "ExecuteTime": {
     "start_time": "2023-05-01T09:43:46.932595Z",
     "end_time": "2023-05-01T09:43:50.730522Z"
    }
   }
  },
  {
   "cell_type": "code",
   "execution_count": null,
   "outputs": [],
   "source": [
    "# Only fraud transactions\n",
    "only_fraud = df.filter(df.Class == 1).select(\"Amount\").toPandas()\n",
    "\n",
    "# Add a pallet\n",
    "aux_pal = [\"#ff7f7f\", \"#ff3c3c\"]\n",
    "\n",
    "# Create three subplots for different amount ranges\n",
    "fig, axes = plt.subplots(nrows=1, ncols=2, figsize=(18, 6))\n",
    "\n",
    "# Amount range <= 100\n",
    "sns.histplot(data=only_fraud[only_fraud[\"Amount\"] <= 100], x=\"Amount\", ax=axes[0], kde=True, color=aux_pal[0])\n",
    "axes[0].set_title(\"Transaction Amount <= $100\")\n",
    "axes[0].set_ylabel(\"Number of Transactions\")\n",
    "\n",
    "# Amount range > 100\n",
    "sns.histplot(data=only_fraud[(only_fraud[\"Amount\"] > 100)], x=\"Amount\", ax=axes[1], kde=True, color=aux_pal[1])\n",
    "axes[1].set_title(\"Transaction Amount > $100\")\n",
    "axes[1].set_ylabel(\"Number of Transactions\")\n",
    "\n",
    "fig.suptitle(\"Only Fraudulent Transactions\", fontsize=16)\n",
    "plt.tight_layout()\n",
    "plt.show()"
   ],
   "metadata": {
    "collapsed": false,
    "ExecuteTime": {
     "start_time": "2023-05-01T09:43:50.721706Z",
     "end_time": "2023-05-01T09:43:51.910365Z"
    }
   }
  },
  {
   "cell_type": "markdown",
   "source": [
    "### 1.2.3 Remaining variables"
   ],
   "metadata": {
    "collapsed": false
   }
  },
  {
   "cell_type": "code",
   "execution_count": null,
   "outputs": [],
   "source": [
    "# create several histograms to show the distributions of the features\n",
    "fig, axs = plt.subplots(8, 4, figsize=(25, 15))\n",
    "fig.suptitle(\"Distribution of Features\", fontsize=14)\n",
    "\n",
    "for col, ax in zip(df.columns, axs.flatten()):\n",
    "    ax.hist(df.select(col).toPandas()[col])\n",
    "    ax.grid(False)\n",
    "    ax.tick_params(axis='x', labelrotation=45, labelsize=14)\n",
    "    ax.tick_params(axis='y', labelsize=15)\n",
    "    ax.set_title(col.upper(), fontsize=14)\n",
    "\n",
    "plt.tight_layout()\n",
    "plt.subplots_adjust(top=0.9, hspace=0.4)\n",
    "plt.show()"
   ],
   "metadata": {
    "collapsed": false,
    "ExecuteTime": {
     "start_time": "2023-05-01T09:43:51.931994Z",
     "end_time": "2023-05-01T09:44:51.416312Z"
    }
   }
  },
  {
   "cell_type": "markdown",
   "source": [
    "Through the histograms, we can observe that the feature \"Time\" does not follow a normal distribution, with a lower occurrence in the range of 75,000-100,000 seconds. On the other hand, the features Vx show a normalized distribution centered around the value 0, with some negative values.\n",
    "\n",
    "## 1.3 Imbalanced Data\n",
    "\n",
    "To address the imbalanced data issue, we will implement the technique of Random Under Sampling. The aim is to balance the dataset by removing data, which helps to avoid model overfitting.\n",
    "\n",
    "The following steps will be taken:\n",
    "\n",
    "    - Determine the degree of imbalance in the class by using the \"value_counts()\" function on the class column to count the number of instances for each label.\n",
    "\n",
    "    - Bring the number of non-fraud transactions to the same amount as fraud transactions (assuming we want a 50/50 ratio),which will be equivalent to 492 cases of fraud and 492 cases of non-fraud transactions.\n",
    "\n",
    "    - Shuffle the data to ensure that our models can maintain a certain accuracy every time we run the script.\n",
    "\n",
    "**Note**: It is important to note that the Random Under Sampling technique may result in a loss of information since we are reducing the number of instances in the dataset."
   ],
   "metadata": {
    "collapsed": false
   }
  },
  {
   "cell_type": "code",
   "execution_count": 7,
   "outputs": [
    {
     "name": "stderr",
     "output_type": "stream",
     "text": [
      "                                                                                \r"
     ]
    },
    {
     "data": {
      "text/plain": "      Time         V1         V2         V3         V4        V5        V6  \\\n0    339.0   1.202783  -1.464842   0.703284  -1.462520 -1.462982  0.495419   \n1    218.0  -0.391725   1.106355   0.787765   0.510525  0.832968  0.151659   \n2  68207.0 -13.192671  12.785971  -9.906650   3.320337 -4.801176  5.760059   \n3     67.0  -1.494668   0.837241   2.628211   3.145414 -0.609098  0.258495   \n4  17520.0  -5.268053   9.067613 -15.960728  10.296603 -4.708241 -3.395375   \n5    290.0  -0.695818   0.581773   2.378180   0.063396  0.329119 -0.449865   \n6    304.0   1.049639   0.066437   0.059213   0.285469  0.635754  1.473074   \n7    154.0   1.315601   0.413148  -0.018953   0.487834  0.132331 -0.574307   \n8  93853.0  -5.839192   7.151532 -12.816760   7.031115 -9.651272 -2.938427   \n9    343.0   1.004760   0.423992   0.579929   2.476754 -0.124375 -0.363936   \n\n          V7         V8        V9  ...        V21       V22       V23  \\\n0  -1.368709   0.236519 -1.938471  ...   0.104264  0.575825 -0.033504   \n1   0.588155   0.312914 -0.772829  ...   0.122192  0.365018 -0.213950   \n2 -18.750889 -37.353443 -0.391540  ...  27.202839 -8.887017  5.303607   \n3  -0.012189   0.102136 -0.286164  ...  -0.140047  0.355044  0.332720   \n4 -11.161057   5.499963 -5.667376  ...   2.004110  0.191058  0.622928   \n5   1.269104  -0.758363  0.381712  ...  -0.327948 -0.369683 -0.426987   \n6  -0.376993   0.579045 -0.182240  ...  -0.141137 -0.304712  0.206105   \n7   0.146563  -0.215923 -0.080276  ...  -0.329567 -0.891188  0.011352   \n8 -11.543207   4.843627 -3.494276  ...   2.462056  1.054865  0.530481   \n9   0.297698  -0.104342 -1.231239  ...   0.128929  0.195254 -0.119654   \n\n        V24       V25       V26       V27       V28  Amount  Class  \n0 -0.278811  0.145526 -0.071895  0.067936  0.026132   98.00      0  \n1 -0.421854  0.045355 -0.323299  0.080659  0.037889    1.00      0  \n2 -0.639435  0.263203 -0.108877  1.269566  0.939407    1.00      1  \n3  0.718193 -0.219366  0.118927 -0.317486 -0.340783   28.28      0  \n4 -1.209264 -0.374799  0.648798  1.584697  0.720056    1.00      1  \n5  0.420170  0.235207  0.194957 -0.708471 -0.621219   30.50      0  \n6 -1.397547 -0.093121  0.227115  0.042340  0.001972    1.98      0  \n7 -0.477579  0.365667  0.143254 -0.016757  0.024640    1.98      0  \n8  0.472670 -0.275998  0.282435  0.104886  0.254417  316.06      1  \n9  0.557573  0.516518 -0.004221 -0.028055  0.025729   75.83      0  \n\n[10 rows x 31 columns]",
      "text/html": "<div>\n<style scoped>\n    .dataframe tbody tr th:only-of-type {\n        vertical-align: middle;\n    }\n\n    .dataframe tbody tr th {\n        vertical-align: top;\n    }\n\n    .dataframe thead th {\n        text-align: right;\n    }\n</style>\n<table border=\"1\" class=\"dataframe\">\n  <thead>\n    <tr style=\"text-align: right;\">\n      <th></th>\n      <th>Time</th>\n      <th>V1</th>\n      <th>V2</th>\n      <th>V3</th>\n      <th>V4</th>\n      <th>V5</th>\n      <th>V6</th>\n      <th>V7</th>\n      <th>V8</th>\n      <th>V9</th>\n      <th>...</th>\n      <th>V21</th>\n      <th>V22</th>\n      <th>V23</th>\n      <th>V24</th>\n      <th>V25</th>\n      <th>V26</th>\n      <th>V27</th>\n      <th>V28</th>\n      <th>Amount</th>\n      <th>Class</th>\n    </tr>\n  </thead>\n  <tbody>\n    <tr>\n      <th>0</th>\n      <td>339.0</td>\n      <td>1.202783</td>\n      <td>-1.464842</td>\n      <td>0.703284</td>\n      <td>-1.462520</td>\n      <td>-1.462982</td>\n      <td>0.495419</td>\n      <td>-1.368709</td>\n      <td>0.236519</td>\n      <td>-1.938471</td>\n      <td>...</td>\n      <td>0.104264</td>\n      <td>0.575825</td>\n      <td>-0.033504</td>\n      <td>-0.278811</td>\n      <td>0.145526</td>\n      <td>-0.071895</td>\n      <td>0.067936</td>\n      <td>0.026132</td>\n      <td>98.00</td>\n      <td>0</td>\n    </tr>\n    <tr>\n      <th>1</th>\n      <td>218.0</td>\n      <td>-0.391725</td>\n      <td>1.106355</td>\n      <td>0.787765</td>\n      <td>0.510525</td>\n      <td>0.832968</td>\n      <td>0.151659</td>\n      <td>0.588155</td>\n      <td>0.312914</td>\n      <td>-0.772829</td>\n      <td>...</td>\n      <td>0.122192</td>\n      <td>0.365018</td>\n      <td>-0.213950</td>\n      <td>-0.421854</td>\n      <td>0.045355</td>\n      <td>-0.323299</td>\n      <td>0.080659</td>\n      <td>0.037889</td>\n      <td>1.00</td>\n      <td>0</td>\n    </tr>\n    <tr>\n      <th>2</th>\n      <td>68207.0</td>\n      <td>-13.192671</td>\n      <td>12.785971</td>\n      <td>-9.906650</td>\n      <td>3.320337</td>\n      <td>-4.801176</td>\n      <td>5.760059</td>\n      <td>-18.750889</td>\n      <td>-37.353443</td>\n      <td>-0.391540</td>\n      <td>...</td>\n      <td>27.202839</td>\n      <td>-8.887017</td>\n      <td>5.303607</td>\n      <td>-0.639435</td>\n      <td>0.263203</td>\n      <td>-0.108877</td>\n      <td>1.269566</td>\n      <td>0.939407</td>\n      <td>1.00</td>\n      <td>1</td>\n    </tr>\n    <tr>\n      <th>3</th>\n      <td>67.0</td>\n      <td>-1.494668</td>\n      <td>0.837241</td>\n      <td>2.628211</td>\n      <td>3.145414</td>\n      <td>-0.609098</td>\n      <td>0.258495</td>\n      <td>-0.012189</td>\n      <td>0.102136</td>\n      <td>-0.286164</td>\n      <td>...</td>\n      <td>-0.140047</td>\n      <td>0.355044</td>\n      <td>0.332720</td>\n      <td>0.718193</td>\n      <td>-0.219366</td>\n      <td>0.118927</td>\n      <td>-0.317486</td>\n      <td>-0.340783</td>\n      <td>28.28</td>\n      <td>0</td>\n    </tr>\n    <tr>\n      <th>4</th>\n      <td>17520.0</td>\n      <td>-5.268053</td>\n      <td>9.067613</td>\n      <td>-15.960728</td>\n      <td>10.296603</td>\n      <td>-4.708241</td>\n      <td>-3.395375</td>\n      <td>-11.161057</td>\n      <td>5.499963</td>\n      <td>-5.667376</td>\n      <td>...</td>\n      <td>2.004110</td>\n      <td>0.191058</td>\n      <td>0.622928</td>\n      <td>-1.209264</td>\n      <td>-0.374799</td>\n      <td>0.648798</td>\n      <td>1.584697</td>\n      <td>0.720056</td>\n      <td>1.00</td>\n      <td>1</td>\n    </tr>\n    <tr>\n      <th>5</th>\n      <td>290.0</td>\n      <td>-0.695818</td>\n      <td>0.581773</td>\n      <td>2.378180</td>\n      <td>0.063396</td>\n      <td>0.329119</td>\n      <td>-0.449865</td>\n      <td>1.269104</td>\n      <td>-0.758363</td>\n      <td>0.381712</td>\n      <td>...</td>\n      <td>-0.327948</td>\n      <td>-0.369683</td>\n      <td>-0.426987</td>\n      <td>0.420170</td>\n      <td>0.235207</td>\n      <td>0.194957</td>\n      <td>-0.708471</td>\n      <td>-0.621219</td>\n      <td>30.50</td>\n      <td>0</td>\n    </tr>\n    <tr>\n      <th>6</th>\n      <td>304.0</td>\n      <td>1.049639</td>\n      <td>0.066437</td>\n      <td>0.059213</td>\n      <td>0.285469</td>\n      <td>0.635754</td>\n      <td>1.473074</td>\n      <td>-0.376993</td>\n      <td>0.579045</td>\n      <td>-0.182240</td>\n      <td>...</td>\n      <td>-0.141137</td>\n      <td>-0.304712</td>\n      <td>0.206105</td>\n      <td>-1.397547</td>\n      <td>-0.093121</td>\n      <td>0.227115</td>\n      <td>0.042340</td>\n      <td>0.001972</td>\n      <td>1.98</td>\n      <td>0</td>\n    </tr>\n    <tr>\n      <th>7</th>\n      <td>154.0</td>\n      <td>1.315601</td>\n      <td>0.413148</td>\n      <td>-0.018953</td>\n      <td>0.487834</td>\n      <td>0.132331</td>\n      <td>-0.574307</td>\n      <td>0.146563</td>\n      <td>-0.215923</td>\n      <td>-0.080276</td>\n      <td>...</td>\n      <td>-0.329567</td>\n      <td>-0.891188</td>\n      <td>0.011352</td>\n      <td>-0.477579</td>\n      <td>0.365667</td>\n      <td>0.143254</td>\n      <td>-0.016757</td>\n      <td>0.024640</td>\n      <td>1.98</td>\n      <td>0</td>\n    </tr>\n    <tr>\n      <th>8</th>\n      <td>93853.0</td>\n      <td>-5.839192</td>\n      <td>7.151532</td>\n      <td>-12.816760</td>\n      <td>7.031115</td>\n      <td>-9.651272</td>\n      <td>-2.938427</td>\n      <td>-11.543207</td>\n      <td>4.843627</td>\n      <td>-3.494276</td>\n      <td>...</td>\n      <td>2.462056</td>\n      <td>1.054865</td>\n      <td>0.530481</td>\n      <td>0.472670</td>\n      <td>-0.275998</td>\n      <td>0.282435</td>\n      <td>0.104886</td>\n      <td>0.254417</td>\n      <td>316.06</td>\n      <td>1</td>\n    </tr>\n    <tr>\n      <th>9</th>\n      <td>343.0</td>\n      <td>1.004760</td>\n      <td>0.423992</td>\n      <td>0.579929</td>\n      <td>2.476754</td>\n      <td>-0.124375</td>\n      <td>-0.363936</td>\n      <td>0.297698</td>\n      <td>-0.104342</td>\n      <td>-1.231239</td>\n      <td>...</td>\n      <td>0.128929</td>\n      <td>0.195254</td>\n      <td>-0.119654</td>\n      <td>0.557573</td>\n      <td>0.516518</td>\n      <td>-0.004221</td>\n      <td>-0.028055</td>\n      <td>0.025729</td>\n      <td>75.83</td>\n      <td>0</td>\n    </tr>\n  </tbody>\n</table>\n<p>10 rows × 31 columns</p>\n</div>"
     },
     "execution_count": 7,
     "metadata": {},
     "output_type": "execute_result"
    }
   ],
   "source": [
    "# Select fraud and non-fraud transactions and limit non-fraud transactions to the same number as fraud transactions\n",
    "fraud_df = df.filter(f.col('Class') == 1)\n",
    "non_fraud_df = df.filter(f.col('Class') == 0).limit(fraud_df.count())\n",
    "\n",
    "# Combine fraud and non-fraud transactions and shuffle the data\n",
    "balanced_df = fraud_df.union(non_fraud_df).orderBy(f.rand())\n",
    "\n",
    "# Show 10 rows of the shuffled, balanced dataframe\n",
    "balanced_df.limit(10).toPandas()"
   ],
   "metadata": {
    "collapsed": false,
    "ExecuteTime": {
     "start_time": "2023-05-02T21:54:47.966850Z",
     "end_time": "2023-05-02T21:54:52.766615Z"
    }
   }
  },
  {
   "cell_type": "code",
   "execution_count": 10,
   "outputs": [],
   "source": [
    "aux = balanced_df.toPandas()\n",
    "aux.to_csv('datasets/dfscaled.csv', index=False)"
   ],
   "metadata": {
    "collapsed": false,
    "ExecuteTime": {
     "start_time": "2023-05-02T21:57:09.103999Z",
     "end_time": "2023-05-02T21:57:09.535253Z"
    }
   }
  },
  {
   "cell_type": "code",
   "execution_count": 11,
   "outputs": [
    {
     "data": {
      "text/plain": "      Time         V1         V2         V3         V4        V5        V6  \\\n0    339.0   1.202783  -1.464842   0.703284  -1.462520 -1.462982  0.495419   \n1    218.0  -0.391725   1.106355   0.787765   0.510525  0.832968  0.151659   \n2  68207.0 -13.192671  12.785971  -9.906650   3.320337 -4.801176  5.760059   \n3     67.0  -1.494668   0.837241   2.628211   3.145414 -0.609098  0.258495   \n4  17520.0  -5.268053   9.067613 -15.960728  10.296603 -4.708241 -3.395375   \n\n          V7         V8        V9  ...        V21       V22       V23  \\\n0  -1.368709   0.236519 -1.938471  ...   0.104264  0.575825 -0.033504   \n1   0.588155   0.312914 -0.772829  ...   0.122192  0.365018 -0.213950   \n2 -18.750889 -37.353443 -0.391540  ...  27.202839 -8.887017  5.303607   \n3  -0.012189   0.102136 -0.286164  ...  -0.140047  0.355044  0.332720   \n4 -11.161057   5.499963 -5.667376  ...   2.004110  0.191058  0.622928   \n\n        V24       V25       V26       V27       V28  Amount  Class  \n0 -0.278811  0.145526 -0.071895  0.067936  0.026132   98.00      0  \n1 -0.421854  0.045355 -0.323299  0.080659  0.037889    1.00      0  \n2 -0.639435  0.263203 -0.108877  1.269566  0.939407    1.00      1  \n3  0.718193 -0.219366  0.118927 -0.317486 -0.340783   28.28      0  \n4 -1.209264 -0.374799  0.648798  1.584697  0.720056    1.00      1  \n\n[5 rows x 31 columns]",
      "text/html": "<div>\n<style scoped>\n    .dataframe tbody tr th:only-of-type {\n        vertical-align: middle;\n    }\n\n    .dataframe tbody tr th {\n        vertical-align: top;\n    }\n\n    .dataframe thead th {\n        text-align: right;\n    }\n</style>\n<table border=\"1\" class=\"dataframe\">\n  <thead>\n    <tr style=\"text-align: right;\">\n      <th></th>\n      <th>Time</th>\n      <th>V1</th>\n      <th>V2</th>\n      <th>V3</th>\n      <th>V4</th>\n      <th>V5</th>\n      <th>V6</th>\n      <th>V7</th>\n      <th>V8</th>\n      <th>V9</th>\n      <th>...</th>\n      <th>V21</th>\n      <th>V22</th>\n      <th>V23</th>\n      <th>V24</th>\n      <th>V25</th>\n      <th>V26</th>\n      <th>V27</th>\n      <th>V28</th>\n      <th>Amount</th>\n      <th>Class</th>\n    </tr>\n  </thead>\n  <tbody>\n    <tr>\n      <th>0</th>\n      <td>339.0</td>\n      <td>1.202783</td>\n      <td>-1.464842</td>\n      <td>0.703284</td>\n      <td>-1.462520</td>\n      <td>-1.462982</td>\n      <td>0.495419</td>\n      <td>-1.368709</td>\n      <td>0.236519</td>\n      <td>-1.938471</td>\n      <td>...</td>\n      <td>0.104264</td>\n      <td>0.575825</td>\n      <td>-0.033504</td>\n      <td>-0.278811</td>\n      <td>0.145526</td>\n      <td>-0.071895</td>\n      <td>0.067936</td>\n      <td>0.026132</td>\n      <td>98.00</td>\n      <td>0</td>\n    </tr>\n    <tr>\n      <th>1</th>\n      <td>218.0</td>\n      <td>-0.391725</td>\n      <td>1.106355</td>\n      <td>0.787765</td>\n      <td>0.510525</td>\n      <td>0.832968</td>\n      <td>0.151659</td>\n      <td>0.588155</td>\n      <td>0.312914</td>\n      <td>-0.772829</td>\n      <td>...</td>\n      <td>0.122192</td>\n      <td>0.365018</td>\n      <td>-0.213950</td>\n      <td>-0.421854</td>\n      <td>0.045355</td>\n      <td>-0.323299</td>\n      <td>0.080659</td>\n      <td>0.037889</td>\n      <td>1.00</td>\n      <td>0</td>\n    </tr>\n    <tr>\n      <th>2</th>\n      <td>68207.0</td>\n      <td>-13.192671</td>\n      <td>12.785971</td>\n      <td>-9.906650</td>\n      <td>3.320337</td>\n      <td>-4.801176</td>\n      <td>5.760059</td>\n      <td>-18.750889</td>\n      <td>-37.353443</td>\n      <td>-0.391540</td>\n      <td>...</td>\n      <td>27.202839</td>\n      <td>-8.887017</td>\n      <td>5.303607</td>\n      <td>-0.639435</td>\n      <td>0.263203</td>\n      <td>-0.108877</td>\n      <td>1.269566</td>\n      <td>0.939407</td>\n      <td>1.00</td>\n      <td>1</td>\n    </tr>\n    <tr>\n      <th>3</th>\n      <td>67.0</td>\n      <td>-1.494668</td>\n      <td>0.837241</td>\n      <td>2.628211</td>\n      <td>3.145414</td>\n      <td>-0.609098</td>\n      <td>0.258495</td>\n      <td>-0.012189</td>\n      <td>0.102136</td>\n      <td>-0.286164</td>\n      <td>...</td>\n      <td>-0.140047</td>\n      <td>0.355044</td>\n      <td>0.332720</td>\n      <td>0.718193</td>\n      <td>-0.219366</td>\n      <td>0.118927</td>\n      <td>-0.317486</td>\n      <td>-0.340783</td>\n      <td>28.28</td>\n      <td>0</td>\n    </tr>\n    <tr>\n      <th>4</th>\n      <td>17520.0</td>\n      <td>-5.268053</td>\n      <td>9.067613</td>\n      <td>-15.960728</td>\n      <td>10.296603</td>\n      <td>-4.708241</td>\n      <td>-3.395375</td>\n      <td>-11.161057</td>\n      <td>5.499963</td>\n      <td>-5.667376</td>\n      <td>...</td>\n      <td>2.004110</td>\n      <td>0.191058</td>\n      <td>0.622928</td>\n      <td>-1.209264</td>\n      <td>-0.374799</td>\n      <td>0.648798</td>\n      <td>1.584697</td>\n      <td>0.720056</td>\n      <td>1.00</td>\n      <td>1</td>\n    </tr>\n  </tbody>\n</table>\n<p>5 rows × 31 columns</p>\n</div>"
     },
     "execution_count": 11,
     "metadata": {},
     "output_type": "execute_result"
    }
   ],
   "source": [
    "aux.head()"
   ],
   "metadata": {
    "collapsed": false,
    "ExecuteTime": {
     "start_time": "2023-05-02T21:58:09.758459Z",
     "end_time": "2023-05-02T21:58:09.771288Z"
    }
   }
  },
  {
   "cell_type": "code",
   "execution_count": null,
   "outputs": [],
   "source": [
    "# Convert the Spark dataframe to a pandas dataframe\n",
    "fraud_df = balanced_df.select(\"Class\").toPandas()\n",
    "\n",
    "# Create a countplot with logarithmic y-axis\n",
    "sns.countplot(x='Class', data=fraud_df, palette='Set1', order=[1, 0])\n",
    "\n",
    "# Calculate the percentage of each class\n",
    "fraud_counts = fraud_df['Class'].value_counts()\n",
    "fraud_perc = fraud_counts / fraud_counts.sum() * 100\n",
    "\n",
    "# Set the y-axis labels and formatter\n",
    "plt.ylabel('Number of Transactions')\n",
    "\n",
    "# Set the axis labels and title\n",
    "plt.xlabel('Transaction Class')\n",
    "plt.xticks([0, 1], ['Fraud', 'Non-Fraud'])\n",
    "plt.title('Balanced Distribution of Transactions')\n",
    "\n",
    "plt.show()"
   ],
   "metadata": {
    "collapsed": false,
    "ExecuteTime": {
     "start_time": "2023-05-01T09:44:56.898421Z",
     "end_time": "2023-05-01T09:45:01.080818Z"
    }
   }
  },
  {
   "cell_type": "markdown",
   "source": [
    "Now that we have our dataframe correctly balanced, we can go further with our analysis and data preprocessing.\n",
    "\n",
    "\n",
    "## Correlations\n",
    "\n",
    "Correlation matrices are the essence of understanding our data. We want to know if there are features that influence heavily in whether a specific transaction is a fraud. However, it is important that we use the correct dataframe (Balanced) in order for us to see which features have a high positive or negative correlation in regard to fraud transactions.\n",
    "\n",
    "Summary and Explanation:\n",
    "\n",
    "    Negative Correlations: V17, V14, V12 and V10 are negatively correlated. Notice how the lower these values are, the more likely the end result will be a fraud transaction.\n",
    "    Positive Correlations: V2, V4, V11, and V19 are positively correlated. Notice how the higher these values are, the more likely the end result will be a fraud transaction.\n",
    "    BoxPlots: We will use boxplots to have a better understanding of the distribution of these features in fradulent and non fradulent transactions.\n",
    "\n",
    "Note: We have to make sure we use the subsample in our correlation matrix or else our correlation matrix will be affected by the high imbalance between our classes. This occurs due to the high class imbalance in the original dataframe.\n"
   ],
   "metadata": {
    "collapsed": false
   }
  },
  {
   "cell_type": "code",
   "execution_count": null,
   "outputs": [],
   "source": [
    "df = df.drop(\"time_udf\")\n",
    "balanced_df = balanced_df.drop(\"time_udf\")\n",
    "\n",
    "plt.figure(figsize=(20, 10))\n",
    "\n",
    "plt.subplot(1, 2, 1)\n",
    "sns.heatmap(df.toPandas().corr(), cmap='coolwarm_r')\n",
    "plt.title('Correlations with Unbalanced Data')\n",
    "\n",
    "plt.subplot(1, 2, 2)\n",
    "sns.heatmap(balanced_df.toPandas().corr(), cmap='coolwarm_r')\n",
    "plt.title('Correlations with Balanced Data')\n",
    "\n",
    "plt.show()"
   ],
   "metadata": {
    "collapsed": false,
    "ExecuteTime": {
     "start_time": "2023-05-01T09:45:01.081421Z",
     "end_time": "2023-05-01T09:45:13.052615Z"
    }
   }
  },
  {
   "cell_type": "code",
   "execution_count": null,
   "outputs": [],
   "source": [
    "plt.figure(figsize=(20, 10))\n",
    "\n",
    "plt.subplot(1, 2, 1)\n",
    "sns.heatmap(balanced_df.toPandas().corr() > 0.7,cbar=False, annot_kws={'size':20})\n",
    "plt.title('Correlations with Balanced Data > 0.7')\n",
    "\n",
    "plt.subplot(1, 2, 2)\n",
    "sns.heatmap(balanced_df.toPandas().corr() < -0.7,cbar=False, annot_kws={'size':20})\n",
    "plt.title('Correlations with Balanced Data < -0.7')\n",
    "\n",
    "plt.show();"
   ],
   "metadata": {
    "collapsed": false,
    "ExecuteTime": {
     "start_time": "2023-05-01T09:45:13.061245Z",
     "end_time": "2023-05-01T09:45:13.899692Z"
    }
   }
  },
  {
   "cell_type": "markdown",
   "source": [
    "\n",
    "#### Conclusions from Correlation Matrix\n",
    "Based on our correlation matrix, we have concluded the following:\n",
    "\n",
    "- The variables that were a product of PCA are not correlated with each other, meaning they are independent.\n",
    "- The variable \"Time\" seems to be negatively correlated with all of the \"Vx\" variables, which means that as \"Time\" increases, the values of \"Vx\" decrease, and vice versa.\n",
    "- The variables \"Time\" and \"Class\" seem to have no correlation, indicating that the time at which a transaction occurs has no influence on whether it is fraudulent or not.\n",
    "- The variable \"Class\" seems to be negatively correlated with some of the \"Vx\" variables, indicating that certain values of \"Vx\" are more likely to be associated with fraudulent transactions, while not correlated at all with others.\n",
    "\n",
    "\n",
    "## Distributions: Univariate"
   ],
   "metadata": {
    "collapsed": false
   }
  },
  {
   "cell_type": "code",
   "execution_count": null,
   "outputs": [],
   "source": [
    "# select all columns except the ones to exclude\n",
    "cols_to_include = [col for col in balanced_df.columns if col not in ['Time']]\n",
    "df_to_plot = balanced_df.select(*cols_to_include)\n",
    "\n",
    "for col in df_to_plot.columns:\n",
    "    fig, axs = plt.subplots(1, 2, figsize=(15, 5))\n",
    "    # plot histogram\n",
    "    axs[0].hist(df_to_plot.select(col).rdd.flatMap(lambda x: x).collect(), bins=50)\n",
    "    axs[0].set_title(f\"Distribution of {col} values\", size=14)\n",
    "    axs[0].set_xlabel(col, size=12)\n",
    "    axs[0].set_ylabel(\"Count\", size=12)\n",
    "\n",
    "    # plot boxplot\n",
    "    sns.boxplot(data=df_to_plot.select(col).toPandas(), x=col, ax=axs[1])\n",
    "    axs[1].set_title(f\"{col} Boxplot\", size=14)\n",
    "    axs[1].set_xlabel(col, size=12)\n",
    "    axs[1].set_ylabel(\"Count\", size=12)\n",
    "\n",
    "plt.show();"
   ],
   "metadata": {
    "collapsed": false,
    "ExecuteTime": {
     "start_time": "2023-05-01T09:45:13.902123Z",
     "end_time": "2023-05-01T09:46:54.954137Z"
    }
   }
  },
  {
   "cell_type": "markdown",
   "source": [
    "## Distributions: Bivariate"
   ],
   "metadata": {
    "collapsed": false
   }
  },
  {
   "cell_type": "code",
   "execution_count": null,
   "outputs": [],
   "source": [
    "#Bivariate Analysis\n",
    "\n",
    "data = df_to_plot.toPandas()\n",
    "fig, axes = plt.subplots(ncols=4, figsize=(20,4))\n",
    "\n",
    "# Negative Correlations with our Class (The lower our feature value the more likely it will be a fraud transaction)\n",
    "sns.boxplot(x=\"Class\", y=\"V14\", data=data,  ax=axes[0])\n",
    "axes[0].set_title('V14 vs Class Negative Correlation')\n",
    "\n",
    "sns.boxplot(x=\"Class\", y=\"V12\", data=data,  ax=axes[1])\n",
    "axes[1].set_title('V12 vs Class Negative Correlation')\n",
    "\n",
    "\n",
    "sns.boxplot(x=\"Class\", y=\"V10\", data=data, ax=axes[2])\n",
    "axes[2].set_title('V10 vs Class Negative Correlation')\n",
    "\n",
    "\n",
    "sns.boxplot(x=\"Class\", y=\"V16\", data=data, ax=axes[3])\n",
    "axes[3].set_title('V16 vs Class Negative Correlation')\n",
    "\n",
    "plt.show()"
   ],
   "metadata": {
    "collapsed": false,
    "ExecuteTime": {
     "start_time": "2023-05-01T09:46:54.958317Z",
     "end_time": "2023-05-01T09:46:59.696192Z"
    }
   }
  },
  {
   "cell_type": "code",
   "execution_count": null,
   "outputs": [],
   "source": [
    "fig, axes = plt.subplots(ncols=4, figsize=(20,4))\n",
    "\n",
    "# Positive correlations (The higher the feature the probability increases that it will be a fraud transaction)\n",
    "sns.boxplot(x=\"Class\", y=\"V4\", data=data,  ax=axes[0])\n",
    "axes[0].set_title('V4 vs Class Positive Correlation')\n",
    "\n",
    "sns.boxplot(x=\"Class\", y=\"V11\", data=data,  ax=axes[1])\n",
    "axes[1].set_title('V11 vs Class Positive Correlation')\n",
    "\n",
    "\n",
    "sns.boxplot(x=\"Class\", y=\"V2\", data=data, ax=axes[2])\n",
    "axes[2].set_title('V2 vs Class Positive Correlation')\n",
    "\n",
    "\n",
    "sns.boxplot(x=\"Class\", y=\"V19\", data=data, ax=axes[3])\n",
    "axes[3].set_title('V19 vs Class Positive Correlation')\n",
    "\n",
    "plt.show()"
   ],
   "metadata": {
    "collapsed": false,
    "ExecuteTime": {
     "start_time": "2023-05-01T09:46:59.710764Z",
     "end_time": "2023-05-01T09:47:00.061471Z"
    }
   }
  },
  {
   "cell_type": "code",
   "execution_count": null,
   "outputs": [],
   "source": [
    "hist_fraud = df_to_plot.filter(f.col('Class') == 1).drop('Class').toPandas()\n",
    "\n",
    "hist_fraud.hist(bins=30, figsize=(10, 10))\n",
    "plt.subplots_adjust(left=0.1,\n",
    "                    bottom=0.1,\n",
    "                    right=0.9,\n",
    "                    top=0.9,\n",
    "                    wspace=0.4,\n",
    "                    hspace=0.8)\n",
    "plt.show()"
   ],
   "metadata": {
    "collapsed": false,
    "ExecuteTime": {
     "start_time": "2023-05-01T09:47:00.063866Z",
     "end_time": "2023-05-01T09:47:05.823474Z"
    }
   }
  },
  {
   "cell_type": "markdown",
   "source": [
    "# Descriptive Problem\n",
    "### 1.1 At what time of the day (hour) do most of fraudulent transactions occur?"
   ],
   "metadata": {
    "collapsed": false
   }
  },
  {
   "cell_type": "code",
   "execution_count": null,
   "outputs": [],
   "source": [
    "## Function to create time of day to be used by UDF (user defined function)\n",
    "def create_time_of_day(second):\n",
    "    current_date_time = str(datetime.datetime(2013, 9, 1, 0, 0, 0) + datetime.timedelta(seconds = second))\n",
    "    time_of_day = current_date_time[11:13]\n",
    "    return time_of_day\n",
    "\n",
    "# Create a UDF\n",
    "udf_time_of_day = f.udf(lambda x: create_time_of_day(x))\n",
    "\n",
    "# Total amount of items\n",
    "## Convert 'Time' column datatype to 'int'\n",
    "df = df.withColumn(\"Time\", df[\"Time\"].cast(t.IntegerType()))\n",
    "\n",
    "## Create a new column \"TimeOfTheDay\" using UDF\n",
    "df = df.withColumn(\"TimeOfTheDay\", udf_time_of_day(\"Time\"))\n",
    "\n",
    "## Convert 'Time' column datatype back to 'double'\n",
    "df = df.withColumn(\"Time\", df[\"Time\"].cast(t.DoubleType()))\n",
    "\n",
    "## Filter the dataframe for items customers did not purchase ('fraudulent')\n",
    "df_filtered_fraudulent = df.where(\"Class == 1\")\n",
    "\n",
    "## Select the most items customers did not purchase ('fraudulent') and check the time of the day\n",
    "df_filtered_fraudulent_time_of_day_count = df_filtered_fraudulent.groupBy(\"TimeOfTheDay\") \\\n",
    "    .agg({\"Class\":\"count\"}) \\\n",
    "    .orderBy(\"TimeOfTheDay\") \\\n",
    "    .withColumnRenamed(\"count(Class)\", \"NumberOfFrauds\")\n",
    "df_filtered_fraudulent_time_of_day_count_pd = df_filtered_fraudulent_time_of_day_count.toPandas()\n",
    "\n",
    "## Visualize the most items customers did not purchase ('fraudulent') and check the time of the day (hour)\n",
    "plt.figure(figsize = (10, 4), dpi = 100)\n",
    "plt.plot(df_filtered_fraudulent_time_of_day_count_pd.TimeOfTheDay, df_filtered_fraudulent_time_of_day_count_pd.NumberOfFrauds)\n",
    "plt.title(\"At what time of the day (hour) do most of fraudulent transactions occur?\")\n",
    "plt.xticks(rotation=30, ha='right')\n",
    "plt.xlabel('Time of the Day (Hour)')\n",
    "plt.ylabel('Number of Frauds')\n",
    "plt.show()"
   ],
   "metadata": {
    "collapsed": false,
    "ExecuteTime": {
     "start_time": "2023-05-01T09:51:59.392434Z",
     "end_time": "2023-05-01T09:52:00.816142Z"
    }
   }
  },
  {
   "cell_type": "markdown",
   "source": [
    "### 1.2 At what time of the day (hour) are customers charged more for items that they did not purchase?"
   ],
   "metadata": {
    "collapsed": false
   }
  },
  {
   "cell_type": "code",
   "execution_count": null,
   "outputs": [],
   "source": [
    "# Total amount\n",
    "## Select the most items charged customers did not purchase ('fraudulent') and check the time of the day (hour)\n",
    "df_filtered_fraudulent_time_of_day_amount = df_filtered_fraudulent.groupBy(\"TimeOfTheDay\") \\\n",
    "    .agg({\"Amount\":\"sum\"}) \\\n",
    "    .orderBy(\"TimeOfTheDay\") \\\n",
    "    .withColumnRenamed(\"sum(Amount)\", \"AmountChargedOfFrauds\")\n",
    "df_filtered_fraudulent_time_of_day_amount_pd = df_filtered_fraudulent_time_of_day_amount.toPandas()\n",
    "\n",
    "## Visualize the most items charged customers did not purchase ('fraudulent') and check the time of the day (hour)\n",
    "plt.figure(figsize = (10, 4), dpi = 100)\n",
    "plt.plot(df_filtered_fraudulent_time_of_day_amount_pd.TimeOfTheDay, df_filtered_fraudulent_time_of_day_amount_pd.AmountChargedOfFrauds)\n",
    "plt.title(\"At what time of the day (hour) are customers charged more for items that they did not purchase?\")\n",
    "plt.xticks(rotation=30, ha='right')\n",
    "plt.xlabel('Time of the Day (Hour)')\n",
    "plt.ylabel('Amount Charged of Frauds')\n",
    "plt.grid(False)\n",
    "plt.show()"
   ],
   "metadata": {
    "collapsed": false,
    "ExecuteTime": {
     "start_time": "2023-05-01T09:52:08.489379Z",
     "end_time": "2023-05-01T09:52:09.640035Z"
    }
   }
  },
  {
   "cell_type": "code",
   "execution_count": null,
   "outputs": [],
   "source": [],
   "metadata": {
    "collapsed": false
   }
  }
 ],
 "metadata": {
  "kernelspec": {
   "display_name": "Python 3",
   "language": "python",
   "name": "python3"
  },
  "language_info": {
   "codemirror_mode": {
    "name": "ipython",
    "version": 2
   },
   "file_extension": ".py",
   "mimetype": "text/x-python",
   "name": "python",
   "nbconvert_exporter": "python",
   "pygments_lexer": "ipython2",
   "version": "2.7.6"
  }
 },
 "nbformat": 4,
 "nbformat_minor": 0
}

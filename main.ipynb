{
 "cells": [
  {
   "cell_type": "code",
   "execution_count": 4,
   "metadata": {
    "collapsed": true,
    "ExecuteTime": {
     "start_time": "2023-04-25T10:05:00.458491Z",
     "end_time": "2023-04-25T10:05:00.489097Z"
    }
   },
   "outputs": [],
   "source": [
    "import numpy as np\n",
    "import seaborn as sns\n",
    "import matplotlib.pyplot as plt\n",
    "import pyspark.sql.functions as f\n",
    "from pyspark.sql import SparkSession\n",
    "\n",
    "spark = SparkSession \\\n",
    "    .builder \\\n",
    "    .master(\"local[*]\") \\\n",
    "    .appName(\"Credit_Card_Fraud\") \\\n",
    "    .config(\"spark.sql.debug.maxToStringFields\", \"200\") \\\n",
    "    .getOrCreate()\n",
    "sc = spark.sparkContext"
   ]
  },
  {
   "cell_type": "code",
   "execution_count": 5,
   "outputs": [
    {
     "name": "stderr",
     "output_type": "stream",
     "text": [
      "[Stage 4:>                                                          (0 + 8) / 8]\r"
     ]
    },
    {
     "name": "stdout",
     "output_type": "stream",
     "text": [
      "root\n",
      " |-- Time: double (nullable = true)\n",
      " |-- V1: double (nullable = true)\n",
      " |-- V2: double (nullable = true)\n",
      " |-- V3: double (nullable = true)\n",
      " |-- V4: double (nullable = true)\n",
      " |-- V5: double (nullable = true)\n",
      " |-- V6: double (nullable = true)\n",
      " |-- V7: double (nullable = true)\n",
      " |-- V8: double (nullable = true)\n",
      " |-- V9: double (nullable = true)\n",
      " |-- V10: double (nullable = true)\n",
      " |-- V11: double (nullable = true)\n",
      " |-- V12: double (nullable = true)\n",
      " |-- V13: double (nullable = true)\n",
      " |-- V14: double (nullable = true)\n",
      " |-- V15: double (nullable = true)\n",
      " |-- V16: double (nullable = true)\n",
      " |-- V17: double (nullable = true)\n",
      " |-- V18: double (nullable = true)\n",
      " |-- V19: double (nullable = true)\n",
      " |-- V20: double (nullable = true)\n",
      " |-- V21: double (nullable = true)\n",
      " |-- V22: double (nullable = true)\n",
      " |-- V23: double (nullable = true)\n",
      " |-- V24: double (nullable = true)\n",
      " |-- V25: double (nullable = true)\n",
      " |-- V26: double (nullable = true)\n",
      " |-- V27: double (nullable = true)\n",
      " |-- V28: double (nullable = true)\n",
      " |-- Amount: double (nullable = true)\n",
      " |-- Class: integer (nullable = true)\n",
      "\n"
     ]
    },
    {
     "name": "stderr",
     "output_type": "stream",
     "text": [
      "                                                                                \r"
     ]
    }
   ],
   "source": [
    "# Load file\n",
    "df = spark.read.csv('datasets/creditcard.csv', header=True, inferSchema=True, sep=\",\")\n",
    "\n",
    "# Print Schema\n",
    "df.printSchema()"
   ],
   "metadata": {
    "collapsed": false,
    "ExecuteTime": {
     "start_time": "2023-04-25T10:05:03.206156Z",
     "end_time": "2023-04-25T10:05:05.103400Z"
    }
   }
  },
  {
   "cell_type": "code",
   "execution_count": 21,
   "outputs": [
    {
     "data": {
      "text/plain": "   Time        V1        V2        V3        V4        V5        V6        V7  \\\n0   0.0 -1.359807 -0.072781  2.536347  1.378155 -0.338321  0.462388  0.239599   \n1   0.0  1.191857  0.266151  0.166480  0.448154  0.060018 -0.082361 -0.078803   \n2   1.0 -1.358354 -1.340163  1.773209  0.379780 -0.503198  1.800499  0.791461   \n3   1.0 -0.966272 -0.185226  1.792993 -0.863291 -0.010309  1.247203  0.237609   \n4   2.0 -1.158233  0.877737  1.548718  0.403034 -0.407193  0.095921  0.592941   \n\n         V8        V9  ...       V21       V22       V23       V24       V25  \\\n0  0.098698  0.363787  ... -0.018307  0.277838 -0.110474  0.066928  0.128539   \n1  0.085102 -0.255425  ... -0.225775 -0.638672  0.101288 -0.339846  0.167170   \n2  0.247676 -1.514654  ...  0.247998  0.771679  0.909412 -0.689281 -0.327642   \n3  0.377436 -1.387024  ... -0.108300  0.005274 -0.190321 -1.175575  0.647376   \n4 -0.270533  0.817739  ... -0.009431  0.798278 -0.137458  0.141267 -0.206010   \n\n        V26       V27       V28  Amount  Class  \n0 -0.189115  0.133558 -0.021053  149.62      0  \n1  0.125895 -0.008983  0.014724    2.69      0  \n2 -0.139097 -0.055353 -0.059752  378.66      0  \n3 -0.221929  0.062723  0.061458  123.50      0  \n4  0.502292  0.219422  0.215153   69.99      0  \n\n[5 rows x 31 columns]",
      "text/html": "<div>\n<style scoped>\n    .dataframe tbody tr th:only-of-type {\n        vertical-align: middle;\n    }\n\n    .dataframe tbody tr th {\n        vertical-align: top;\n    }\n\n    .dataframe thead th {\n        text-align: right;\n    }\n</style>\n<table border=\"1\" class=\"dataframe\">\n  <thead>\n    <tr style=\"text-align: right;\">\n      <th></th>\n      <th>Time</th>\n      <th>V1</th>\n      <th>V2</th>\n      <th>V3</th>\n      <th>V4</th>\n      <th>V5</th>\n      <th>V6</th>\n      <th>V7</th>\n      <th>V8</th>\n      <th>V9</th>\n      <th>...</th>\n      <th>V21</th>\n      <th>V22</th>\n      <th>V23</th>\n      <th>V24</th>\n      <th>V25</th>\n      <th>V26</th>\n      <th>V27</th>\n      <th>V28</th>\n      <th>Amount</th>\n      <th>Class</th>\n    </tr>\n  </thead>\n  <tbody>\n    <tr>\n      <th>0</th>\n      <td>0.0</td>\n      <td>-1.359807</td>\n      <td>-0.072781</td>\n      <td>2.536347</td>\n      <td>1.378155</td>\n      <td>-0.338321</td>\n      <td>0.462388</td>\n      <td>0.239599</td>\n      <td>0.098698</td>\n      <td>0.363787</td>\n      <td>...</td>\n      <td>-0.018307</td>\n      <td>0.277838</td>\n      <td>-0.110474</td>\n      <td>0.066928</td>\n      <td>0.128539</td>\n      <td>-0.189115</td>\n      <td>0.133558</td>\n      <td>-0.021053</td>\n      <td>149.62</td>\n      <td>0</td>\n    </tr>\n    <tr>\n      <th>1</th>\n      <td>0.0</td>\n      <td>1.191857</td>\n      <td>0.266151</td>\n      <td>0.166480</td>\n      <td>0.448154</td>\n      <td>0.060018</td>\n      <td>-0.082361</td>\n      <td>-0.078803</td>\n      <td>0.085102</td>\n      <td>-0.255425</td>\n      <td>...</td>\n      <td>-0.225775</td>\n      <td>-0.638672</td>\n      <td>0.101288</td>\n      <td>-0.339846</td>\n      <td>0.167170</td>\n      <td>0.125895</td>\n      <td>-0.008983</td>\n      <td>0.014724</td>\n      <td>2.69</td>\n      <td>0</td>\n    </tr>\n    <tr>\n      <th>2</th>\n      <td>1.0</td>\n      <td>-1.358354</td>\n      <td>-1.340163</td>\n      <td>1.773209</td>\n      <td>0.379780</td>\n      <td>-0.503198</td>\n      <td>1.800499</td>\n      <td>0.791461</td>\n      <td>0.247676</td>\n      <td>-1.514654</td>\n      <td>...</td>\n      <td>0.247998</td>\n      <td>0.771679</td>\n      <td>0.909412</td>\n      <td>-0.689281</td>\n      <td>-0.327642</td>\n      <td>-0.139097</td>\n      <td>-0.055353</td>\n      <td>-0.059752</td>\n      <td>378.66</td>\n      <td>0</td>\n    </tr>\n    <tr>\n      <th>3</th>\n      <td>1.0</td>\n      <td>-0.966272</td>\n      <td>-0.185226</td>\n      <td>1.792993</td>\n      <td>-0.863291</td>\n      <td>-0.010309</td>\n      <td>1.247203</td>\n      <td>0.237609</td>\n      <td>0.377436</td>\n      <td>-1.387024</td>\n      <td>...</td>\n      <td>-0.108300</td>\n      <td>0.005274</td>\n      <td>-0.190321</td>\n      <td>-1.175575</td>\n      <td>0.647376</td>\n      <td>-0.221929</td>\n      <td>0.062723</td>\n      <td>0.061458</td>\n      <td>123.50</td>\n      <td>0</td>\n    </tr>\n    <tr>\n      <th>4</th>\n      <td>2.0</td>\n      <td>-1.158233</td>\n      <td>0.877737</td>\n      <td>1.548718</td>\n      <td>0.403034</td>\n      <td>-0.407193</td>\n      <td>0.095921</td>\n      <td>0.592941</td>\n      <td>-0.270533</td>\n      <td>0.817739</td>\n      <td>...</td>\n      <td>-0.009431</td>\n      <td>0.798278</td>\n      <td>-0.137458</td>\n      <td>0.141267</td>\n      <td>-0.206010</td>\n      <td>0.502292</td>\n      <td>0.219422</td>\n      <td>0.215153</td>\n      <td>69.99</td>\n      <td>0</td>\n    </tr>\n  </tbody>\n</table>\n<p>5 rows × 31 columns</p>\n</div>"
     },
     "execution_count": 21,
     "metadata": {},
     "output_type": "execute_result"
    }
   ],
   "source": [
    "aux_df = df.limit(10).toPandas()\n",
    "aux_df.head()"
   ],
   "metadata": {
    "collapsed": false,
    "ExecuteTime": {
     "start_time": "2023-04-25T10:18:13.653892Z",
     "end_time": "2023-04-25T10:18:14.437239Z"
    }
   }
  },
  {
   "cell_type": "code",
   "execution_count": 22,
   "outputs": [
    {
     "name": "stdout",
     "output_type": "stream",
     "text": [
      "Number of columns: 31\n",
      "Number of Records: 284807\n"
     ]
    }
   ],
   "source": [
    "# Spark DataFrame Shape\n",
    "print(f\"Number of columns: {len(df.columns)}\")\n",
    "print(f\"Number of Records: {df.count()}\")"
   ],
   "metadata": {
    "collapsed": false,
    "ExecuteTime": {
     "start_time": "2023-04-25T10:21:23.282315Z",
     "end_time": "2023-04-25T10:21:24.422449Z"
    }
   }
  },
  {
   "cell_type": "code",
   "execution_count": 14,
   "outputs": [
    {
     "name": "stderr",
     "output_type": "stream",
     "text": [
      "                                                                                \r"
     ]
    },
    {
     "data": {
      "text/plain": "           count          mean           std         min           25%  \\\nTime    284807.0  9.481386e+04  47488.145955    0.000000  54201.500000   \nV1      284807.0  1.168375e-15      1.958696  -56.407510     -0.920373   \nV2      284807.0  3.416908e-16      1.651309  -72.715728     -0.598550   \nV3      284807.0 -1.379537e-15      1.516255  -48.325589     -0.890365   \nV4      284807.0  2.074095e-15      1.415869   -5.683171     -0.848640   \nV5      284807.0  9.604066e-16      1.380247 -113.743307     -0.691597   \nV6      284807.0  1.487313e-15      1.332271  -26.160506     -0.768296   \nV7      284807.0 -5.556467e-16      1.237094  -43.557242     -0.554076   \nV8      284807.0  1.205498e-16      1.194353  -73.216718     -0.208630   \nV9      284807.0 -2.406306e-15      1.098632  -13.434066     -0.643098   \nV10     284807.0  2.238853e-15      1.088850  -24.588262     -0.535426   \nV11     284807.0  1.673327e-15      1.020713   -4.797473     -0.762494   \nV12     284807.0 -1.247012e-15      0.999201  -18.683715     -0.405571   \nV13     284807.0  8.190001e-16      0.995274   -5.791881     -0.648539   \nV14     284807.0  1.207294e-15      0.958596  -19.214325     -0.425574   \nV15     284807.0  4.887456e-15      0.915316   -4.498945     -0.582884   \nV16     284807.0  1.437516e-15      0.876253  -14.129855     -0.468037   \nV17     284807.0 -3.740237e-16      0.849337  -25.162799     -0.483748   \nV18     284807.0  9.564149e-16      0.838176   -9.498746     -0.498850   \nV19     284807.0  1.039917e-15      0.814041   -7.213527     -0.456299   \nV20     284807.0  6.407202e-16      0.770925  -54.497720     -0.211721   \nV21     284807.0  1.656562e-16      0.734524  -34.830382     -0.228395   \nV22     284807.0 -3.568593e-16      0.725702  -10.933144     -0.542350   \nV23     284807.0  2.610582e-16      0.624460  -44.807735     -0.161846   \nV24     284807.0  4.473066e-15      0.605647   -2.836627     -0.354586   \nV25     284807.0  5.213180e-16      0.521278  -10.295397     -0.317145   \nV26     284807.0  1.683537e-15      0.482227   -2.604551     -0.326984   \nV27     284807.0 -3.659966e-16      0.403632  -22.565679     -0.070840   \nV28     284807.0 -1.223710e-16      0.330083  -15.430084     -0.052960   \nAmount  284807.0  8.834962e+01    250.120109    0.000000      5.600000   \nClass   284807.0  1.727486e-03      0.041527    0.000000      0.000000   \n\n                 50%            75%            max  \nTime    84692.000000  139320.500000  172792.000000  \nV1          0.018109       1.315642       2.454930  \nV2          0.065486       0.803724      22.057729  \nV3          0.179846       1.027196       9.382558  \nV4         -0.019847       0.743341      16.875344  \nV5         -0.054336       0.611926      34.801666  \nV6         -0.274187       0.398565      73.301626  \nV7          0.040103       0.570436     120.589494  \nV8          0.022358       0.327346      20.007208  \nV9         -0.051429       0.597139      15.594995  \nV10        -0.092917       0.453923      23.745136  \nV11        -0.032757       0.739593      12.018913  \nV12         0.140033       0.618238       7.848392  \nV13        -0.013568       0.662505       7.126883  \nV14         0.050601       0.493150      10.526766  \nV15         0.048072       0.648821       8.877742  \nV16         0.066413       0.523296      17.315112  \nV17        -0.065676       0.399675       9.253526  \nV18        -0.003636       0.500807       5.041069  \nV19         0.003735       0.458949       5.591971  \nV20        -0.062481       0.133041      39.420904  \nV21        -0.029450       0.186377      27.202839  \nV22         0.006782       0.528554      10.503090  \nV23        -0.011193       0.147642      22.528412  \nV24         0.040976       0.439527       4.584549  \nV25         0.016594       0.350716       7.519589  \nV26        -0.052139       0.240952       3.517346  \nV27         0.001342       0.091045      31.612198  \nV28         0.011244       0.078280      33.847808  \nAmount     22.000000      77.165000   25691.160000  \nClass       0.000000       0.000000       1.000000  ",
      "text/html": "<div>\n<style scoped>\n    .dataframe tbody tr th:only-of-type {\n        vertical-align: middle;\n    }\n\n    .dataframe tbody tr th {\n        vertical-align: top;\n    }\n\n    .dataframe thead th {\n        text-align: right;\n    }\n</style>\n<table border=\"1\" class=\"dataframe\">\n  <thead>\n    <tr style=\"text-align: right;\">\n      <th></th>\n      <th>count</th>\n      <th>mean</th>\n      <th>std</th>\n      <th>min</th>\n      <th>25%</th>\n      <th>50%</th>\n      <th>75%</th>\n      <th>max</th>\n    </tr>\n  </thead>\n  <tbody>\n    <tr>\n      <th>Time</th>\n      <td>284807.0</td>\n      <td>9.481386e+04</td>\n      <td>47488.145955</td>\n      <td>0.000000</td>\n      <td>54201.500000</td>\n      <td>84692.000000</td>\n      <td>139320.500000</td>\n      <td>172792.000000</td>\n    </tr>\n    <tr>\n      <th>V1</th>\n      <td>284807.0</td>\n      <td>1.168375e-15</td>\n      <td>1.958696</td>\n      <td>-56.407510</td>\n      <td>-0.920373</td>\n      <td>0.018109</td>\n      <td>1.315642</td>\n      <td>2.454930</td>\n    </tr>\n    <tr>\n      <th>V2</th>\n      <td>284807.0</td>\n      <td>3.416908e-16</td>\n      <td>1.651309</td>\n      <td>-72.715728</td>\n      <td>-0.598550</td>\n      <td>0.065486</td>\n      <td>0.803724</td>\n      <td>22.057729</td>\n    </tr>\n    <tr>\n      <th>V3</th>\n      <td>284807.0</td>\n      <td>-1.379537e-15</td>\n      <td>1.516255</td>\n      <td>-48.325589</td>\n      <td>-0.890365</td>\n      <td>0.179846</td>\n      <td>1.027196</td>\n      <td>9.382558</td>\n    </tr>\n    <tr>\n      <th>V4</th>\n      <td>284807.0</td>\n      <td>2.074095e-15</td>\n      <td>1.415869</td>\n      <td>-5.683171</td>\n      <td>-0.848640</td>\n      <td>-0.019847</td>\n      <td>0.743341</td>\n      <td>16.875344</td>\n    </tr>\n    <tr>\n      <th>V5</th>\n      <td>284807.0</td>\n      <td>9.604066e-16</td>\n      <td>1.380247</td>\n      <td>-113.743307</td>\n      <td>-0.691597</td>\n      <td>-0.054336</td>\n      <td>0.611926</td>\n      <td>34.801666</td>\n    </tr>\n    <tr>\n      <th>V6</th>\n      <td>284807.0</td>\n      <td>1.487313e-15</td>\n      <td>1.332271</td>\n      <td>-26.160506</td>\n      <td>-0.768296</td>\n      <td>-0.274187</td>\n      <td>0.398565</td>\n      <td>73.301626</td>\n    </tr>\n    <tr>\n      <th>V7</th>\n      <td>284807.0</td>\n      <td>-5.556467e-16</td>\n      <td>1.237094</td>\n      <td>-43.557242</td>\n      <td>-0.554076</td>\n      <td>0.040103</td>\n      <td>0.570436</td>\n      <td>120.589494</td>\n    </tr>\n    <tr>\n      <th>V8</th>\n      <td>284807.0</td>\n      <td>1.205498e-16</td>\n      <td>1.194353</td>\n      <td>-73.216718</td>\n      <td>-0.208630</td>\n      <td>0.022358</td>\n      <td>0.327346</td>\n      <td>20.007208</td>\n    </tr>\n    <tr>\n      <th>V9</th>\n      <td>284807.0</td>\n      <td>-2.406306e-15</td>\n      <td>1.098632</td>\n      <td>-13.434066</td>\n      <td>-0.643098</td>\n      <td>-0.051429</td>\n      <td>0.597139</td>\n      <td>15.594995</td>\n    </tr>\n    <tr>\n      <th>V10</th>\n      <td>284807.0</td>\n      <td>2.238853e-15</td>\n      <td>1.088850</td>\n      <td>-24.588262</td>\n      <td>-0.535426</td>\n      <td>-0.092917</td>\n      <td>0.453923</td>\n      <td>23.745136</td>\n    </tr>\n    <tr>\n      <th>V11</th>\n      <td>284807.0</td>\n      <td>1.673327e-15</td>\n      <td>1.020713</td>\n      <td>-4.797473</td>\n      <td>-0.762494</td>\n      <td>-0.032757</td>\n      <td>0.739593</td>\n      <td>12.018913</td>\n    </tr>\n    <tr>\n      <th>V12</th>\n      <td>284807.0</td>\n      <td>-1.247012e-15</td>\n      <td>0.999201</td>\n      <td>-18.683715</td>\n      <td>-0.405571</td>\n      <td>0.140033</td>\n      <td>0.618238</td>\n      <td>7.848392</td>\n    </tr>\n    <tr>\n      <th>V13</th>\n      <td>284807.0</td>\n      <td>8.190001e-16</td>\n      <td>0.995274</td>\n      <td>-5.791881</td>\n      <td>-0.648539</td>\n      <td>-0.013568</td>\n      <td>0.662505</td>\n      <td>7.126883</td>\n    </tr>\n    <tr>\n      <th>V14</th>\n      <td>284807.0</td>\n      <td>1.207294e-15</td>\n      <td>0.958596</td>\n      <td>-19.214325</td>\n      <td>-0.425574</td>\n      <td>0.050601</td>\n      <td>0.493150</td>\n      <td>10.526766</td>\n    </tr>\n    <tr>\n      <th>V15</th>\n      <td>284807.0</td>\n      <td>4.887456e-15</td>\n      <td>0.915316</td>\n      <td>-4.498945</td>\n      <td>-0.582884</td>\n      <td>0.048072</td>\n      <td>0.648821</td>\n      <td>8.877742</td>\n    </tr>\n    <tr>\n      <th>V16</th>\n      <td>284807.0</td>\n      <td>1.437516e-15</td>\n      <td>0.876253</td>\n      <td>-14.129855</td>\n      <td>-0.468037</td>\n      <td>0.066413</td>\n      <td>0.523296</td>\n      <td>17.315112</td>\n    </tr>\n    <tr>\n      <th>V17</th>\n      <td>284807.0</td>\n      <td>-3.740237e-16</td>\n      <td>0.849337</td>\n      <td>-25.162799</td>\n      <td>-0.483748</td>\n      <td>-0.065676</td>\n      <td>0.399675</td>\n      <td>9.253526</td>\n    </tr>\n    <tr>\n      <th>V18</th>\n      <td>284807.0</td>\n      <td>9.564149e-16</td>\n      <td>0.838176</td>\n      <td>-9.498746</td>\n      <td>-0.498850</td>\n      <td>-0.003636</td>\n      <td>0.500807</td>\n      <td>5.041069</td>\n    </tr>\n    <tr>\n      <th>V19</th>\n      <td>284807.0</td>\n      <td>1.039917e-15</td>\n      <td>0.814041</td>\n      <td>-7.213527</td>\n      <td>-0.456299</td>\n      <td>0.003735</td>\n      <td>0.458949</td>\n      <td>5.591971</td>\n    </tr>\n    <tr>\n      <th>V20</th>\n      <td>284807.0</td>\n      <td>6.407202e-16</td>\n      <td>0.770925</td>\n      <td>-54.497720</td>\n      <td>-0.211721</td>\n      <td>-0.062481</td>\n      <td>0.133041</td>\n      <td>39.420904</td>\n    </tr>\n    <tr>\n      <th>V21</th>\n      <td>284807.0</td>\n      <td>1.656562e-16</td>\n      <td>0.734524</td>\n      <td>-34.830382</td>\n      <td>-0.228395</td>\n      <td>-0.029450</td>\n      <td>0.186377</td>\n      <td>27.202839</td>\n    </tr>\n    <tr>\n      <th>V22</th>\n      <td>284807.0</td>\n      <td>-3.568593e-16</td>\n      <td>0.725702</td>\n      <td>-10.933144</td>\n      <td>-0.542350</td>\n      <td>0.006782</td>\n      <td>0.528554</td>\n      <td>10.503090</td>\n    </tr>\n    <tr>\n      <th>V23</th>\n      <td>284807.0</td>\n      <td>2.610582e-16</td>\n      <td>0.624460</td>\n      <td>-44.807735</td>\n      <td>-0.161846</td>\n      <td>-0.011193</td>\n      <td>0.147642</td>\n      <td>22.528412</td>\n    </tr>\n    <tr>\n      <th>V24</th>\n      <td>284807.0</td>\n      <td>4.473066e-15</td>\n      <td>0.605647</td>\n      <td>-2.836627</td>\n      <td>-0.354586</td>\n      <td>0.040976</td>\n      <td>0.439527</td>\n      <td>4.584549</td>\n    </tr>\n    <tr>\n      <th>V25</th>\n      <td>284807.0</td>\n      <td>5.213180e-16</td>\n      <td>0.521278</td>\n      <td>-10.295397</td>\n      <td>-0.317145</td>\n      <td>0.016594</td>\n      <td>0.350716</td>\n      <td>7.519589</td>\n    </tr>\n    <tr>\n      <th>V26</th>\n      <td>284807.0</td>\n      <td>1.683537e-15</td>\n      <td>0.482227</td>\n      <td>-2.604551</td>\n      <td>-0.326984</td>\n      <td>-0.052139</td>\n      <td>0.240952</td>\n      <td>3.517346</td>\n    </tr>\n    <tr>\n      <th>V27</th>\n      <td>284807.0</td>\n      <td>-3.659966e-16</td>\n      <td>0.403632</td>\n      <td>-22.565679</td>\n      <td>-0.070840</td>\n      <td>0.001342</td>\n      <td>0.091045</td>\n      <td>31.612198</td>\n    </tr>\n    <tr>\n      <th>V28</th>\n      <td>284807.0</td>\n      <td>-1.223710e-16</td>\n      <td>0.330083</td>\n      <td>-15.430084</td>\n      <td>-0.052960</td>\n      <td>0.011244</td>\n      <td>0.078280</td>\n      <td>33.847808</td>\n    </tr>\n    <tr>\n      <th>Amount</th>\n      <td>284807.0</td>\n      <td>8.834962e+01</td>\n      <td>250.120109</td>\n      <td>0.000000</td>\n      <td>5.600000</td>\n      <td>22.000000</td>\n      <td>77.165000</td>\n      <td>25691.160000</td>\n    </tr>\n    <tr>\n      <th>Class</th>\n      <td>284807.0</td>\n      <td>1.727486e-03</td>\n      <td>0.041527</td>\n      <td>0.000000</td>\n      <td>0.000000</td>\n      <td>0.000000</td>\n      <td>0.000000</td>\n      <td>1.000000</td>\n    </tr>\n  </tbody>\n</table>\n</div>"
     },
     "execution_count": 14,
     "metadata": {},
     "output_type": "execute_result"
    }
   ],
   "source": [
    "# All columns\n",
    "df.toPandas().describe().T"
   ],
   "metadata": {
    "collapsed": false,
    "ExecuteTime": {
     "start_time": "2023-04-25T10:11:00.196685Z",
     "end_time": "2023-04-25T10:11:05.092308Z"
    }
   }
  },
  {
   "cell_type": "code",
   "execution_count": 18,
   "outputs": [
    {
     "name": "stderr",
     "output_type": "stream",
     "text": [
      "                                                                                \r"
     ]
    },
    {
     "data": {
      "text/plain": "           count       mean         std  min  25%   50%     75%       max\nAmount  284807.0  88.349619  250.120109  0.0  5.6  22.0  77.165  25691.16\nClass   284807.0   0.001727    0.041527  0.0  0.0   0.0   0.000      1.00",
      "text/html": "<div>\n<style scoped>\n    .dataframe tbody tr th:only-of-type {\n        vertical-align: middle;\n    }\n\n    .dataframe tbody tr th {\n        vertical-align: top;\n    }\n\n    .dataframe thead th {\n        text-align: right;\n    }\n</style>\n<table border=\"1\" class=\"dataframe\">\n  <thead>\n    <tr style=\"text-align: right;\">\n      <th></th>\n      <th>count</th>\n      <th>mean</th>\n      <th>std</th>\n      <th>min</th>\n      <th>25%</th>\n      <th>50%</th>\n      <th>75%</th>\n      <th>max</th>\n    </tr>\n  </thead>\n  <tbody>\n    <tr>\n      <th>Amount</th>\n      <td>284807.0</td>\n      <td>88.349619</td>\n      <td>250.120109</td>\n      <td>0.0</td>\n      <td>5.6</td>\n      <td>22.0</td>\n      <td>77.165</td>\n      <td>25691.16</td>\n    </tr>\n    <tr>\n      <th>Class</th>\n      <td>284807.0</td>\n      <td>0.001727</td>\n      <td>0.041527</td>\n      <td>0.0</td>\n      <td>0.0</td>\n      <td>0.0</td>\n      <td>0.000</td>\n      <td>1.00</td>\n    </tr>\n  </tbody>\n</table>\n</div>"
     },
     "execution_count": 18,
     "metadata": {},
     "output_type": "execute_result"
    }
   ],
   "source": [
    "# Only Amount and Class Columns\n",
    "df.select(\"Amount\", \"Class\").toPandas().describe().T"
   ],
   "metadata": {
    "collapsed": false,
    "ExecuteTime": {
     "start_time": "2023-04-25T10:13:44.694992Z",
     "end_time": "2023-04-25T10:13:46.260686Z"
    }
   }
  },
  {
   "cell_type": "code",
   "execution_count": null,
   "outputs": [],
   "source": [],
   "metadata": {
    "collapsed": false
   }
  }
 ],
 "metadata": {
  "kernelspec": {
   "display_name": "Python 3",
   "language": "python",
   "name": "python3"
  },
  "language_info": {
   "codemirror_mode": {
    "name": "ipython",
    "version": 2
   },
   "file_extension": ".py",
   "mimetype": "text/x-python",
   "name": "python",
   "nbconvert_exporter": "python",
   "pygments_lexer": "ipython2",
   "version": "2.7.6"
  }
 },
 "nbformat": 4,
 "nbformat_minor": 0
}

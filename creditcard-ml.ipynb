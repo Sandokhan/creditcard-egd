{
 "cells": [
  {
   "cell_type": "raw",
   "source": [],
   "metadata": {
    "collapsed": false,
    "pycharm": {
     "name": ""
    }
   }
  },
  {
   "cell_type": "markdown",
   "source": [
    "# 2.0 Machine Learning Pipeline\n",
    "\n",
    "The pipeline will involve the following models:\n",
    "\n",
    "- Decision Tree\n",
    "- Regression\n",
    "- Random Forest\n",
    "- Gradient-boosted trees\n",
    "- Naive Bayes\n",
    "\n",
    "Here's our recipe for success:\n",
    "\n",
    "1. Load the data\n",
    "2. Split the data using the 80/20 approach\n",
    "3. Select feature columns and vectorize them\n",
    "4. Instantiate models\n",
    "5. Build and run the pipeline\n",
    "6. Apply metrics such as accuracy, precision, recall, and f1-score\n",
    "\n",
    "Documentation:\n",
    "\n",
    "- [Apache Spark ML Pipeline](https://spark.apache.org/docs/latest/ml-pipeline.html)\n",
    "- [Decision Tree Classifier](https://spark.apache.org/docs/latest/ml-classification-regression.html#decision-tree-classifier)\n",
    "- [F1-Score Guide](https://www.v7labs.com/blog/f1-score-guide)\n",
    "- [Precision and Recall](https://developers.google.com/machine-learning/crash-course/classification/precision-and-recall)\n",
    "- [PySpark ML with Text (Part 1)](https://datascience-enthusiast.com/Python/PySpark_ML_with_Text_part1.html)"
   ],
   "metadata": {
    "collapsed": false
   }
  },
  {
   "cell_type": "code",
   "execution_count": 17,
   "outputs": [],
   "source": [
    "# Import libraries\n",
    "import numpy as np\n",
    "import pandas as pd\n",
    "import seaborn as sns\n",
    "import matplotlib.pyplot as plt\n",
    "from matplotlib.ticker import FuncFormatter\n",
    "from scipy import stats\n",
    "import warnings\n",
    "warnings.filterwarnings('ignore')\n",
    "\n",
    "# Import PySpark libraries\n",
    "from pyspark.sql import Window\n",
    "import pyspark.sql.types as t\n",
    "import pyspark.sql.functions as f\n",
    "from pyspark.sql import SparkSession\n",
    "from pyspark.ml import Pipeline, PipelineModel\n",
    "from pyspark.ml.classification import LogisticRegression, DecisionTreeClassifier, RandomForestClassifier, GBTClassifier, LinearSVC, NaiveBayes\n",
    "from pyspark.ml.feature import StringIndexer, VectorIndexer, IndexToString, VectorAssembler\n",
    "from pyspark.ml.evaluation import MulticlassClassificationEvaluator, BinaryClassificationEvaluator\n",
    "from pyspark.ml.tuning import ParamGridBuilder,CrossValidator\n",
    "from sklearn.metrics import accuracy_score,f1_score,precision_score, recall_score\n",
    "from sklearn.linear_model import LogisticRegression\n",
    "from sklearn.tree import DecisionTreeClassifier\n",
    "from sklearn.neighbors import KNeighborsClassifier\n",
    "from sklearn.naive_bayes import GaussianNB\n",
    "from sklearn.feature_selection import SelectKBest, mutual_info_classif\n",
    "from sklearn.model_selection import train_test_split\n",
    "from sklearn.model_selection import cross_val_score\n",
    "from sklearn.preprocessing import LabelEncoder\n",
    "\n",
    "# Configure Spark Session\n",
    "spark = SparkSession.builder \\\n",
    "    .appName(\"Credit Card ML\") \\\n",
    "    .config(\"spark.master\", \"local\") \\\n",
    "    .getOrCreate()\n",
    "sc = spark.sparkContext"
   ],
   "metadata": {
    "collapsed": false,
    "ExecuteTime": {
     "start_time": "2023-04-30T09:35:18.315160Z",
     "end_time": "2023-04-30T09:35:18.367258Z"
    }
   }
  },
  {
   "cell_type": "code",
   "execution_count": 3,
   "outputs": [
    {
     "name": "stderr",
     "output_type": "stream",
     "text": [
      "                                                                                \r"
     ]
    }
   ],
   "source": [
    "# Load file\n",
    "df = spark.read.csv('datasets/creditcard.csv', header=True, inferSchema=True, sep=\",\")"
   ],
   "metadata": {
    "collapsed": false,
    "ExecuteTime": {
     "start_time": "2023-04-30T08:36:05.931705Z",
     "end_time": "2023-04-30T08:36:08.307846Z"
    }
   }
  },
  {
   "cell_type": "code",
   "execution_count": 4,
   "outputs": [
    {
     "name": "stderr",
     "output_type": "stream",
     "text": [
      "                                                                                \r"
     ]
    },
    {
     "name": "stdout",
     "output_type": "stream",
     "text": [
      "23/04/30 08:36:19 WARN package: Truncated the string representation of a plan since it was too large. This behavior can be adjusted by setting 'spark.sql.debug.maxToStringFields'.\n"
     ]
    },
    {
     "name": "stderr",
     "output_type": "stream",
     "text": [
      "                                                                                \r"
     ]
    },
    {
     "data": {
      "text/plain": "       Time        V1        V2        V3        V4        V5        V6  \\\n0  135095.0  0.232512  0.938944 -4.647780  3.079844 -1.902655 -1.041408   \n1  169142.0 -1.927883  1.125653 -4.518331  1.749293 -1.566487 -2.010494   \n2  160870.0 -0.644278  5.002352 -8.252739  7.756915 -0.216267 -2.751496   \n3     145.0 -2.420413  1.947885  0.553646  0.983069 -0.281518  2.408958   \n4      91.0 -1.822273  1.235336 -0.307804 -1.821824  2.762482  3.641499   \n5   91554.0 -5.100256  3.633442 -3.843919  0.183208 -1.183997  1.602139   \n6  142280.0 -1.169203  1.863414 -2.515135  5.463681 -0.297971  1.364918   \n7      95.0  1.195572  0.258858  0.635796  0.641257 -0.395081 -0.694667   \n8     303.0  1.254258  1.218376 -2.148615  1.155957  1.813892 -0.238358   \n9     307.0 -2.658288 -3.014776  2.271636 -1.218204  1.546541 -1.682064   \n\n         V7        V8        V9  ...       V21       V22       V23       V24  \\\n0 -1.020407  0.547069 -1.105990  ...  0.911373  1.042929  0.999394  0.901260   \n1 -0.882850  0.697211 -2.064945  ...  0.778584 -0.319189  0.639419 -0.294885   \n2 -3.358857  1.406268 -4.403852  ...  0.587728 -0.605759  0.033746 -0.756170   \n3 -1.401613 -0.188299  0.675878  ...  1.213826 -1.238620  0.006927 -1.724222   \n4 -0.344614 -1.547541 -0.138239  ...  2.080848 -1.591888  0.321636  0.889258   \n5 -3.005953 -8.645038  1.285458  ...  8.280439 -2.797150  1.090707 -0.159260   \n6  0.759219 -0.118861 -2.293921  ... -0.393090 -0.708692  0.471309 -0.078616   \n7  0.034086 -0.124346 -0.078400  ... -0.201249 -0.516925  0.199096  0.412552   \n8  0.623888 -0.060265 -0.739258  ... -0.210083 -0.463849 -0.370852 -1.644707   \n9 -1.524913  0.088425 -0.761266  ... -0.212736 -0.587618  0.320804 -0.013227   \n\n        V25       V26       V27       V28  Amount  Class  \n0 -0.452093  0.192959  0.180859 -0.029315  345.00      1  \n1  0.537503  0.788395  0.292680  0.147968  390.00      1  \n2 -0.008172  0.532772  0.663970  0.192067    0.77      1  \n3  0.239603 -0.313703 -0.188281  0.119831    6.00      0  \n4  0.156445 -0.960611 -0.035302  0.182321   15.89      0  \n5  0.532156 -0.497126  0.943622  0.553581  261.22      1  \n6 -0.544655  0.014777 -0.240930 -0.781055  324.59      1  \n7  0.122984  0.101940 -0.007846  0.020214    1.29      0  \n8  0.962670 -0.200548  0.055746  0.071654    2.95      0  \n9 -0.233772  0.742313 -0.505256  0.394053   52.90      0  \n\n[10 rows x 31 columns]",
      "text/html": "<div>\n<style scoped>\n    .dataframe tbody tr th:only-of-type {\n        vertical-align: middle;\n    }\n\n    .dataframe tbody tr th {\n        vertical-align: top;\n    }\n\n    .dataframe thead th {\n        text-align: right;\n    }\n</style>\n<table border=\"1\" class=\"dataframe\">\n  <thead>\n    <tr style=\"text-align: right;\">\n      <th></th>\n      <th>Time</th>\n      <th>V1</th>\n      <th>V2</th>\n      <th>V3</th>\n      <th>V4</th>\n      <th>V5</th>\n      <th>V6</th>\n      <th>V7</th>\n      <th>V8</th>\n      <th>V9</th>\n      <th>...</th>\n      <th>V21</th>\n      <th>V22</th>\n      <th>V23</th>\n      <th>V24</th>\n      <th>V25</th>\n      <th>V26</th>\n      <th>V27</th>\n      <th>V28</th>\n      <th>Amount</th>\n      <th>Class</th>\n    </tr>\n  </thead>\n  <tbody>\n    <tr>\n      <th>0</th>\n      <td>135095.0</td>\n      <td>0.232512</td>\n      <td>0.938944</td>\n      <td>-4.647780</td>\n      <td>3.079844</td>\n      <td>-1.902655</td>\n      <td>-1.041408</td>\n      <td>-1.020407</td>\n      <td>0.547069</td>\n      <td>-1.105990</td>\n      <td>...</td>\n      <td>0.911373</td>\n      <td>1.042929</td>\n      <td>0.999394</td>\n      <td>0.901260</td>\n      <td>-0.452093</td>\n      <td>0.192959</td>\n      <td>0.180859</td>\n      <td>-0.029315</td>\n      <td>345.00</td>\n      <td>1</td>\n    </tr>\n    <tr>\n      <th>1</th>\n      <td>169142.0</td>\n      <td>-1.927883</td>\n      <td>1.125653</td>\n      <td>-4.518331</td>\n      <td>1.749293</td>\n      <td>-1.566487</td>\n      <td>-2.010494</td>\n      <td>-0.882850</td>\n      <td>0.697211</td>\n      <td>-2.064945</td>\n      <td>...</td>\n      <td>0.778584</td>\n      <td>-0.319189</td>\n      <td>0.639419</td>\n      <td>-0.294885</td>\n      <td>0.537503</td>\n      <td>0.788395</td>\n      <td>0.292680</td>\n      <td>0.147968</td>\n      <td>390.00</td>\n      <td>1</td>\n    </tr>\n    <tr>\n      <th>2</th>\n      <td>160870.0</td>\n      <td>-0.644278</td>\n      <td>5.002352</td>\n      <td>-8.252739</td>\n      <td>7.756915</td>\n      <td>-0.216267</td>\n      <td>-2.751496</td>\n      <td>-3.358857</td>\n      <td>1.406268</td>\n      <td>-4.403852</td>\n      <td>...</td>\n      <td>0.587728</td>\n      <td>-0.605759</td>\n      <td>0.033746</td>\n      <td>-0.756170</td>\n      <td>-0.008172</td>\n      <td>0.532772</td>\n      <td>0.663970</td>\n      <td>0.192067</td>\n      <td>0.77</td>\n      <td>1</td>\n    </tr>\n    <tr>\n      <th>3</th>\n      <td>145.0</td>\n      <td>-2.420413</td>\n      <td>1.947885</td>\n      <td>0.553646</td>\n      <td>0.983069</td>\n      <td>-0.281518</td>\n      <td>2.408958</td>\n      <td>-1.401613</td>\n      <td>-0.188299</td>\n      <td>0.675878</td>\n      <td>...</td>\n      <td>1.213826</td>\n      <td>-1.238620</td>\n      <td>0.006927</td>\n      <td>-1.724222</td>\n      <td>0.239603</td>\n      <td>-0.313703</td>\n      <td>-0.188281</td>\n      <td>0.119831</td>\n      <td>6.00</td>\n      <td>0</td>\n    </tr>\n    <tr>\n      <th>4</th>\n      <td>91.0</td>\n      <td>-1.822273</td>\n      <td>1.235336</td>\n      <td>-0.307804</td>\n      <td>-1.821824</td>\n      <td>2.762482</td>\n      <td>3.641499</td>\n      <td>-0.344614</td>\n      <td>-1.547541</td>\n      <td>-0.138239</td>\n      <td>...</td>\n      <td>2.080848</td>\n      <td>-1.591888</td>\n      <td>0.321636</td>\n      <td>0.889258</td>\n      <td>0.156445</td>\n      <td>-0.960611</td>\n      <td>-0.035302</td>\n      <td>0.182321</td>\n      <td>15.89</td>\n      <td>0</td>\n    </tr>\n    <tr>\n      <th>5</th>\n      <td>91554.0</td>\n      <td>-5.100256</td>\n      <td>3.633442</td>\n      <td>-3.843919</td>\n      <td>0.183208</td>\n      <td>-1.183997</td>\n      <td>1.602139</td>\n      <td>-3.005953</td>\n      <td>-8.645038</td>\n      <td>1.285458</td>\n      <td>...</td>\n      <td>8.280439</td>\n      <td>-2.797150</td>\n      <td>1.090707</td>\n      <td>-0.159260</td>\n      <td>0.532156</td>\n      <td>-0.497126</td>\n      <td>0.943622</td>\n      <td>0.553581</td>\n      <td>261.22</td>\n      <td>1</td>\n    </tr>\n    <tr>\n      <th>6</th>\n      <td>142280.0</td>\n      <td>-1.169203</td>\n      <td>1.863414</td>\n      <td>-2.515135</td>\n      <td>5.463681</td>\n      <td>-0.297971</td>\n      <td>1.364918</td>\n      <td>0.759219</td>\n      <td>-0.118861</td>\n      <td>-2.293921</td>\n      <td>...</td>\n      <td>-0.393090</td>\n      <td>-0.708692</td>\n      <td>0.471309</td>\n      <td>-0.078616</td>\n      <td>-0.544655</td>\n      <td>0.014777</td>\n      <td>-0.240930</td>\n      <td>-0.781055</td>\n      <td>324.59</td>\n      <td>1</td>\n    </tr>\n    <tr>\n      <th>7</th>\n      <td>95.0</td>\n      <td>1.195572</td>\n      <td>0.258858</td>\n      <td>0.635796</td>\n      <td>0.641257</td>\n      <td>-0.395081</td>\n      <td>-0.694667</td>\n      <td>0.034086</td>\n      <td>-0.124346</td>\n      <td>-0.078400</td>\n      <td>...</td>\n      <td>-0.201249</td>\n      <td>-0.516925</td>\n      <td>0.199096</td>\n      <td>0.412552</td>\n      <td>0.122984</td>\n      <td>0.101940</td>\n      <td>-0.007846</td>\n      <td>0.020214</td>\n      <td>1.29</td>\n      <td>0</td>\n    </tr>\n    <tr>\n      <th>8</th>\n      <td>303.0</td>\n      <td>1.254258</td>\n      <td>1.218376</td>\n      <td>-2.148615</td>\n      <td>1.155957</td>\n      <td>1.813892</td>\n      <td>-0.238358</td>\n      <td>0.623888</td>\n      <td>-0.060265</td>\n      <td>-0.739258</td>\n      <td>...</td>\n      <td>-0.210083</td>\n      <td>-0.463849</td>\n      <td>-0.370852</td>\n      <td>-1.644707</td>\n      <td>0.962670</td>\n      <td>-0.200548</td>\n      <td>0.055746</td>\n      <td>0.071654</td>\n      <td>2.95</td>\n      <td>0</td>\n    </tr>\n    <tr>\n      <th>9</th>\n      <td>307.0</td>\n      <td>-2.658288</td>\n      <td>-3.014776</td>\n      <td>2.271636</td>\n      <td>-1.218204</td>\n      <td>1.546541</td>\n      <td>-1.682064</td>\n      <td>-1.524913</td>\n      <td>0.088425</td>\n      <td>-0.761266</td>\n      <td>...</td>\n      <td>-0.212736</td>\n      <td>-0.587618</td>\n      <td>0.320804</td>\n      <td>-0.013227</td>\n      <td>-0.233772</td>\n      <td>0.742313</td>\n      <td>-0.505256</td>\n      <td>0.394053</td>\n      <td>52.90</td>\n      <td>0</td>\n    </tr>\n  </tbody>\n</table>\n<p>10 rows × 31 columns</p>\n</div>"
     },
     "execution_count": 4,
     "metadata": {},
     "output_type": "execute_result"
    }
   ],
   "source": [
    "# Select fraud and non-fraud transactions and limit non-fraud transactions to the same number as fraud transactions\n",
    "fraud_df = df.filter(f.col('Class') == 1)\n",
    "non_fraud_df = df.filter(f.col('Class') == 0).limit(fraud_df.count())\n",
    "\n",
    "# Combine fraud and non-fraud transactions and shuffle the data\n",
    "balanced_df = fraud_df.union(non_fraud_df).orderBy(f.rand())\n",
    "\n",
    "# Show 10 rows of the shuffled, balanced dataframe\n",
    "balanced_df.limit(10).toPandas()"
   ],
   "metadata": {
    "collapsed": false,
    "ExecuteTime": {
     "start_time": "2023-04-30T08:36:17.248010Z",
     "end_time": "2023-04-30T08:36:22.887211Z"
    }
   }
  },
  {
   "cell_type": "code",
   "execution_count": 5,
   "outputs": [
    {
     "name": "stderr",
     "output_type": "stream",
     "text": [
      "                                                                                \r"
     ]
    },
    {
     "name": "stdout",
     "output_type": "stream",
     "text": [
      "Train shape:  (825, 31)\n"
     ]
    },
    {
     "name": "stderr",
     "output_type": "stream",
     "text": [
      "[Stage 26:======================================>                   (2 + 1) / 3]\r"
     ]
    },
    {
     "name": "stdout",
     "output_type": "stream",
     "text": [
      "Test shape:  (159, 31)\n"
     ]
    },
    {
     "name": "stderr",
     "output_type": "stream",
     "text": [
      "                                                                                \r"
     ]
    }
   ],
   "source": [
    "# build a data split: 80/20\n",
    "train, test = .lambda .randomSplit(weights=[0.8, 0.2], seed=42)\n",
    "print('Train shape: ', (train.count(), len(train.columns)))\n",
    "print('Test shape: ', (test.count(), len(test.columns)))"
   ],
   "metadata": {
    "collapsed": false,
    "ExecuteTime": {
     "start_time": "2023-04-30T08:36:48.327472Z",
     "end_time": "2023-04-30T08:36:59.369806Z"
    }
   }
  },
  {
   "cell_type": "code",
   "execution_count": 6,
   "outputs": [
    {
     "name": "stdout",
     "output_type": "stream",
     "text": [
      "['Time', 'V1', 'V2', 'V3', 'V4', 'V5', 'V6', 'V7', 'V8', 'V9', 'V10', 'V11', 'V12', 'V13', 'V14', 'V15', 'V16', 'V17', 'V18', 'V19', 'V20', 'V21', 'V22', 'V23', 'V24', 'V25', 'V26', 'V27', 'V28', 'Amount']\n",
      "30\n"
     ]
    }
   ],
   "source": [
    "# get feature columns names\n",
    "feature_columns = [col for col in balanced_df.columns if col!= 'Class']\n",
    "print(feature_columns)\n",
    "print(len(feature_columns))"
   ],
   "metadata": {
    "collapsed": false,
    "ExecuteTime": {
     "start_time": "2023-04-30T08:37:16.814654Z",
     "end_time": "2023-04-30T08:37:16.843001Z"
    }
   }
  },
  {
   "cell_type": "code",
   "execution_count": 7,
   "outputs": [
    {
     "name": "stderr",
     "output_type": "stream",
     "text": [
      "[Stage 38:===================>                                      (1 + 1) / 3]\r"
     ]
    },
    {
     "name": "stdout",
     "output_type": "stream",
     "text": [
      "+----+--------------------+-----+\n",
      "|Time|            Features|Class|\n",
      "+----+--------------------+-----+\n",
      "| 0.0|[0.0,-1.359807133...|    0|\n",
      "| 0.0|[0.0,1.1918571113...|    0|\n",
      "| 1.0|[1.0,-0.966271711...|    0|\n",
      "| 2.0|[2.0,-1.158233093...|    0|\n",
      "| 2.0|[2.0,-0.425965884...|    0|\n",
      "| 7.0|[7.0,-0.894286082...|    0|\n",
      "| 9.0|[9.0,-0.338261752...|    0|\n",
      "|10.0|[10.0,0.384978215...|    0|\n",
      "|10.0|[10.0,1.249998742...|    0|\n",
      "|10.0|[10.0,1.449043781...|    0|\n",
      "+----+--------------------+-----+\n",
      "only showing top 10 rows\n",
      "\n"
     ]
    },
    {
     "name": "stderr",
     "output_type": "stream",
     "text": [
      "                                                                                \r"
     ]
    }
   ],
   "source": [
    "# vectorize\n",
    "vectorizer = VectorAssembler(inputCols=feature_columns, outputCol=\"features\")\n",
    "train_vec = vectorizer.transform(train)\n",
    "test_vec = vectorizer.transform(test)\n",
    "\n",
    "train_vec.select('Time','Features','Class').show(10)"
   ],
   "metadata": {
    "collapsed": false,
    "ExecuteTime": {
     "start_time": "2023-04-30T08:37:18.927709Z",
     "end_time": "2023-04-30T08:37:25.686738Z"
    }
   }
  },
  {
   "cell_type": "code",
   "execution_count": 8,
   "outputs": [
    {
     "name": "stdout",
     "output_type": "stream",
     "text": [
      "Current model:  Logistic Regression\n"
     ]
    },
    {
     "name": "stderr",
     "output_type": "stream",
     "text": [
      "                                                                                \r"
     ]
    },
    {
     "name": "stdout",
     "output_type": "stream",
     "text": [
      "23/04/30 08:37:39 WARN InstanceBuilder$NativeBLAS: Failed to load implementation from:dev.ludovic.netlib.blas.JNIBLAS\n",
      "23/04/30 08:37:39 WARN InstanceBuilder$NativeBLAS: Failed to load implementation from:dev.ludovic.netlib.blas.ForeignLinkerBLAS\n"
     ]
    },
    {
     "name": "stderr",
     "output_type": "stream",
     "text": [
      "                                                                                \r"
     ]
    },
    {
     "name": "stdout",
     "output_type": "stream",
     "text": [
      "Accuracy:  0.9245283018867925\n"
     ]
    },
    {
     "name": "stderr",
     "output_type": "stream",
     "text": [
      "                                                                                \r"
     ]
    },
    {
     "name": "stdout",
     "output_type": "stream",
     "text": [
      "Precision:  0.8588235294117647\n"
     ]
    },
    {
     "name": "stderr",
     "output_type": "stream",
     "text": [
      "                                                                                \r"
     ]
    },
    {
     "name": "stdout",
     "output_type": "stream",
     "text": [
      "Recall:  1.0\n"
     ]
    },
    {
     "name": "stderr",
     "output_type": "stream",
     "text": [
      "                                                                                \r"
     ]
    },
    {
     "name": "stdout",
     "output_type": "stream",
     "text": [
      "F1-score:  0.9245641270599474\n",
      "Current model:  Decision Tree\n"
     ]
    },
    {
     "name": "stderr",
     "output_type": "stream",
     "text": [
      "                                                                                \r"
     ]
    },
    {
     "name": "stdout",
     "output_type": "stream",
     "text": [
      "Accuracy:  1.0\n"
     ]
    },
    {
     "name": "stderr",
     "output_type": "stream",
     "text": [
      "                                                                                \r"
     ]
    },
    {
     "name": "stdout",
     "output_type": "stream",
     "text": [
      "Precision:  1.0\n"
     ]
    },
    {
     "name": "stderr",
     "output_type": "stream",
     "text": [
      "                                                                                \r"
     ]
    },
    {
     "name": "stdout",
     "output_type": "stream",
     "text": [
      "Recall:  1.0\n"
     ]
    },
    {
     "name": "stderr",
     "output_type": "stream",
     "text": [
      "                                                                                \r"
     ]
    },
    {
     "name": "stdout",
     "output_type": "stream",
     "text": [
      "F1-score:  1.0\n",
      "Current model:  Random Forest\n"
     ]
    },
    {
     "name": "stderr",
     "output_type": "stream",
     "text": [
      "                                                                                \r"
     ]
    },
    {
     "name": "stdout",
     "output_type": "stream",
     "text": [
      "Accuracy:  1.0\n"
     ]
    },
    {
     "name": "stderr",
     "output_type": "stream",
     "text": [
      "                                                                                \r"
     ]
    },
    {
     "name": "stdout",
     "output_type": "stream",
     "text": [
      "Precision:  1.0\n"
     ]
    },
    {
     "name": "stderr",
     "output_type": "stream",
     "text": [
      "                                                                                \r"
     ]
    },
    {
     "name": "stdout",
     "output_type": "stream",
     "text": [
      "Recall:  1.0\n"
     ]
    },
    {
     "name": "stderr",
     "output_type": "stream",
     "text": [
      "                                                                                \r"
     ]
    },
    {
     "name": "stdout",
     "output_type": "stream",
     "text": [
      "F1-score:  1.0\n",
      "Current model:  Gradient-Boosted Tree\n"
     ]
    },
    {
     "name": "stderr",
     "output_type": "stream",
     "text": [
      "                                                                                \r"
     ]
    },
    {
     "name": "stdout",
     "output_type": "stream",
     "text": [
      "Accuracy:  1.0\n"
     ]
    },
    {
     "name": "stderr",
     "output_type": "stream",
     "text": [
      "                                                                                \r"
     ]
    },
    {
     "name": "stdout",
     "output_type": "stream",
     "text": [
      "Precision:  1.0\n"
     ]
    },
    {
     "name": "stderr",
     "output_type": "stream",
     "text": [
      "                                                                                \r"
     ]
    },
    {
     "name": "stdout",
     "output_type": "stream",
     "text": [
      "Recall:  1.0\n"
     ]
    },
    {
     "name": "stderr",
     "output_type": "stream",
     "text": [
      "                                                                                \r"
     ]
    },
    {
     "name": "stdout",
     "output_type": "stream",
     "text": [
      "F1-score:  1.0\n",
      "Current model:  Linear Support Vector Machines\n"
     ]
    },
    {
     "name": "stderr",
     "output_type": "stream",
     "text": [
      "                                                                                \r"
     ]
    },
    {
     "name": "stdout",
     "output_type": "stream",
     "text": [
      "Accuracy:  0.9874213836477987\n"
     ]
    },
    {
     "name": "stderr",
     "output_type": "stream",
     "text": [
      "                                                                                \r"
     ]
    },
    {
     "name": "stdout",
     "output_type": "stream",
     "text": [
      "Precision:  0.9733333333333334\n"
     ]
    },
    {
     "name": "stderr",
     "output_type": "stream",
     "text": [
      "                                                                                \r"
     ]
    },
    {
     "name": "stdout",
     "output_type": "stream",
     "text": [
      "Recall:  1.0\n"
     ]
    },
    {
     "name": "stderr",
     "output_type": "stream",
     "text": [
      "[Stage 1245:=====================================>                  (2 + 1) / 3]\r"
     ]
    },
    {
     "name": "stdout",
     "output_type": "stream",
     "text": [
      "F1-score:  0.9874323824379319\n"
     ]
    },
    {
     "name": "stderr",
     "output_type": "stream",
     "text": [
      "                                                                                \r"
     ]
    }
   ],
   "source": [
    "# instantiate Models\n",
    "\n",
    "# regression\n",
    "lr = LogisticRegression(\n",
    "    featuresCol='features',\n",
    "    labelCol='Class',\n",
    "    predictionCol='Class_Prediction',\n",
    "    maxIter=10,\n",
    "    regParam=0.3,\n",
    "    elasticNetParam=0.8\n",
    ")\n",
    "# decison tree\n",
    "dt = DecisionTreeClassifier(featuresCol='features',\n",
    "                            labelCol='Class',\n",
    "                            predictionCol='Class_Prediction'\n",
    "                            )\n",
    "# random forest\n",
    "rf = RandomForestClassifier(\n",
    "    featuresCol='features',\n",
    "    labelCol='Class',\n",
    "    predictionCol='Class_Prediction'\n",
    ")\n",
    "# gradient - boosted tree\n",
    "gbt = GBTClassifier(\n",
    "    featuresCol='features',\n",
    "    labelCol='Class',\n",
    "    predictionCol='Class_Prediction'\n",
    ")\n",
    "# linear support vector machines\n",
    "lsvc = LinearSVC(\n",
    "    featuresCol='features',\n",
    "    labelCol='Class',\n",
    "    predictionCol='Class_Prediction'\n",
    ")\n",
    "\n",
    "# create list of models\n",
    "list_of_models = [lr, dt, rf, gbt, lsvc]\n",
    "list_of_model_names = ['Logistic Regression', 'Decision Tree', 'Random Forest', 'Gradient-Boosted Tree', 'Linear Support Vector Machines']\n",
    "\n",
    "# go through list\n",
    "for model, model_name in zip(list_of_models, list_of_model_names):\n",
    "\n",
    "    # print current model\n",
    "    print('Current model: ', model_name)\n",
    "\n",
    "    # create a pipeline object\n",
    "    pipeline = Pipeline(stages=[model])\n",
    "\n",
    "    # fit pipeline\n",
    "    pipeline_model = pipeline.fit(train_vec)\n",
    "\n",
    "    # get scores on the test set\n",
    "    test_pred = pipeline_model.transform(test_vec)\n",
    "\n",
    "\n",
    "    # get accuracy on test set\n",
    "    accuracy_evaluator = MulticlassClassificationEvaluator(predictionCol='Class_Prediction', labelCol='Class', metricName='accuracy')\n",
    "    accuracy_score = accuracy_evaluator.evaluate(test_pred)\n",
    "    print('Accuracy: ', accuracy_score)\n",
    "\n",
    "    # get precision on test set\n",
    "    precision_evaluator = MulticlassClassificationEvaluator(predictionCol='Class_Prediction', labelCol='Class', metricName='precisionByLabel')\n",
    "    precision_score = precision_evaluator.evaluate(test_pred)\n",
    "    print('Precision: ', precision_score)\n",
    "\n",
    "    # get recall on test set\n",
    "    recall_evaluator = MulticlassClassificationEvaluator(predictionCol='Class_Prediction', labelCol='Class', metricName='recallByLabel')\n",
    "    recall_score = recall_evaluator.evaluate(test_pred)\n",
    "    print('Recall: ', recall_score)\n",
    "\n",
    "    # get f1-score on test set\n",
    "    f1_evaluator = MulticlassClassificationEvaluator(predictionCol='Class_Prediction', labelCol='Class', metricName='f1')\n",
    "    f1_score = f1_evaluator.evaluate(test_pred)\n",
    "    print('F1-score: ', f1_score)"
   ],
   "metadata": {
    "collapsed": false,
    "ExecuteTime": {
     "start_time": "2023-04-30T08:37:29.953963Z",
     "end_time": "2023-04-30T08:40:55.623545Z"
    }
   }
  },
  {
   "cell_type": "markdown",
   "source": [
    "As expected when working with an imbalanced, binary-targeted dataset, the predictions have excellent values for every metric. This happens because, in this particular case, 99% of records have a value of '0 - not fraud', which means that the model is basically training to predict 0s most of the time.\n",
    "\n",
    "## 2.2 Feature Selection"
   ],
   "metadata": {
    "collapsed": false
   }
  },
  {
   "cell_type": "code",
   "execution_count": 11,
   "outputs": [
    {
     "name": "stderr",
     "output_type": "stream",
     "text": [
      "                                                                                \r"
     ]
    },
    {
     "data": {
      "text/plain": "       Time        V1        V2        V3        V4        V5        V6  \\\n0  135095.0  0.232512  0.938944 -4.647780  3.079844 -1.902655 -1.041408   \n1  169142.0 -1.927883  1.125653 -4.518331  1.749293 -1.566487 -2.010494   \n2  160870.0 -0.644278  5.002352 -8.252739  7.756915 -0.216267 -2.751496   \n3     145.0 -2.420413  1.947885  0.553646  0.983069 -0.281518  2.408958   \n4      91.0 -1.822273  1.235336 -0.307804 -1.821824  2.762482  3.641499   \n\n         V7        V8        V9  ...       V21       V22       V23       V24  \\\n0 -1.020407  0.547069 -1.105990  ...  0.911373  1.042929  0.999394  0.901260   \n1 -0.882850  0.697211 -2.064945  ...  0.778584 -0.319189  0.639419 -0.294885   \n2 -3.358857  1.406268 -4.403852  ...  0.587728 -0.605759  0.033746 -0.756170   \n3 -1.401613 -0.188299  0.675878  ...  1.213826 -1.238620  0.006927 -1.724222   \n4 -0.344614 -1.547541 -0.138239  ...  2.080848 -1.591888  0.321636  0.889258   \n\n        V25       V26       V27       V28  Amount  Class  \n0 -0.452093  0.192959  0.180859 -0.029315  345.00      1  \n1  0.537503  0.788395  0.292680  0.147968  390.00      1  \n2 -0.008172  0.532772  0.663970  0.192067    0.77      1  \n3  0.239603 -0.313703 -0.188281  0.119831    6.00      0  \n4  0.156445 -0.960611 -0.035302  0.182321   15.89      0  \n\n[5 rows x 31 columns]",
      "text/html": "<div>\n<style scoped>\n    .dataframe tbody tr th:only-of-type {\n        vertical-align: middle;\n    }\n\n    .dataframe tbody tr th {\n        vertical-align: top;\n    }\n\n    .dataframe thead th {\n        text-align: right;\n    }\n</style>\n<table border=\"1\" class=\"dataframe\">\n  <thead>\n    <tr style=\"text-align: right;\">\n      <th></th>\n      <th>Time</th>\n      <th>V1</th>\n      <th>V2</th>\n      <th>V3</th>\n      <th>V4</th>\n      <th>V5</th>\n      <th>V6</th>\n      <th>V7</th>\n      <th>V8</th>\n      <th>V9</th>\n      <th>...</th>\n      <th>V21</th>\n      <th>V22</th>\n      <th>V23</th>\n      <th>V24</th>\n      <th>V25</th>\n      <th>V26</th>\n      <th>V27</th>\n      <th>V28</th>\n      <th>Amount</th>\n      <th>Class</th>\n    </tr>\n  </thead>\n  <tbody>\n    <tr>\n      <th>0</th>\n      <td>135095.0</td>\n      <td>0.232512</td>\n      <td>0.938944</td>\n      <td>-4.647780</td>\n      <td>3.079844</td>\n      <td>-1.902655</td>\n      <td>-1.041408</td>\n      <td>-1.020407</td>\n      <td>0.547069</td>\n      <td>-1.105990</td>\n      <td>...</td>\n      <td>0.911373</td>\n      <td>1.042929</td>\n      <td>0.999394</td>\n      <td>0.901260</td>\n      <td>-0.452093</td>\n      <td>0.192959</td>\n      <td>0.180859</td>\n      <td>-0.029315</td>\n      <td>345.00</td>\n      <td>1</td>\n    </tr>\n    <tr>\n      <th>1</th>\n      <td>169142.0</td>\n      <td>-1.927883</td>\n      <td>1.125653</td>\n      <td>-4.518331</td>\n      <td>1.749293</td>\n      <td>-1.566487</td>\n      <td>-2.010494</td>\n      <td>-0.882850</td>\n      <td>0.697211</td>\n      <td>-2.064945</td>\n      <td>...</td>\n      <td>0.778584</td>\n      <td>-0.319189</td>\n      <td>0.639419</td>\n      <td>-0.294885</td>\n      <td>0.537503</td>\n      <td>0.788395</td>\n      <td>0.292680</td>\n      <td>0.147968</td>\n      <td>390.00</td>\n      <td>1</td>\n    </tr>\n    <tr>\n      <th>2</th>\n      <td>160870.0</td>\n      <td>-0.644278</td>\n      <td>5.002352</td>\n      <td>-8.252739</td>\n      <td>7.756915</td>\n      <td>-0.216267</td>\n      <td>-2.751496</td>\n      <td>-3.358857</td>\n      <td>1.406268</td>\n      <td>-4.403852</td>\n      <td>...</td>\n      <td>0.587728</td>\n      <td>-0.605759</td>\n      <td>0.033746</td>\n      <td>-0.756170</td>\n      <td>-0.008172</td>\n      <td>0.532772</td>\n      <td>0.663970</td>\n      <td>0.192067</td>\n      <td>0.77</td>\n      <td>1</td>\n    </tr>\n    <tr>\n      <th>3</th>\n      <td>145.0</td>\n      <td>-2.420413</td>\n      <td>1.947885</td>\n      <td>0.553646</td>\n      <td>0.983069</td>\n      <td>-0.281518</td>\n      <td>2.408958</td>\n      <td>-1.401613</td>\n      <td>-0.188299</td>\n      <td>0.675878</td>\n      <td>...</td>\n      <td>1.213826</td>\n      <td>-1.238620</td>\n      <td>0.006927</td>\n      <td>-1.724222</td>\n      <td>0.239603</td>\n      <td>-0.313703</td>\n      <td>-0.188281</td>\n      <td>0.119831</td>\n      <td>6.00</td>\n      <td>0</td>\n    </tr>\n    <tr>\n      <th>4</th>\n      <td>91.0</td>\n      <td>-1.822273</td>\n      <td>1.235336</td>\n      <td>-0.307804</td>\n      <td>-1.821824</td>\n      <td>2.762482</td>\n      <td>3.641499</td>\n      <td>-0.344614</td>\n      <td>-1.547541</td>\n      <td>-0.138239</td>\n      <td>...</td>\n      <td>2.080848</td>\n      <td>-1.591888</td>\n      <td>0.321636</td>\n      <td>0.889258</td>\n      <td>0.156445</td>\n      <td>-0.960611</td>\n      <td>-0.035302</td>\n      <td>0.182321</td>\n      <td>15.89</td>\n      <td>0</td>\n    </tr>\n  </tbody>\n</table>\n<p>5 rows × 31 columns</p>\n</div>"
     },
     "execution_count": 11,
     "metadata": {},
     "output_type": "execute_result"
    }
   ],
   "source": [
    "df1_new = balanced_df.toPandas()\n",
    "df1_new.head()"
   ],
   "metadata": {
    "collapsed": false,
    "ExecuteTime": {
     "start_time": "2023-04-30T09:32:12.239067Z",
     "end_time": "2023-04-30T09:32:19.562818Z"
    }
   }
  },
  {
   "cell_type": "markdown",
   "source": [
    "## Correlation Coefficient Method\n",
    "\n",
    "Correlation is a measure of the linear relationship between 2 or more variables. Through correlation, we can predict one variable from the other. The logic behind using correlation for feature selection is that good variables correlate highly with the target. Furthermore, variables should be correlated with the target but uncorrelated among themselves.\n",
    "\n",
    "If two variables are correlated, we can predict one from the other. Therefore, if two features are correlated, the model only needs one, as the second does not add additional information. We will use the Pearson Correlation here.\n"
   ],
   "metadata": {
    "collapsed": false
   }
  },
  {
   "cell_type": "code",
   "execution_count": 12,
   "outputs": [
    {
     "data": {
      "text/plain": "<Figure size 1000x1500 with 2 Axes>",
      "image/png": "[encoded data removed]"
     },
     "metadata": {},
     "output_type": "display_data"
    }
   ],
   "source": [
    "corr = df1_new.corrwith(df1_new['Class'],method='pearson').reset_index()\n",
    "\n",
    "corr.columns = ['Index','Correlations']\n",
    "corr = corr.set_index('Index')\n",
    "corr = corr.sort_values(by=['Correlations'], ascending = False).head(30)\n",
    "\n",
    "plt.figure(figsize=(10, 15))\n",
    "fig = sns.heatmap(corr, annot=True, fmt=\"g\", cmap='Set3', linewidths=0.4, linecolor='green')\n",
    "\n",
    "plt.title(\"Correlation of Variables with Class\", fontsize=15)\n",
    "plt.show();"
   ],
   "metadata": {
    "collapsed": false,
    "ExecuteTime": {
     "start_time": "2023-04-30T09:32:35.782256Z",
     "end_time": "2023-04-30T09:32:36.226238Z"
    }
   }
  },
  {
   "cell_type": "markdown",
   "source": [
    "##  Kbest Select Method\n",
    "\n",
    "Select features according to the k highest scores."
   ],
   "metadata": {
    "collapsed": false
   }
  },
  {
   "cell_type": "code",
   "execution_count": 15,
   "outputs": [],
   "source": [
    "X = df1_new.drop(['Class'],axis = 1)\n",
    "target = df1_new['Class']\n",
    "target_train, X_test, Y_train, Y_test = train_test_split(X, target, test_size= 0.3, random_state = 42)"
   ],
   "metadata": {
    "collapsed": false,
    "ExecuteTime": {
     "start_time": "2023-04-30T09:33:42.080062Z",
     "end_time": "2023-04-30T09:33:42.116774Z"
    }
   }
  },
  {
   "cell_type": "code",
   "execution_count": 18,
   "outputs": [
    {
     "name": "stdout",
     "output_type": "stream",
     "text": [
      "   Feature     Score\n",
      "0     Time  0.682922\n",
      "12     V12  0.477646\n",
      "3       V3  0.476113\n",
      "14     V14  0.467275\n",
      "10     V10  0.465325\n",
      "17     V17  0.444741\n",
      "11     V11  0.370606\n",
      "4       V4  0.370422\n",
      "16     V16  0.341620\n",
      "7       V7  0.322072\n",
      "2       V2  0.320593\n",
      "9       V9  0.285274\n",
      "21     V21  0.253344\n",
      "1       V1  0.236562\n",
      "6       V6  0.235414\n",
      "27     V27  0.232329\n",
      "18     V18  0.226863\n",
      "29  Amount  0.210029\n",
      "5       V5  0.187593\n",
      "28     V28  0.176904\n",
      "8       V8  0.160720\n",
      "19     V19  0.141317\n",
      "20     V20  0.122468\n"
     ]
    }
   ],
   "source": [
    "bestfeatures = SelectKBest(score_func=mutual_info_classif, k=29)\n",
    "fit = bestfeatures.fit(X,target)\n",
    "dfscores = pd.DataFrame(fit.scores_)\n",
    "dfcolumns = pd.DataFrame(X.columns)\n",
    "featureScores = pd.concat([dfcolumns,dfscores],axis=1)\n",
    "featureScores.columns = ['Feature','Score']\n",
    "print(featureScores.nlargest(23,'Score'))"
   ],
   "metadata": {
    "collapsed": false,
    "ExecuteTime": {
     "start_time": "2023-04-30T09:35:25.555415Z",
     "end_time": "2023-04-30T09:35:25.688974Z"
    }
   }
  },
  {
   "cell_type": "code",
   "execution_count": 20,
   "outputs": [
    {
     "data": {
      "text/plain": "<Figure size 2000x800 with 1 Axes>",
      "image/png": "[encoded data removed]"
     },
     "metadata": {},
     "output_type": "display_data"
    }
   ],
   "source": [
    "plt.figure(figsize=(20,8))\n",
    "featureScores2 = featureScores.sort_values('Score', ascending=False)\n",
    "plt.bar(\"Feature\", \"Score\", data=featureScores2)\n",
    "plt.show();"
   ],
   "metadata": {
    "collapsed": false,
    "ExecuteTime": {
     "start_time": "2023-04-30T09:35:49.555352Z",
     "end_time": "2023-04-30T09:35:49.788502Z"
    }
   }
  },
  {
   "cell_type": "markdown",
   "source": [
    "## Mutual Information Classification Method\n",
    "\n",
    "Mutual information (MI) between two random variables is a non-negative value, which measures the dependency between the variables. It is equal to zero if and only if two random variables are independent, and higher values mean higher dependency."
   ],
   "metadata": {
    "collapsed": false
   }
  },
  {
   "cell_type": "code",
   "execution_count": null,
   "outputs": [],
   "source": [
    "# determine the mutual information\n",
    "mutual_info = mutual_info_classif(X_train, Y_train)\n",
    "mutual_info = pd.Series(mutual_info)\n",
    "dfcolumns = pd.DataFrame(X.columns)\n",
    "feature_score3 = pd.concat([dfcolumns,mutual_info],axis=1)\n",
    "feature_score3.columns = ['Feature','Score']\n",
    "print(feature_score3.nlargest(28,'Score'))"
   ],
   "metadata": {
    "collapsed": false
   }
  },
  {
   "cell_type": "code",
   "execution_count": null,
   "outputs": [],
   "source": [],
   "metadata": {
    "collapsed": false
   }
  },
  {
   "cell_type": "code",
   "execution_count": null,
   "outputs": [],
   "source": [],
   "metadata": {
    "collapsed": false
   }
  },
  {
   "cell_type": "code",
   "execution_count": null,
   "outputs": [],
   "source": [],
   "metadata": {
    "collapsed": false
   }
  },
  {
   "cell_type": "code",
   "execution_count": null,
   "outputs": [],
   "source": [],
   "metadata": {
    "collapsed": false
   }
  },
  {
   "cell_type": "code",
   "execution_count": null,
   "outputs": [],
   "source": [],
   "metadata": {
    "collapsed": false
   }
  },
  {
   "cell_type": "markdown",
   "source": [
    "## 2.3 Hyperparameter tuning with CrossValidator"
   ],
   "metadata": {
    "collapsed": false
   }
  },
  {
   "cell_type": "code",
   "execution_count": null,
   "outputs": [],
   "source": [
    "rfparamGrid = (ParamGridBuilder()\n",
    "               .addGrid(rf.maxDepth, [2, 4, 5])\n",
    "               .addGrid(rf.numTrees, [5, 10, 20, 100])\n",
    "               .build())"
   ],
   "metadata": {
    "collapsed": false
   }
  },
  {
   "cell_type": "code",
   "execution_count": null,
   "outputs": [],
   "source": [
    "evaluatorRF=BinaryClassificationEvaluator(labelCol='Class')\n",
    "\n",
    "cv = CrossValidator(estimator = rf,\n",
    "                    estimatorParamMaps = rfparamGrid,\n",
    "                    evaluator = evaluatorRF,\n",
    "                    numFolds = 5)\n",
    "\n",
    "rfcv=cv.fit(test_pred)"
   ],
   "metadata": {
    "collapsed": false
   }
  }
 ],
 "metadata": {
  "kernelspec": {
   "display_name": "Python 3",
   "language": "python",
   "name": "python3"
  },
  "language_info": {
   "codemirror_mode": {
    "name": "ipython",
    "version": 2
   },
   "file_extension": ".py",
   "mimetype": "text/x-python",
   "name": "python",
   "nbconvert_exporter": "python",
   "pygments_lexer": "ipython2",
   "version": "2.7.6"
  }
 },
 "nbformat": 4,
 "nbformat_minor": 0
}

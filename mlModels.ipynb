{
 "cells": [
  {
   "attachments": {},
   "cell_type": "markdown",
   "metadata": {},
   "source": [
    "### Machine Learning Pipeline\n",
    "The pipeline will involve the following models:\n",
    "1. Decision Tree\n",
    "2. Regression\n",
    "3. Random Forest\n",
    "4. Gradient-boosted trees\n",
    "5. Naive Bayes"
   ]
  },
  {
   "attachments": {},
   "cell_type": "markdown",
   "metadata": {},
   "source": [
    "### How will this work?\n",
    "Here's our recipe for success:\n",
    "- 1st: load the data\n",
    "- 2nd: split the data (80/20 approach)\n",
    "- 3rd: get our feature columns and vectorize\n",
    "- 4th: instantiate Models\n",
    "- 5th: build and run the pipeline\n",
    "- 6th: apply metrics (we use accuracy, precision, recall and f1-score)\n",
    "\n",
    "Documentation: \n",
    "- https://spark.apache.org/docs/latest/ml-pipeline.html; \n",
    "- https://spark.apache.org/docs/latest/ml-classification-regression.html#decision-tree-classifier\n",
    "- https://www.v7labs.com/blog/f1-score-guide\n",
    "- https://developers.google.com/machine-learning/crash-course/classification/precision-and-recall\n",
    "- https://datascience-enthusiast.com/Python/PySpark_ML_with_Text_part1.html\n",
    "               "
   ]
  },
  {
   "attachments": {},
   "cell_type": "markdown",
   "metadata": {},
   "source": [
    "### Let's start with the imbalanced dataset\n"
   ]
  },
  {
   "cell_type": "code",
   "execution_count": 12,
   "metadata": {},
   "outputs": [],
   "source": [
    "# imports and configure spark session\n",
    "\n",
    "import numpy as np\n",
    "import seaborn as sns\n",
    "import matplotlib.pyplot as plt\n",
    "import pyspark.sql.functions as f\n",
    "from pyspark.sql import SparkSession\n",
    "from pyspark.ml import Pipeline, PipelineModel\n",
    "from pyspark.ml.classification import LogisticRegression, DecisionTreeClassifier, RandomForestClassifier, GBTClassifier, LinearSVC, NaiveBayes\n",
    "from pyspark.ml.feature import StringIndexer, VectorIndexer, IndexToString, VectorAssembler\n",
    "from pyspark.ml.evaluation import MulticlassClassificationEvaluator, BinaryClassificationEvaluator\n",
    "from pyspark.mllib.evaluation import MulticlassMetrics \n",
    "from pyspark.mllib.linalg import Matrix\n",
    "\n",
    "spark = SparkSession \\\n",
    "    .builder \\\n",
    "    .master(\"local\") \\\n",
    "    .appName(\"xpto\") \\\n",
    "    .getOrCreate()\n",
    "sc = spark.sparkContext"
   ]
  },
  {
   "cell_type": "code",
   "execution_count": 13,
   "metadata": {},
   "outputs": [
    {
     "name": "stderr",
     "output_type": "stream",
     "text": [
      "                                                                                \r"
     ]
    },
    {
     "name": "stdout",
     "output_type": "stream",
     "text": [
      "+----+------------------+-------------------+----------------+------------------+-------------------+-------------------+-------------------+------------------+------------------+-------------------+------------------+------------------+------------------+------------------+------------------+------------------+------------------+-------------------+------------------+-------------------+--------------------+-------------------+------------------+------------------+------------------+------------------+--------------------+-------------------+------+-----+\n",
      "|Time|                V1|                 V2|              V3|                V4|                 V5|                 V6|                 V7|                V8|                V9|                V10|               V11|               V12|               V13|               V14|               V15|               V16|               V17|                V18|               V19|                V20|                 V21|                V22|               V23|               V24|               V25|               V26|                 V27|                V28|Amount|Class|\n",
      "+----+------------------+-------------------+----------------+------------------+-------------------+-------------------+-------------------+------------------+------------------+-------------------+------------------+------------------+------------------+------------------+------------------+------------------+------------------+-------------------+------------------+-------------------+--------------------+-------------------+------------------+------------------+------------------+------------------+--------------------+-------------------+------+-----+\n",
      "| 0.0|  -1.3598071336738|-0.0727811733098497|2.53634673796914|  1.37815522427443| -0.338320769942518|  0.462387777762292|  0.239598554061257|0.0986979012610507| 0.363786969611213| 0.0907941719789316|-0.551599533260813|-0.617800855762348|-0.991389847235408|-0.311169353699879|  1.46817697209427|-0.470400525259478| 0.207971241929242| 0.0257905801985591| 0.403992960255733|  0.251412098239705|  -0.018306777944153|  0.277837575558899|-0.110473910188767|0.0669280749146731| 0.128539358273528|-0.189114843888824|   0.133558376740387|-0.0210530534538215|149.62|    0|\n",
      "| 0.0|  1.19185711131486|   0.26615071205963|0.16648011335321| 0.448154078460911| 0.0600176492822243|-0.0823608088155687|-0.0788029833323113|0.0851016549148104|-0.255425128109186| -0.166974414004614|  1.61272666105479|  1.06523531137287|  0.48909501589608|-0.143772296441519| 0.635558093258208| 0.463917041022171|-0.114804663102346| -0.183361270123994|-0.145783041325259|-0.0690831352230203|  -0.225775248033138| -0.638671952771851| 0.101288021253234|-0.339846475529127| 0.167170404418143| 0.125894532368176|-0.00898309914322813| 0.0147241691924927|  2.69|    0|\n",
      "| 1.0| -1.35835406159823|  -1.34016307473609|1.77320934263119| 0.379779593034328| -0.503198133318193|   1.80049938079263|  0.791460956450422| 0.247675786588991| -1.51465432260583|  0.207642865216696| 0.624501459424895| 0.066083685268831| 0.717292731410831|-0.165945922763554|  2.34586494901581| -2.89008319444231|  1.10996937869599| -0.121359313195888| -2.26185709530414|  0.524979725224404|   0.247998153469754|  0.771679401917229| 0.909412262347719|-0.689280956490685|-0.327641833735251|-0.139096571514147| -0.0553527940384261|-0.0597518405929204|378.66|    0|\n",
      "| 1.0|-0.966271711572087| -0.185226008082898|1.79299333957872|-0.863291275036453|-0.0103088796030823|   1.24720316752486|   0.23760893977178| 0.377435874652262| -1.38702406270197|-0.0549519224713749|-0.226487263835401| 0.178228225877303| 0.507756869957169| -0.28792374549456|-0.631418117709045|  -1.0596472454325|-0.684092786345479|   1.96577500349538|  -1.2326219700892| -0.208037781160366|  -0.108300452035545|0.00527359678253453|-0.190320518742841| -1.17557533186321| 0.647376034602038|-0.221928844458407|  0.0627228487293033| 0.0614576285006353| 123.5|    0|\n",
      "| 2.0| -1.15823309349523|  0.877736754848451|  1.548717846511| 0.403033933955121| -0.407193377311653| 0.0959214624684256|  0.592940745385545|-0.270532677192282| 0.817739308235294|  0.753074431976354|-0.822842877946363|  0.53819555014995|   1.3458515932154| -1.11966983471731| 0.175121130008994|-0.451449182813529|-0.237033239362776|-0.0381947870352842| 0.803486924960175|  0.408542360392758|-0.00943069713232919|   0.79827849458971|-0.137458079619063| 0.141266983824769|-0.206009587619756| 0.502292224181569|   0.219422229513348|  0.215153147499206| 69.99|    0|\n",
      "+----+------------------+-------------------+----------------+------------------+-------------------+-------------------+-------------------+------------------+------------------+-------------------+------------------+------------------+------------------+------------------+------------------+------------------+------------------+-------------------+------------------+-------------------+--------------------+-------------------+------------------+------------------+------------------+------------------+--------------------+-------------------+------+-----+\n",
      "only showing top 5 rows\n",
      "\n"
     ]
    }
   ],
   "source": [
    "# load the data and show first 5 records\n",
    "data = spark.read.csv('datasets/creditcard.csv', header=True, inferSchema=True, sep=\",\")\n",
    "\n",
    "\n",
    "data.show(5)"
   ]
  },
  {
   "cell_type": "code",
   "execution_count": 14,
   "metadata": {},
   "outputs": [
    {
     "name": "stderr",
     "output_type": "stream",
     "text": [
      "                                                                                \r"
     ]
    },
    {
     "name": "stdout",
     "output_type": "stream",
     "text": [
      "Train shape:  (227766, 31)\n"
     ]
    },
    {
     "name": "stderr",
     "output_type": "stream",
     "text": [
      "                                                                                \r"
     ]
    },
    {
     "name": "stdout",
     "output_type": "stream",
     "text": [
      "Test shape:  (57041, 31)\n"
     ]
    }
   ],
   "source": [
    "# build a data split: 80/20\n",
    "train, test = data.randomSplit(weights=[0.8, 0.2], seed=42)\n",
    "print('Train shape: ', (train.count(), len(train.columns)))\n",
    "print('Test shape: ', (test.count(), len(test.columns)))"
   ]
  },
  {
   "cell_type": "code",
   "execution_count": 15,
   "metadata": {},
   "outputs": [
    {
     "name": "stdout",
     "output_type": "stream",
     "text": [
      "['Time', 'V1', 'V2', 'V3', 'V4', 'V5', 'V6', 'V7', 'V8', 'V9', 'V10', 'V11', 'V12', 'V13', 'V14', 'V15', 'V16', 'V17', 'V18', 'V19', 'V20', 'V21', 'V22', 'V23', 'V24', 'V25', 'V26', 'V27', 'V28', 'Amount']\n",
      "30\n"
     ]
    }
   ],
   "source": [
    "# get feature columns names\n",
    "feature_columns = [col for col in data.columns if col!= 'Class']\n",
    "print(feature_columns)\n",
    "print(len(feature_columns))"
   ]
  },
  {
   "cell_type": "code",
   "execution_count": 16,
   "metadata": {},
   "outputs": [],
   "source": [
    "# vectorize\n",
    "vectorizer = VectorAssembler(inputCols=feature_columns, outputCol=\"features\")\n",
    "train_vec = vectorizer.transform(train)\n",
    "test_vec = vectorizer.transform(test)"
   ]
  },
  {
   "attachments": {},
   "cell_type": "markdown",
   "metadata": {},
   "source": [
    "#### Scores on the TRAINING AND TEST SET:"
   ]
  },
  {
   "cell_type": "code",
   "execution_count": 17,
   "metadata": {},
   "outputs": [
    {
     "name": "stdout",
     "output_type": "stream",
     "text": [
      "Current model:  Logistic Regression\n"
     ]
    },
    {
     "name": "stderr",
     "output_type": "stream",
     "text": [
      "                                                                                \r"
     ]
    },
    {
     "name": "stdout",
     "output_type": "stream",
     "text": [
      "Accuracy on Train:  0.9983184496369081\n",
      "Accuracy on Test:  0.9980890938097158\n"
     ]
    },
    {
     "name": "stderr",
     "output_type": "stream",
     "text": [
      "                                                                                \r"
     ]
    },
    {
     "name": "stdout",
     "output_type": "stream",
     "text": [
      "Precision on Train:  0.9983184496369081\n",
      "Precision on Test:  0.9980890938097158\n"
     ]
    },
    {
     "name": "stderr",
     "output_type": "stream",
     "text": [
      "                                                                                \r"
     ]
    },
    {
     "name": "stdout",
     "output_type": "stream",
     "text": [
      "Recall on Train:  1.0\n",
      "Recall on Test:  1.0\n"
     ]
    },
    {
     "name": "stderr",
     "output_type": "stream",
     "text": [
      "                                                                                \r"
     ]
    },
    {
     "name": "stdout",
     "output_type": "stream",
     "text": [
      "F1-score on Train:  0.9974783819531146\n",
      "F1-score on Test:  0.9971345544782491\n",
      "Current model:  Decision Tree\n"
     ]
    },
    {
     "name": "stderr",
     "output_type": "stream",
     "text": [
      "                                                                                \r"
     ]
    },
    {
     "name": "stdout",
     "output_type": "stream",
     "text": [
      "Accuracy on Train:  0.9994511911347611\n",
      "Accuracy on Test:  0.9992812187724619\n"
     ]
    },
    {
     "name": "stderr",
     "output_type": "stream",
     "text": [
      "                                                                                \r"
     ]
    },
    {
     "name": "stdout",
     "output_type": "stream",
     "text": [
      "Precision on Train:  0.9996614074894904\n",
      "Precision on Test:  0.9995258582843094\n"
     ]
    },
    {
     "name": "stderr",
     "output_type": "stream",
     "text": [
      "                                                                                \r"
     ]
    },
    {
     "name": "stdout",
     "output_type": "stream",
     "text": [
      "Recall on Train:  0.9997889024245437\n",
      "Recall on Test:  0.9997540926017002\n"
     ]
    },
    {
     "name": "stderr",
     "output_type": "stream",
     "text": [
      "                                                                                \r"
     ]
    },
    {
     "name": "stdout",
     "output_type": "stream",
     "text": [
      "F1-score on Train:  0.9994404111714443\n",
      "F1-score on Test:  0.9992584691755807\n",
      "Current model:  Random Forest\n"
     ]
    },
    {
     "name": "stderr",
     "output_type": "stream",
     "text": [
      "                                                                                \r"
     ]
    },
    {
     "name": "stdout",
     "output_type": "stream",
     "text": [
      "Accuracy on Train:  0.9994160673673859\n",
      "Accuracy on Test:  0.999298750021914\n"
     ]
    },
    {
     "name": "stderr",
     "output_type": "stream",
     "text": [
      "                                                                                \r"
     ]
    },
    {
     "name": "stdout",
     "output_type": "stream",
     "text": [
      "Precision on Train:  0.9995954870423948\n",
      "Precision on Test:  0.9994907813871817\n"
     ]
    },
    {
     "name": "stderr",
     "output_type": "stream",
     "text": [
      "                                                                                \r"
     ]
    },
    {
     "name": "stdout",
     "output_type": "stream",
     "text": [
      "Recall on Train:  0.999819687487631\n",
      "Recall on Test:  0.9998067870441931\n"
     ]
    },
    {
     "name": "stderr",
     "output_type": "stream",
     "text": [
      "                                                                                \r"
     ]
    },
    {
     "name": "stdout",
     "output_type": "stream",
     "text": [
      "F1-score on Train:  0.9993952745370335\n",
      "F1-score on Test:  0.9992672491921044\n",
      "Current model:  Gradient-Boosted Tree\n"
     ]
    },
    {
     "name": "stderr",
     "output_type": "stream",
     "text": [
      "                                                                                \r"
     ]
    },
    {
     "name": "stdout",
     "output_type": "stream",
     "text": [
      "Accuracy on Train:  0.9996663242099347\n",
      "Accuracy on Test:  0.9994214687680791\n"
     ]
    },
    {
     "name": "stderr",
     "output_type": "stream",
     "text": [
      "                                                                                \r"
     ]
    },
    {
     "name": "stdout",
     "output_type": "stream",
     "text": [
      "Precision on Train:  0.9997273898457114\n",
      "Precision on Test:  0.9995785554989727\n"
     ]
    },
    {
     "name": "stderr",
     "output_type": "stream",
     "text": [
      "                                                                                \r"
     ]
    },
    {
     "name": "stdout",
     "output_type": "stream",
     "text": [
      "Recall on Train:  0.9999384298738252\n",
      "Recall on Test:  0.9998419166725216\n"
     ]
    },
    {
     "name": "stderr",
     "output_type": "stream",
     "text": [
      "                                                                                \r"
     ]
    },
    {
     "name": "stdout",
     "output_type": "stream",
     "text": [
      "F1-score on Train:  0.9996551883093108\n",
      "F1-score on Test:  0.9994001325631876\n",
      "Current model:  Linear Support Vector Machines\n"
     ]
    },
    {
     "name": "stderr",
     "output_type": "stream",
     "text": [
      "                                                                                \r"
     ]
    },
    {
     "name": "stdout",
     "output_type": "stream",
     "text": [
      "Accuracy on Train:  0.9993721626581668\n",
      "Accuracy on Test:  0.9993338125208183\n"
     ]
    },
    {
     "name": "stderr",
     "output_type": "stream",
     "text": [
      "                                                                                \r"
     ]
    },
    {
     "name": "stdout",
     "output_type": "stream",
     "text": [
      "Precision on Train:  0.9996262257596412\n",
      "Precision on Test:  0.9995609721831975\n"
     ]
    },
    {
     "name": "stderr",
     "output_type": "stream",
     "text": [
      "                                                                                \r"
     ]
    },
    {
     "name": "stdout",
     "output_type": "stream",
     "text": [
      "Recall on Train:  0.9997449237629902\n",
      "Recall on Test:  0.9997716574158645\n"
     ]
    },
    {
     "name": "stderr",
     "output_type": "stream",
     "text": [
      "[Stage 684:>                                                        (0 + 1) / 2]\r"
     ]
    },
    {
     "name": "stdout",
     "output_type": "stream",
     "text": [
      "F1-score on Train:  0.9993607120064036\n",
      "F1-score on Test:  0.9993144441026857\n"
     ]
    },
    {
     "name": "stderr",
     "output_type": "stream",
     "text": [
      "                                                                                \r"
     ]
    }
   ],
   "source": [
    "# instantiate Models\n",
    "\n",
    "# regression\n",
    "lr = LogisticRegression(\n",
    "    featuresCol='features',\n",
    "    labelCol='Class',\n",
    "    predictionCol='Class_Prediction',\n",
    "    maxIter=10,\n",
    "    regParam=0.3,\n",
    "    elasticNetParam=0.8\n",
    ")\n",
    "\n",
    "# decison tree\n",
    "dt = DecisionTreeClassifier(featuresCol='features',\n",
    "    labelCol='Class',\n",
    "    predictionCol='Class_Prediction'\n",
    ")\n",
    "\n",
    "# random forest\n",
    "rf = RandomForestClassifier(\n",
    "    featuresCol='features',\n",
    "    labelCol='Class',\n",
    "    predictionCol='Class_Prediction'\n",
    ")\n",
    "\n",
    "# gradient - boosted tree\n",
    "gbt = GBTClassifier(\n",
    "    featuresCol='features',\n",
    "    labelCol='Class',\n",
    "    predictionCol='Class_Prediction'\n",
    ")\n",
    "\n",
    "# linear support vector machines\n",
    "lsvc = LinearSVC(\n",
    "    featuresCol='features',\n",
    "    labelCol='Class',\n",
    "    predictionCol='Class_Prediction'\n",
    ")\n",
    "\n",
    "# naive bayes\n",
    "#nb = NaiveBayes(\n",
    "    #featuresCol='features',\n",
    "    #labelCol='Class',\n",
    "    #predictionCol='Class_Prediction'\n",
    "    #smoothing=1.0, \n",
    "    #modelType=\"multinomial\"\n",
    "#)\n",
    "\n",
    "\n",
    "\n",
    "\n",
    "# create list of models\n",
    "list_of_models = [lr, dt, rf, gbt, lsvc]\n",
    "list_of_model_names = ['Logistic Regression', 'Decision Tree', 'Random Forest', 'Gradient-Boosted Tree', 'Linear Support Vector Machines']\n",
    "\n",
    "# go through list\n",
    "for model, model_name in zip(list_of_models, list_of_model_names):\n",
    "\n",
    "    # print current model\n",
    "    print('Current model: ', model_name)\n",
    "\n",
    "    # create a pipeline object\n",
    "    pipeline = Pipeline(stages=[model])\n",
    "\n",
    "    # fit pipeline\n",
    "    pipeline_model = pipeline.fit(train_vec)\n",
    "\n",
    "    # get scores on the training set\n",
    "    train_pred = pipeline_model.transform(train_vec)\n",
    "\n",
    "    # get scores on the test set\n",
    "    test_pred = pipeline_model.transform(test_vec)\n",
    "\n",
    "    # get accuracy on train and test set\n",
    "    accuracy_evaluator = MulticlassClassificationEvaluator(predictionCol='Class_Prediction', labelCol='Class', metricName='accuracy')\n",
    "    accuracy_score_train = accuracy_evaluator.evaluate(train_pred)\n",
    "    accuracy_score_test = accuracy_evaluator.evaluate(test_pred)\n",
    "    print('Accuracy on Train: ', accuracy_score_train)\n",
    "    print('Accuracy on Test: ', accuracy_score_test)\n",
    "\n",
    "    # get precision on train and test set\n",
    "    precision_evaluator = MulticlassClassificationEvaluator(predictionCol='Class_Prediction', labelCol='Class', metricName='precisionByLabel')\n",
    "    precision_score_train = precision_evaluator.evaluate(train_pred)\n",
    "    precision_score_test = precision_evaluator.evaluate(test_pred)\n",
    "    print('Precision on Train: ', precision_score_train)\n",
    "    print('Precision on Test: ', precision_score_test)\n",
    "\n",
    "    # get recall on train and test set\n",
    "    recall_evaluator = MulticlassClassificationEvaluator(predictionCol='Class_Prediction', labelCol='Class', metricName='recallByLabel')\n",
    "    recall_score_train = recall_evaluator.evaluate(train_pred)\n",
    "    recall_score_test = recall_evaluator.evaluate(test_pred)\n",
    "    print('Recall on Train: ', recall_score_train)\n",
    "    print('Recall on Test: ', recall_score_test)\n",
    "\n",
    "    # get f1-score on train and test set\n",
    "    f1_evaluator = MulticlassClassificationEvaluator(predictionCol='Class_Prediction', labelCol='Class', metricName='f1')\n",
    "    f1_score_train = f1_evaluator.evaluate(train_pred)\n",
    "    f1_score_test = f1_evaluator.evaluate(test_pred)\n",
    "    print('F1-score on Train: ', f1_score_train)\n",
    "    print('F1-score on Test: ', f1_score_test)\n",
    "\n",
    "    # get confusion matrix on train set\n",
    "    #preds_and_labels = train_pred.select(['Class_Prediction','Class'])\n",
    "\n",
    "    #metrics = MulticlassMetrics(preds_and_labels.rdd.map(tuple))\n",
    "\n",
    "    #print(metrics.confusionMatrix().toArray())"
   ]
  },
  {
   "attachments": {},
   "cell_type": "markdown",
   "metadata": {},
   "source": [
    "#### Conclusions: Imbalanced dataset\n",
    "As expected when working with an imbalanced, binary-targeted dataset, the predictions have excellent values for every metric. This happens because, in this particular case, 99% of records have a value of '0 - not fraud', which means that the model is basically training to predict 0s most of the time. Since the train and test scores have similar values, we can infere that overfitting is not occuring."
   ]
  },
  {
   "attachments": {},
   "cell_type": "markdown",
   "metadata": {},
   "source": [
    "### Working with the balanced dataset\n",
    "\n",
    "First we have to balance the data set. Here we use a random undersampling approach"
   ]
  },
  {
   "cell_type": "code",
   "execution_count": 18,
   "metadata": {},
   "outputs": [
    {
     "name": "stderr",
     "output_type": "stream",
     "text": [
      "[Stage 691:===================>                                     (1 + 1) / 3]\r"
     ]
    },
    {
     "name": "stdout",
     "output_type": "stream",
     "text": [
      "+-------+------------------+------------------+------------------+-----------------+------------------+------------------+------------------+-----------------+-----------------+-------------------+-----------------+------------------+------------------+-----------------+-------------------+-------------------+-------------------+------------------+------------------+------------------+-------------------+------------------+-------------------+------------------+------------------+------------------+-------------------+-------------------+------+-----+\n",
      "|   Time|                V1|                V2|                V3|               V4|                V5|                V6|                V7|               V8|               V9|                V10|              V11|               V12|               V13|              V14|                V15|                V16|                V17|               V18|               V19|               V20|                V21|               V22|                V23|               V24|               V25|               V26|                V27|                V28|Amount|Class|\n",
      "+-------+------------------+------------------+------------------+-----------------+------------------+------------------+------------------+-----------------+-----------------+-------------------+-----------------+------------------+------------------+-----------------+-------------------+-------------------+-------------------+------------------+------------------+------------------+-------------------+------------------+-------------------+------------------+------------------+------------------+-------------------+-------------------+------+-----+\n",
      "|   83.0| -1.86498968243287| 0.910873768593301|  1.72486278713229|-1.74837114894121| 0.578942616730539|-0.832531161092677|  1.90144032810487|-1.91398632240301| 2.11237512526886|   3.01435477715588| 2.02398783867183|-0.481574054647983| -1.39089738708096| -1.5997493546075|  0.159606591790126|-0.0565840624762845|  -1.59388183315229|-0.213254061650524|-0.448706157812056| 0.274876811383353| -0.318597399376679|0.0733227127781932|-0.0616934013159464| 0.547204476795596|-0.466798442117112| 0.408029597981387|  -2.37793292201233|  -1.25554915594256|  7.69|    0|\n",
      "|  190.0|  0.80384592083057|-0.571718051824685|  1.04809269513128|  1.1676766743328| -0.70229191680914|  1.00000258827228|-0.692965323549176|0.483593496081297|0.577314402089821|-0.0972769286329401| 1.36632321477042| 0.946058203273355|-0.533524105591691|0.127500770620155|  0.498989903154023|  -0.11271810228569|-0.0600154540962201|-0.113533179691512|-0.901974944543073|0.0291845975912059|  0.300503012211608| 0.778198922236168| -0.144781428228716|-0.277469207278805| 0.272133428385887|-0.227466876377738| 0.0722366825021862| 0.0389447397720385|127.75|    0|\n",
      "|  108.0|-0.817164489969121| 0.548007876102878|  1.98742900112693|  2.3476202744003|0.0368877421359418|  1.50952321014436| 0.692961314176488|0.508962009401622|-1.25429675386016|  0.174445162255293| 1.10403832340459| 0.309737812044991|-0.837951587211725|0.214179328423134| -0.527740106897755| -0.422317897460667|  0.395338553436818|-0.713973036325154|-0.217067008221473|  0.23386480414758|-0.0473359938181992|-0.324229307041844|   0.23197950515392|-0.335247980507064| 0.161931952468869|0.0146944525029652|-0.0286911681326172|-0.0152570002248224|148.43|    0|\n",
      "|70270.0| -1.51251575792702|  1.13313858781029| -1.60105247993576| 2.81340096831714| -2.66450340578315|-0.310371093924795| -1.52089516380539|0.852995775116439|-1.49649450564954|  -4.05629261571005| 1.55375586796783| -2.74355135914945|  1.50454067059684|-5.42878849870488|-0.0160171233729703|  -3.72718761269833|  -3.94629958919926| -1.68028644319238|  2.30361261010114|  1.24958556268985|  0.729827756052255|  0.48528591471162|  0.567005413227757| 0.323585691602658|0.0408708540928058| 0.825813553299941|   0.41448227186994|  0.267265082454707|318.11|    1|\n",
      "|39729.0|-0.964567282813312| -1.64354066791439|-0.187726849232163| 1.15825311047012| -2.45833564593802| 0.852221660377025|  2.78516254594393|-0.30360853861401| 0.94000553101046|  -1.96530880945923|0.159743522312315|-0.490697387341298|  -1.1819769933833|-1.95887596969497|   1.15274328622613|  -1.34126935794233|   2.49832484974359| 0.777831088916474|   1.4060448737262|  1.78444933498197|  0.447180121733859| 0.536203895046365|   1.63406050110051| 0.203838849073356| 0.218748854725954|-0.221885828382479| -0.308554718022245| -0.164500017914328|776.83|    1|\n",
      "+-------+------------------+------------------+------------------+-----------------+------------------+------------------+------------------+-----------------+-----------------+-------------------+-----------------+------------------+------------------+-----------------+-------------------+-------------------+-------------------+------------------+------------------+------------------+-------------------+------------------+-------------------+------------------+------------------+------------------+-------------------+-------------------+------+-----+\n",
      "only showing top 5 rows\n",
      "\n"
     ]
    },
    {
     "name": "stderr",
     "output_type": "stream",
     "text": [
      "                                                                                \r"
     ]
    }
   ],
   "source": [
    "# balancing the dataset\n",
    "\n",
    "# select fraud and non-fraud transactions and limit non-fraud transactions to the same number as fraud transactions\n",
    "fraud_data = data.filter(f.col('Class') == 1)\n",
    "non_fraud_data = data.filter(f.col('Class') == 0).limit(fraud_data.count())\n",
    "\n",
    "# Combine fraud and non-fraud transactions and shuffle the data\n",
    "balanced_data = fraud_data.union(non_fraud_data).orderBy(f.rand())\n",
    "\n",
    "# Show 5 rows of the shuffled, balanced data\n",
    "balanced_data.show(5)"
   ]
  },
  {
   "cell_type": "code",
   "execution_count": 19,
   "metadata": {},
   "outputs": [
    {
     "name": "stderr",
     "output_type": "stream",
     "text": [
      "                                                                                \r"
     ]
    },
    {
     "name": "stdout",
     "output_type": "stream",
     "text": [
      "Train shape:  (825, 31)\n"
     ]
    },
    {
     "name": "stderr",
     "output_type": "stream",
     "text": [
      "[Stage 708:======================================>                  (2 + 1) / 3]\r"
     ]
    },
    {
     "name": "stdout",
     "output_type": "stream",
     "text": [
      "Test shape:  (159, 31)\n"
     ]
    },
    {
     "name": "stderr",
     "output_type": "stream",
     "text": [
      "                                                                                \r"
     ]
    }
   ],
   "source": [
    "# build a data split: 80/20\n",
    "balanced_train, balanced_test = balanced_data.randomSplit(weights=[0.8, 0.2], seed=42)\n",
    "print('Train shape: ', (balanced_train.count(), len(balanced_train.columns)))\n",
    "print('Test shape: ', (balanced_test.count(), len(balanced_test.columns)))"
   ]
  },
  {
   "cell_type": "code",
   "execution_count": 20,
   "metadata": {},
   "outputs": [
    {
     "name": "stdout",
     "output_type": "stream",
     "text": [
      "['Time', 'V1', 'V2', 'V3', 'V4', 'V5', 'V6', 'V7', 'V8', 'V9', 'V10', 'V11', 'V12', 'V13', 'V14', 'V15', 'V16', 'V17', 'V18', 'V19', 'V20', 'V21', 'V22', 'V23', 'V24', 'V25', 'V26', 'V27', 'V28', 'Amount']\n",
      "30\n"
     ]
    }
   ],
   "source": [
    "# get feature columns names\n",
    "balanced_feature_columns = [col for col in balanced_data.columns if col!= 'Class']\n",
    "print(balanced_feature_columns)\n",
    "print(len(balanced_feature_columns))"
   ]
  },
  {
   "cell_type": "code",
   "execution_count": 21,
   "metadata": {},
   "outputs": [],
   "source": [
    "# vectorize\n",
    "balanced_vectorizer = VectorAssembler(inputCols=balanced_feature_columns, outputCol=\"features\")\n",
    "balanced_train_vec = vectorizer.transform(balanced_train)\n",
    "balanced_test_vec = vectorizer.transform(balanced_test)"
   ]
  },
  {
   "cell_type": "code",
   "execution_count": 22,
   "metadata": {},
   "outputs": [
    {
     "name": "stdout",
     "output_type": "stream",
     "text": [
      "Current model:  Logistic Regression\n"
     ]
    },
    {
     "name": "stderr",
     "output_type": "stream",
     "text": [
      "                                                                                \r"
     ]
    },
    {
     "name": "stdout",
     "output_type": "stream",
     "text": [
      "Accuracy on Train:  0.9551515151515152\n",
      "Accuracy on Test:  0.9245283018867925\n"
     ]
    },
    {
     "name": "stderr",
     "output_type": "stream",
     "text": [
      "                                                                                \r"
     ]
    },
    {
     "name": "stdout",
     "output_type": "stream",
     "text": [
      "Precision on Train:  0.918859649122807\n",
      "Precision on Test:  0.8588235294117647\n"
     ]
    },
    {
     "name": "stderr",
     "output_type": "stream",
     "text": [
      "                                                                                \r"
     ]
    },
    {
     "name": "stdout",
     "output_type": "stream",
     "text": [
      "Recall on Train:  1.0\n",
      "Recall on Test:  1.0\n"
     ]
    },
    {
     "name": "stderr",
     "output_type": "stream",
     "text": [
      "                                                                                \r"
     ]
    },
    {
     "name": "stdout",
     "output_type": "stream",
     "text": [
      "F1-score on Train:  0.9550291635246474\n",
      "F1-score on Test:  0.9245641270599474\n",
      "Current model:  Decision Tree\n"
     ]
    },
    {
     "name": "stderr",
     "output_type": "stream",
     "text": [
      "                                                                                \r"
     ]
    },
    {
     "name": "stdout",
     "output_type": "stream",
     "text": [
      "Accuracy on Train:  1.0\n",
      "Accuracy on Test:  1.0\n"
     ]
    },
    {
     "name": "stderr",
     "output_type": "stream",
     "text": [
      "                                                                                \r"
     ]
    },
    {
     "name": "stdout",
     "output_type": "stream",
     "text": [
      "Precision on Train:  1.0\n",
      "Precision on Test:  1.0\n"
     ]
    },
    {
     "name": "stderr",
     "output_type": "stream",
     "text": [
      "                                                                                \r"
     ]
    },
    {
     "name": "stdout",
     "output_type": "stream",
     "text": [
      "Recall on Train:  1.0\n",
      "Recall on Test:  1.0\n"
     ]
    },
    {
     "name": "stderr",
     "output_type": "stream",
     "text": [
      "                                                                                \r"
     ]
    },
    {
     "name": "stdout",
     "output_type": "stream",
     "text": [
      "F1-score on Train:  1.0\n",
      "F1-score on Test:  1.0\n",
      "Current model:  Random Forest\n"
     ]
    },
    {
     "name": "stderr",
     "output_type": "stream",
     "text": [
      "                                                                                \r"
     ]
    },
    {
     "name": "stdout",
     "output_type": "stream",
     "text": [
      "Accuracy on Train:  1.0\n",
      "Accuracy on Test:  1.0\n"
     ]
    },
    {
     "name": "stderr",
     "output_type": "stream",
     "text": [
      "                                                                                \r"
     ]
    },
    {
     "name": "stdout",
     "output_type": "stream",
     "text": [
      "Precision on Train:  1.0\n",
      "Precision on Test:  1.0\n"
     ]
    },
    {
     "name": "stderr",
     "output_type": "stream",
     "text": [
      "                                                                                \r"
     ]
    },
    {
     "name": "stdout",
     "output_type": "stream",
     "text": [
      "Recall on Train:  1.0\n",
      "Recall on Test:  1.0\n"
     ]
    },
    {
     "name": "stderr",
     "output_type": "stream",
     "text": [
      "                                                                                \r"
     ]
    },
    {
     "name": "stdout",
     "output_type": "stream",
     "text": [
      "F1-score on Train:  1.0\n",
      "F1-score on Test:  1.0\n",
      "Current model:  Gradient-Boosted Tree\n"
     ]
    },
    {
     "name": "stderr",
     "output_type": "stream",
     "text": [
      "                                                                                \r"
     ]
    },
    {
     "name": "stdout",
     "output_type": "stream",
     "text": [
      "Accuracy on Train:  1.0\n",
      "Accuracy on Test:  1.0\n"
     ]
    },
    {
     "name": "stderr",
     "output_type": "stream",
     "text": [
      "                                                                                \r"
     ]
    },
    {
     "name": "stdout",
     "output_type": "stream",
     "text": [
      "Precision on Train:  1.0\n",
      "Precision on Test:  1.0\n"
     ]
    },
    {
     "name": "stderr",
     "output_type": "stream",
     "text": [
      "                                                                                \r"
     ]
    },
    {
     "name": "stdout",
     "output_type": "stream",
     "text": [
      "Recall on Train:  1.0\n",
      "Recall on Test:  1.0\n"
     ]
    },
    {
     "name": "stderr",
     "output_type": "stream",
     "text": [
      "                                                                                \r"
     ]
    },
    {
     "name": "stdout",
     "output_type": "stream",
     "text": [
      "F1-score on Train:  1.0\n",
      "F1-score on Test:  1.0\n",
      "Current model:  Linear Support Vector Machines\n"
     ]
    },
    {
     "name": "stderr",
     "output_type": "stream",
     "text": [
      "                                                                                \r"
     ]
    },
    {
     "name": "stdout",
     "output_type": "stream",
     "text": [
      "Accuracy on Train:  1.0\n",
      "Accuracy on Test:  0.9874213836477987\n"
     ]
    },
    {
     "name": "stderr",
     "output_type": "stream",
     "text": [
      "                                                                                \r"
     ]
    },
    {
     "name": "stdout",
     "output_type": "stream",
     "text": [
      "Precision on Train:  1.0\n",
      "Precision on Test:  0.9733333333333334\n"
     ]
    },
    {
     "name": "stderr",
     "output_type": "stream",
     "text": [
      "                                                                                \r"
     ]
    },
    {
     "name": "stdout",
     "output_type": "stream",
     "text": [
      "Recall on Train:  1.0\n",
      "Recall on Test:  1.0\n"
     ]
    },
    {
     "name": "stderr",
     "output_type": "stream",
     "text": [
      "[Stage 2099:=====================================>                  (2 + 1) / 3]\r"
     ]
    },
    {
     "name": "stdout",
     "output_type": "stream",
     "text": [
      "F1-score on Train:  1.0\n",
      "F1-score on Test:  0.9874323824379319\n"
     ]
    },
    {
     "name": "stderr",
     "output_type": "stream",
     "text": [
      "                                                                                \r"
     ]
    }
   ],
   "source": [
    "# instantiate Models\n",
    "\n",
    "# regression\n",
    "balanced_lr = LogisticRegression(\n",
    "    featuresCol='features',\n",
    "    labelCol='Class',\n",
    "    predictionCol='Class_Prediction',\n",
    "    maxIter=10,\n",
    "    regParam=0.3,\n",
    "    elasticNetParam=0.8\n",
    ")\n",
    "\n",
    "# decison tree\n",
    "balanced_dt = DecisionTreeClassifier(featuresCol='features',\n",
    "    labelCol='Class',\n",
    "    predictionCol='Class_Prediction'\n",
    ")\n",
    "\n",
    "# random forest\n",
    "balanced_rf = RandomForestClassifier(\n",
    "    featuresCol='features',\n",
    "    labelCol='Class',\n",
    "    predictionCol='Class_Prediction'\n",
    ")\n",
    "\n",
    "# gradient - boosted tree\n",
    "balanced_gbt = GBTClassifier(\n",
    "    featuresCol='features',\n",
    "    labelCol='Class',\n",
    "    predictionCol='Class_Prediction'\n",
    ")\n",
    "\n",
    "# linear support vector machines\n",
    "balanced_lsvc = LinearSVC(\n",
    "    featuresCol='features',\n",
    "    labelCol='Class',\n",
    "    predictionCol='Class_Prediction'\n",
    ")\n",
    "\n",
    "# naive bayes\n",
    "#balanced_nb = NaiveBayes(\n",
    "    #featuresCol='features',\n",
    "    #labelCol='Class',\n",
    "    #predictionCol='Class_Prediction'\n",
    "    #smoothing=1.0, \n",
    "    #modelType=\"multinomial\"\n",
    "#)\n",
    "\n",
    "\n",
    "\n",
    "\n",
    "# create list of models\n",
    "balanced_list_of_models = [balanced_lr, balanced_dt, balanced_rf, balanced_gbt, balanced_lsvc]\n",
    "balanced_list_of_model_names = ['Logistic Regression', 'Decision Tree', 'Random Forest', 'Gradient-Boosted Tree', 'Linear Support Vector Machines']\n",
    "\n",
    "# go through list\n",
    "for balanced_model, balanced_model_name in zip(balanced_list_of_models, balanced_list_of_model_names):\n",
    "\n",
    "    # print current model\n",
    "    print('Current model: ', balanced_model_name)\n",
    "\n",
    "    # create a pipeline object\n",
    "    balanced_pipeline = Pipeline(stages=[balanced_model])\n",
    "\n",
    "    # fit pipeline\n",
    "    balanced_pipeline_model = balanced_pipeline.fit(balanced_train_vec)\n",
    "\n",
    "    # get scores on the training set\n",
    "    balanced_train_pred = balanced_pipeline_model.transform(balanced_train_vec)\n",
    "\n",
    "    # get scores on the test set\n",
    "    balanced_test_pred = balanced_pipeline_model.transform(balanced_test_vec)\n",
    "\n",
    "    # get accuracy on train and test set\n",
    "    balanced_accuracy_evaluator = MulticlassClassificationEvaluator(predictionCol='Class_Prediction', labelCol='Class', metricName='accuracy')\n",
    "    balanced_accuracy_score_train = balanced_accuracy_evaluator.evaluate(balanced_train_pred)\n",
    "    balanced_accuracy_score_test = balanced_accuracy_evaluator.evaluate(balanced_test_pred)\n",
    "    print('Accuracy on Train: ', balanced_accuracy_score_train)\n",
    "    print('Accuracy on Test: ', balanced_accuracy_score_test)\n",
    "\n",
    "    # get precision on train and test set\n",
    "    balanced_precision_evaluator = MulticlassClassificationEvaluator(predictionCol='Class_Prediction', labelCol='Class', metricName='precisionByLabel')\n",
    "    balanced_precision_score_train = balanced_precision_evaluator.evaluate(balanced_train_pred)\n",
    "    balanced_precision_score_test = balanced_precision_evaluator.evaluate(balanced_test_pred)\n",
    "    print('Precision on Train: ', balanced_precision_score_train)\n",
    "    print('Precision on Test: ', balanced_precision_score_test)\n",
    "\n",
    "    # get recall on train and test set\n",
    "    balanced_recall_evaluator = MulticlassClassificationEvaluator(predictionCol='Class_Prediction', labelCol='Class', metricName='recallByLabel')\n",
    "    balanced_recall_score_train = balanced_recall_evaluator.evaluate(balanced_train_pred)\n",
    "    balanced_recall_score_test = balanced_recall_evaluator.evaluate(balanced_test_pred)\n",
    "    print('Recall on Train: ', balanced_recall_score_train)\n",
    "    print('Recall on Test: ', balanced_recall_score_test)\n",
    "\n",
    "    # get f1-score on train and test set\n",
    "    balanced_f1_evaluator = MulticlassClassificationEvaluator(predictionCol='Class_Prediction', labelCol='Class', metricName='f1')\n",
    "    balanced_f1_score_train = balanced_f1_evaluator.evaluate(balanced_train_pred)\n",
    "    balanced_f1_score_test = balanced_f1_evaluator.evaluate(balanced_test_pred)\n",
    "    print('F1-score on Train: ', balanced_f1_score_train)\n",
    "    print('F1-score on Test: ', balanced_f1_score_test)\n",
    "\n",
    "    # get confusion matrix on train and test set\n"
   ]
  },
  {
   "attachments": {},
   "cell_type": "markdown",
   "metadata": {},
   "source": [
    "#### Conclusions: Balanced dataset\n",
    "We can see that, for Logistic Regression, the scores for Accuracy, Precision and F1 decreased  for both the train and test sets. Furthermore, when looking at the results for the Decision Trees, Random Forest and Gradient-Bosted Trees, the values were better, since we achieved the value of '1' for every metric. Finally, for Linear Support Vector Machines, every metric for the train set achieved a value of 1, whilst the metrics for the test set varied a little, but still achieving significant high scores (with the exception of the Recall metric, which achieved a value of 1 for both the train and test set). Overall, we arrived at the conclusion that the results, when working with the balanced dataset were better."
   ]
  },
  {
   "cell_type": "markdown",
   "metadata": {},
   "source": []
  }
 ],
 "metadata": {
  "kernelspec": {
   "display_name": "code",
   "language": "python",
   "name": "python3"
  },
  "language_info": {
   "codemirror_mode": {
    "name": "ipython",
    "version": 3
   },
   "file_extension": ".py",
   "mimetype": "text/x-python",
   "name": "python",
   "nbconvert_exporter": "python",
   "pygments_lexer": "ipython3",
   "version": "3.10.9"
  },
  "orig_nbformat": 4
 },
 "nbformat": 4,
 "nbformat_minor": 2
}

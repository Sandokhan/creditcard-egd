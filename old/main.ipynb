{
 "cells": [
  {
   "cell_type": "code",
   "execution_count": 1,
   "metadata": {
    "collapsed": true,
    "ExecuteTime": {
     "start_time": "2023-04-22T11:13:19.093889Z",
     "end_time": "2023-04-22T11:13:25.018460Z"
    }
   },
   "outputs": [
    {
     "name": "stdout",
     "output_type": "stream",
     "text": [
      "23/04/22 11:13:22 WARN Utils: Your hostname, rhaydrick-6.local resolves to a loopback address: 127.0.0.1; using 10.227.147.88 instead (on interface en0)\n",
      "23/04/22 11:13:22 WARN Utils: Set SPARK_LOCAL_IP if you need to bind to another address\n"
     ]
    },
    {
     "name": "stderr",
     "output_type": "stream",
     "text": [
      "Setting default log level to \"WARN\".\n",
      "To adjust logging level use sc.setLogLevel(newLevel). For SparkR, use setLogLevel(newLevel).\n"
     ]
    },
    {
     "name": "stdout",
     "output_type": "stream",
     "text": [
      "23/04/22 11:13:23 WARN NativeCodeLoader: Unable to load native-hadoop library for your platform... using builtin-java classes where applicable\n"
     ]
    }
   ],
   "source": [
    "import numpy as np\n",
    "import seaborn as sns\n",
    "import matplotlib.pyplot as plt\n",
    "import pyspark.sql.functions as f\n",
    "from pyspark.sql import SparkSession\n",
    "\n",
    "spark = SparkSession \\\n",
    "    .builder \\\n",
    "    .master(\"local\") \\\n",
    "    .appName(\"xpto\") \\\n",
    "    .getOrCreate()\n",
    "sc = spark.sparkContext"
   ]
  },
  {
   "cell_type": "code",
   "execution_count": 2,
   "outputs": [
    {
     "name": "stderr",
     "output_type": "stream",
     "text": [
      "[Stage 1:=============================>                             (1 + 1) / 2]\r"
     ]
    },
    {
     "name": "stdout",
     "output_type": "stream",
     "text": [
      "root\n",
      " |-- Time: double (nullable = true)\n",
      " |-- V1: double (nullable = true)\n",
      " |-- V2: double (nullable = true)\n",
      " |-- V3: double (nullable = true)\n",
      " |-- V4: double (nullable = true)\n",
      " |-- V5: double (nullable = true)\n",
      " |-- V6: double (nullable = true)\n",
      " |-- V7: double (nullable = true)\n",
      " |-- V8: double (nullable = true)\n",
      " |-- V9: double (nullable = true)\n",
      " |-- V10: double (nullable = true)\n",
      " |-- V11: double (nullable = true)\n",
      " |-- V12: double (nullable = true)\n",
      " |-- V13: double (nullable = true)\n",
      " |-- V14: double (nullable = true)\n",
      " |-- V15: double (nullable = true)\n",
      " |-- V16: double (nullable = true)\n",
      " |-- V17: double (nullable = true)\n",
      " |-- V18: double (nullable = true)\n",
      " |-- V19: double (nullable = true)\n",
      " |-- V20: double (nullable = true)\n",
      " |-- V21: double (nullable = true)\n",
      " |-- V22: double (nullable = true)\n",
      " |-- V23: double (nullable = true)\n",
      " |-- V24: double (nullable = true)\n",
      " |-- V25: double (nullable = true)\n",
      " |-- V26: double (nullable = true)\n",
      " |-- V27: double (nullable = true)\n",
      " |-- V28: double (nullable = true)\n",
      " |-- Amount: double (nullable = true)\n",
      " |-- Class: integer (nullable = true)\n",
      "\n"
     ]
    },
    {
     "name": "stderr",
     "output_type": "stream",
     "text": [
      "                                                                                \r"
     ]
    }
   ],
   "source": [
    "# Load file\n",
    "df = spark.read.csv('datasets/creditcard.csv', header=True, inferSchema=True, sep=\",\")\n",
    "\n",
    "# Print Schema\n",
    "df.printSchema()"
   ],
   "metadata": {
    "collapsed": false,
    "ExecuteTime": {
     "start_time": "2023-04-22T11:13:56.139816Z",
     "end_time": "2023-04-22T11:14:04.892686Z"
    }
   }
  },
  {
   "cell_type": "code",
   "execution_count": 3,
   "outputs": [
    {
     "name": "stdout",
     "output_type": "stream",
     "text": [
      "23/04/22 11:14:23 WARN package: Truncated the string representation of a plan since it was too large. This behavior can be adjusted by setting 'spark.sql.debug.maxToStringFields'.\n"
     ]
    },
    {
     "data": {
      "text/plain": "[Row(Time=0.0, V1=-1.3598071336738, V2=-0.0727811733098497, V3=2.53634673796914, V4=1.37815522427443, V5=-0.338320769942518, V6=0.462387777762292, V7=0.239598554061257, V8=0.0986979012610507, V9=0.363786969611213, V10=0.0907941719789316, V11=-0.551599533260813, V12=-0.617800855762348, V13=-0.991389847235408, V14=-0.311169353699879, V15=1.46817697209427, V16=-0.470400525259478, V17=0.207971241929242, V18=0.0257905801985591, V19=0.403992960255733, V20=0.251412098239705, V21=-0.018306777944153, V22=0.277837575558899, V23=-0.110473910188767, V24=0.0669280749146731, V25=0.128539358273528, V26=-0.189114843888824, V27=0.133558376740387, V28=-0.0210530534538215, Amount=149.62, Class=0),\n Row(Time=0.0, V1=1.19185711131486, V2=0.26615071205963, V3=0.16648011335321, V4=0.448154078460911, V5=0.0600176492822243, V6=-0.0823608088155687, V7=-0.0788029833323113, V8=0.0851016549148104, V9=-0.255425128109186, V10=-0.166974414004614, V11=1.61272666105479, V12=1.06523531137287, V13=0.48909501589608, V14=-0.143772296441519, V15=0.635558093258208, V16=0.463917041022171, V17=-0.114804663102346, V18=-0.183361270123994, V19=-0.145783041325259, V20=-0.0690831352230203, V21=-0.225775248033138, V22=-0.638671952771851, V23=0.101288021253234, V24=-0.339846475529127, V25=0.167170404418143, V26=0.125894532368176, V27=-0.00898309914322813, V28=0.0147241691924927, Amount=2.69, Class=0),\n Row(Time=1.0, V1=-1.35835406159823, V2=-1.34016307473609, V3=1.77320934263119, V4=0.379779593034328, V5=-0.503198133318193, V6=1.80049938079263, V7=0.791460956450422, V8=0.247675786588991, V9=-1.51465432260583, V10=0.207642865216696, V11=0.624501459424895, V12=0.066083685268831, V13=0.717292731410831, V14=-0.165945922763554, V15=2.34586494901581, V16=-2.89008319444231, V17=1.10996937869599, V18=-0.121359313195888, V19=-2.26185709530414, V20=0.524979725224404, V21=0.247998153469754, V22=0.771679401917229, V23=0.909412262347719, V24=-0.689280956490685, V25=-0.327641833735251, V26=-0.139096571514147, V27=-0.0553527940384261, V28=-0.0597518405929204, Amount=378.66, Class=0),\n Row(Time=1.0, V1=-0.966271711572087, V2=-0.185226008082898, V3=1.79299333957872, V4=-0.863291275036453, V5=-0.0103088796030823, V6=1.24720316752486, V7=0.23760893977178, V8=0.377435874652262, V9=-1.38702406270197, V10=-0.0549519224713749, V11=-0.226487263835401, V12=0.178228225877303, V13=0.507756869957169, V14=-0.28792374549456, V15=-0.631418117709045, V16=-1.0596472454325, V17=-0.684092786345479, V18=1.96577500349538, V19=-1.2326219700892, V20=-0.208037781160366, V21=-0.108300452035545, V22=0.00527359678253453, V23=-0.190320518742841, V24=-1.17557533186321, V25=0.647376034602038, V26=-0.221928844458407, V27=0.0627228487293033, V28=0.0614576285006353, Amount=123.5, Class=0),\n Row(Time=2.0, V1=-1.15823309349523, V2=0.877736754848451, V3=1.548717846511, V4=0.403033933955121, V5=-0.407193377311653, V6=0.0959214624684256, V7=0.592940745385545, V8=-0.270532677192282, V9=0.817739308235294, V10=0.753074431976354, V11=-0.822842877946363, V12=0.53819555014995, V13=1.3458515932154, V14=-1.11966983471731, V15=0.175121130008994, V16=-0.451449182813529, V17=-0.237033239362776, V18=-0.0381947870352842, V19=0.803486924960175, V20=0.408542360392758, V21=-0.00943069713232919, V22=0.79827849458971, V23=-0.137458079619063, V24=0.141266983824769, V25=-0.206009587619756, V26=0.502292224181569, V27=0.219422229513348, V28=0.215153147499206, Amount=69.99, Class=0)]"
     },
     "execution_count": 3,
     "metadata": {},
     "output_type": "execute_result"
    }
   ],
   "source": [
    "df.take(5)"
   ],
   "metadata": {
    "collapsed": false,
    "ExecuteTime": {
     "start_time": "2023-04-22T11:14:23.105737Z",
     "end_time": "2023-04-22T11:14:23.604682Z"
    }
   }
  },
  {
   "cell_type": "code",
   "execution_count": 4,
   "outputs": [
    {
     "data": {
      "text/plain": "284807"
     },
     "execution_count": 4,
     "metadata": {},
     "output_type": "execute_result"
    }
   ],
   "source": [
    "df.count()"
   ],
   "metadata": {
    "collapsed": false,
    "ExecuteTime": {
     "start_time": "2023-04-22T11:50:34.101823Z",
     "end_time": "2023-04-22T11:50:35.512637Z"
    }
   }
  },
  {
   "cell_type": "code",
   "execution_count": null,
   "outputs": [],
   "source": [],
   "metadata": {
    "collapsed": false
   }
  }
 ],
 "metadata": {
  "kernelspec": {
   "display_name": "Python 3",
   "language": "python",
   "name": "python3"
  },
  "language_info": {
   "codemirror_mode": {
    "name": "ipython",
    "version": 2
   },
   "file_extension": ".py",
   "mimetype": "text/x-python",
   "name": "python",
   "nbconvert_exporter": "python",
   "pygments_lexer": "ipython2",
   "version": "2.7.6"
  }
 },
 "nbformat": 4,
 "nbformat_minor": 0
}
